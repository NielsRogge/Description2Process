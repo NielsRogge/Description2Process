{
  "nbformat": 4,
  "nbformat_minor": 0,
  "metadata": {
    "colab": {
      "name": "Description2process in action.ipynb",
      "version": "0.3.2",
      "provenance": [],
      "toc_visible": true
    },
    "kernelspec": {
      "name": "python3",
      "display_name": "Python 3"
    },
    "accelerator": "GPU"
  },
  "cells": [
    {
      "cell_type": "markdown",
      "metadata": {
        "id": "586eFC7I38vT",
        "colab_type": "text"
      },
      "source": [
        "# Description2process in action\n",
        "In this interactive notebook, we show the most important functionality of the Description2Process library, to transform a textual description into a process model in XML format. The library consists of 10 modules: the 8 steps of the pipeline as outlined in our thesis, a data generation module and lastly an evaluation module. Below, we show all major functionality on one particular description. However, first we need to set-up the environment and install the library from PyPi."
      ]
    },
    {
      "cell_type": "markdown",
      "metadata": {
        "id": "04mEv_fb421e",
        "colab_type": "text"
      },
      "source": [
        "## Setting up the environment and installation"
      ]
    },
    {
      "cell_type": "markdown",
      "metadata": {
        "id": "pI0AlUNiD_Ck",
        "colab_type": "text"
      },
      "source": [
        "Packages that do not (yet) install automatically with the library 'description2process' should first be installed."
      ]
    },
    {
      "cell_type": "code",
      "metadata": {
        "id": "PQD6fyKP35S0",
        "colab_type": "code",
        "outputId": "b34ef433-a05f-438c-f5a2-a283b1cc64b4",
        "colab": {
          "base_uri": "https://localhost:8080/",
          "height": 4424
        }
      },
      "source": [
        "!pip install spacy==2.1.3\n",
        "!pip install neuralcoref==4.0\n",
        "!pip install benepar\n",
        "!pip install allennlp"
      ],
      "execution_count": 1,
      "outputs": [
        {
          "output_type": "stream",
          "text": [
            "Collecting spacy==2.1.3\n",
            "\u001b[?25l  Downloading https://files.pythonhosted.org/packages/52/da/3a1c54694c2d2f40df82f38a19ae14c6eb24a5a1a0dae87205ebea7a84d8/spacy-2.1.3-cp36-cp36m-manylinux1_x86_64.whl (27.7MB)\n",
            "\u001b[K     |████████████████████████████████| 27.7MB 1.6MB/s \n",
            "\u001b[?25hCollecting srsly<1.1.0,>=0.0.5 (from spacy==2.1.3)\n",
            "\u001b[?25l  Downloading https://files.pythonhosted.org/packages/6b/97/47753e3393aa4b18de9f942fac26f18879d1ae950243a556888f389d1398/srsly-0.0.5-cp36-cp36m-manylinux1_x86_64.whl (180kB)\n",
            "\u001b[K     |████████████████████████████████| 184kB 46.6MB/s \n",
            "\u001b[?25hRequirement already satisfied: plac<1.0.0,>=0.9.6 in /usr/local/lib/python3.6/dist-packages (from spacy==2.1.3) (0.9.6)\n",
            "Collecting wasabi<1.1.0,>=0.2.0 (from spacy==2.1.3)\n",
            "  Downloading https://files.pythonhosted.org/packages/f4/c1/d76ccdd12c716be79162d934fe7de4ac8a318b9302864716dde940641a79/wasabi-0.2.2-py3-none-any.whl\n",
            "Requirement already satisfied: cymem<2.1.0,>=2.0.2 in /usr/local/lib/python3.6/dist-packages (from spacy==2.1.3) (2.0.2)\n",
            "Requirement already satisfied: requests<3.0.0,>=2.13.0 in /usr/local/lib/python3.6/dist-packages (from spacy==2.1.3) (2.21.0)\n",
            "Requirement already satisfied: murmurhash<1.1.0,>=0.28.0 in /usr/local/lib/python3.6/dist-packages (from spacy==2.1.3) (1.0.2)\n",
            "Requirement already satisfied: jsonschema<3.0.0,>=2.6.0 in /usr/local/lib/python3.6/dist-packages (from spacy==2.1.3) (2.6.0)\n",
            "Requirement already satisfied: numpy>=1.15.0 in /usr/local/lib/python3.6/dist-packages (from spacy==2.1.3) (1.16.3)\n",
            "Collecting thinc<7.1.0,>=7.0.2 (from spacy==2.1.3)\n",
            "\u001b[?25l  Downloading https://files.pythonhosted.org/packages/a9/f1/3df317939a07b2fc81be1a92ac10bf836a1d87b4016346b25f8b63dee321/thinc-7.0.4-cp36-cp36m-manylinux1_x86_64.whl (2.1MB)\n",
            "\u001b[K     |████████████████████████████████| 2.1MB 38.7MB/s \n",
            "\u001b[?25hCollecting blis<0.3.0,>=0.2.2 (from spacy==2.1.3)\n",
            "\u001b[?25l  Downloading https://files.pythonhosted.org/packages/34/46/b1d0bb71d308e820ed30316c5f0a017cb5ef5f4324bcbc7da3cf9d3b075c/blis-0.2.4-cp36-cp36m-manylinux1_x86_64.whl (3.2MB)\n",
            "\u001b[K     |████████████████████████████████| 3.2MB 40.9MB/s \n",
            "\u001b[?25hRequirement already satisfied: preshed<2.1.0,>=2.0.1 in /usr/local/lib/python3.6/dist-packages (from spacy==2.1.3) (2.0.1)\n",
            "Requirement already satisfied: certifi>=2017.4.17 in /usr/local/lib/python3.6/dist-packages (from requests<3.0.0,>=2.13.0->spacy==2.1.3) (2019.3.9)\n",
            "Requirement already satisfied: urllib3<1.25,>=1.21.1 in /usr/local/lib/python3.6/dist-packages (from requests<3.0.0,>=2.13.0->spacy==2.1.3) (1.24.3)\n",
            "Requirement already satisfied: chardet<3.1.0,>=3.0.2 in /usr/local/lib/python3.6/dist-packages (from requests<3.0.0,>=2.13.0->spacy==2.1.3) (3.0.4)\n",
            "Requirement already satisfied: idna<2.9,>=2.5 in /usr/local/lib/python3.6/dist-packages (from requests<3.0.0,>=2.13.0->spacy==2.1.3) (2.8)\n",
            "Requirement already satisfied: tqdm<5.0.0,>=4.10.0 in /usr/local/lib/python3.6/dist-packages (from thinc<7.1.0,>=7.0.2->spacy==2.1.3) (4.28.1)\n",
            "Installing collected packages: srsly, wasabi, blis, thinc, spacy\n",
            "  Found existing installation: thinc 6.12.1\n",
            "    Uninstalling thinc-6.12.1:\n",
            "      Successfully uninstalled thinc-6.12.1\n",
            "  Found existing installation: spacy 2.0.18\n",
            "    Uninstalling spacy-2.0.18:\n",
            "      Successfully uninstalled spacy-2.0.18\n",
            "Successfully installed blis-0.2.4 spacy-2.1.3 srsly-0.0.5 thinc-7.0.4 wasabi-0.2.2\n",
            "Collecting neuralcoref==4.0\n",
            "\u001b[?25l  Downloading https://files.pythonhosted.org/packages/ea/24/0ec7845a5b73b637aa691ff4d1b9b48f3a0f3369f4002a59ffd7a7462fdb/neuralcoref-4.0-cp36-cp36m-manylinux1_x86_64.whl (287kB)\n",
            "\u001b[K     |████████████████████████████████| 296kB 1.9MB/s \n",
            "\u001b[?25hRequirement already satisfied: numpy>=1.15.0 in /usr/local/lib/python3.6/dist-packages (from neuralcoref==4.0) (1.16.3)\n",
            "Requirement already satisfied: requests<3.0.0,>=2.13.0 in /usr/local/lib/python3.6/dist-packages (from neuralcoref==4.0) (2.21.0)\n",
            "Requirement already satisfied: boto3 in /usr/local/lib/python3.6/dist-packages (from neuralcoref==4.0) (1.9.147)\n",
            "Requirement already satisfied: spacy>=2.1.0 in /usr/local/lib/python3.6/dist-packages (from neuralcoref==4.0) (2.1.3)\n",
            "Requirement already satisfied: chardet<3.1.0,>=3.0.2 in /usr/local/lib/python3.6/dist-packages (from requests<3.0.0,>=2.13.0->neuralcoref==4.0) (3.0.4)\n",
            "Requirement already satisfied: urllib3<1.25,>=1.21.1 in /usr/local/lib/python3.6/dist-packages (from requests<3.0.0,>=2.13.0->neuralcoref==4.0) (1.24.3)\n",
            "Requirement already satisfied: idna<2.9,>=2.5 in /usr/local/lib/python3.6/dist-packages (from requests<3.0.0,>=2.13.0->neuralcoref==4.0) (2.8)\n",
            "Requirement already satisfied: certifi>=2017.4.17 in /usr/local/lib/python3.6/dist-packages (from requests<3.0.0,>=2.13.0->neuralcoref==4.0) (2019.3.9)\n",
            "Requirement already satisfied: jmespath<1.0.0,>=0.7.1 in /usr/local/lib/python3.6/dist-packages (from boto3->neuralcoref==4.0) (0.9.4)\n",
            "Requirement already satisfied: s3transfer<0.3.0,>=0.2.0 in /usr/local/lib/python3.6/dist-packages (from boto3->neuralcoref==4.0) (0.2.0)\n",
            "Requirement already satisfied: botocore<1.13.0,>=1.12.147 in /usr/local/lib/python3.6/dist-packages (from boto3->neuralcoref==4.0) (1.12.147)\n",
            "Requirement already satisfied: blis<0.3.0,>=0.2.2 in /usr/local/lib/python3.6/dist-packages (from spacy>=2.1.0->neuralcoref==4.0) (0.2.4)\n",
            "Requirement already satisfied: srsly<1.1.0,>=0.0.5 in /usr/local/lib/python3.6/dist-packages (from spacy>=2.1.0->neuralcoref==4.0) (0.0.5)\n",
            "Requirement already satisfied: murmurhash<1.1.0,>=0.28.0 in /usr/local/lib/python3.6/dist-packages (from spacy>=2.1.0->neuralcoref==4.0) (1.0.2)\n",
            "Requirement already satisfied: thinc<7.1.0,>=7.0.2 in /usr/local/lib/python3.6/dist-packages (from spacy>=2.1.0->neuralcoref==4.0) (7.0.4)\n",
            "Requirement already satisfied: jsonschema<3.0.0,>=2.6.0 in /usr/local/lib/python3.6/dist-packages (from spacy>=2.1.0->neuralcoref==4.0) (2.6.0)\n",
            "Requirement already satisfied: preshed<2.1.0,>=2.0.1 in /usr/local/lib/python3.6/dist-packages (from spacy>=2.1.0->neuralcoref==4.0) (2.0.1)\n",
            "Requirement already satisfied: plac<1.0.0,>=0.9.6 in /usr/local/lib/python3.6/dist-packages (from spacy>=2.1.0->neuralcoref==4.0) (0.9.6)\n",
            "Requirement already satisfied: wasabi<1.1.0,>=0.2.0 in /usr/local/lib/python3.6/dist-packages (from spacy>=2.1.0->neuralcoref==4.0) (0.2.2)\n",
            "Requirement already satisfied: cymem<2.1.0,>=2.0.2 in /usr/local/lib/python3.6/dist-packages (from spacy>=2.1.0->neuralcoref==4.0) (2.0.2)\n",
            "Requirement already satisfied: docutils>=0.10 in /usr/local/lib/python3.6/dist-packages (from botocore<1.13.0,>=1.12.147->boto3->neuralcoref==4.0) (0.14)\n",
            "Requirement already satisfied: python-dateutil<3.0.0,>=2.1; python_version >= \"2.7\" in /usr/local/lib/python3.6/dist-packages (from botocore<1.13.0,>=1.12.147->boto3->neuralcoref==4.0) (2.5.3)\n",
            "Requirement already satisfied: tqdm<5.0.0,>=4.10.0 in /usr/local/lib/python3.6/dist-packages (from thinc<7.1.0,>=7.0.2->spacy>=2.1.0->neuralcoref==4.0) (4.28.1)\n",
            "Requirement already satisfied: six>=1.5 in /usr/local/lib/python3.6/dist-packages (from python-dateutil<3.0.0,>=2.1; python_version >= \"2.7\"->botocore<1.13.0,>=1.12.147->boto3->neuralcoref==4.0) (1.12.0)\n",
            "Installing collected packages: neuralcoref\n",
            "Successfully installed neuralcoref-4.0\n",
            "Collecting benepar\n",
            "\u001b[?25l  Downloading https://files.pythonhosted.org/packages/a0/7b/6cd9c60e1613a5ad388b4f883fa2aeaddcd8a7ad0a8d5ed87e0d23f159d8/benepar-0.1.2.tar.gz (72kB)\n",
            "\u001b[K     |████████████████████████████████| 81kB 2.0MB/s \n",
            "\u001b[?25hRequirement already satisfied: cython in /usr/local/lib/python3.6/dist-packages (from benepar) (0.29.7)\n",
            "Requirement already satisfied: numpy in /usr/local/lib/python3.6/dist-packages (from benepar) (1.16.3)\n",
            "Requirement already satisfied: nltk>=3.2 in /usr/local/lib/python3.6/dist-packages (from benepar) (3.2.5)\n",
            "Requirement already satisfied: six in /usr/local/lib/python3.6/dist-packages (from nltk>=3.2->benepar) (1.12.0)\n",
            "Building wheels for collected packages: benepar\n",
            "  Building wheel for benepar (setup.py) ... \u001b[?25l\u001b[?25hdone\n",
            "  Stored in directory: /root/.cache/pip/wheels/c6/f5/06/d88543b19a9b326007d7538298a139e994b1d2eecb003bf5af\n",
            "Successfully built benepar\n",
            "Installing collected packages: benepar\n",
            "Successfully installed benepar-0.1.2\n",
            "Collecting allennlp\n",
            "\u001b[?25l  Downloading https://files.pythonhosted.org/packages/a4/c8/10342a6068a8d156a5947e03c95525d559e71ad62de0f2585ab922e14533/allennlp-0.8.3-py3-none-any.whl (5.6MB)\n",
            "\u001b[K     |████████████████████████████████| 5.6MB 1.6MB/s \n",
            "\u001b[?25hRequirement already satisfied: pytest in /usr/local/lib/python3.6/dist-packages (from allennlp) (3.6.4)\n",
            "Requirement already satisfied: flask>=1.0.2 in /usr/local/lib/python3.6/dist-packages (from allennlp) (1.0.2)\n",
            "Requirement already satisfied: gevent>=1.3.6 in /usr/local/lib/python3.6/dist-packages (from allennlp) (1.4.0)\n",
            "Collecting overrides (from allennlp)\n",
            "  Downloading https://files.pythonhosted.org/packages/de/55/3100c6d14c1ed177492fcf8f07c4a7d2d6c996c0a7fc6a9a0a41308e7eec/overrides-1.9.tar.gz\n",
            "Collecting moto>=1.3.4 (from allennlp)\n",
            "\u001b[?25l  Downloading https://files.pythonhosted.org/packages/28/35/f3dc85fa8fa2541b77849459363bb0d6e02bd44ba05afbd3ee3e035a6b14/moto-1.3.8-py2.py3-none-any.whl (580kB)\n",
            "\u001b[K     |████████████████████████████████| 583kB 48.4MB/s \n",
            "\u001b[?25hCollecting parsimonious>=0.8.0 (from allennlp)\n",
            "\u001b[?25l  Downloading https://files.pythonhosted.org/packages/02/fc/067a3f89869a41009e1a7cdfb14725f8ddd246f30f63c645e8ef8a1c56f4/parsimonious-0.8.1.tar.gz (45kB)\n",
            "\u001b[K     |████████████████████████████████| 51kB 29.7MB/s \n",
            "\u001b[?25hCollecting numpydoc>=0.8.0 (from allennlp)\n",
            "  Downloading https://files.pythonhosted.org/packages/6a/f3/7cfe4c616e4b9fe05540256cc9c6661c052c8a4cec2915732793b36e1843/numpydoc-0.9.1.tar.gz\n",
            "Requirement already satisfied: tqdm>=4.19 in /usr/local/lib/python3.6/dist-packages (from allennlp) (4.28.1)\n",
            "Collecting conllu==0.11 (from allennlp)\n",
            "  Downloading https://files.pythonhosted.org/packages/d4/2c/856344d9b69baf5b374c395b4286626181a80f0c2b2f704914d18a1cea47/conllu-0.11-py2.py3-none-any.whl\n",
            "Collecting flask-cors>=3.0.7 (from allennlp)\n",
            "  Downloading https://files.pythonhosted.org/packages/65/cb/683f71ff8daa3aea0a5cbb276074de39f9ab66d3fbb8ad5efb5bb83e90d2/Flask_Cors-3.0.7-py2.py3-none-any.whl\n",
            "Collecting unidecode (from allennlp)\n",
            "\u001b[?25l  Downloading https://files.pythonhosted.org/packages/31/39/53096f9217b057cb049fe872b7fc7ce799a1a89b76cf917d9639e7a558b5/Unidecode-1.0.23-py2.py3-none-any.whl (237kB)\n",
            "\u001b[K     |████████████████████████████████| 245kB 54.1MB/s \n",
            "\u001b[?25hRequirement already satisfied: torch>=0.4.1 in /usr/local/lib/python3.6/dist-packages (from allennlp) (1.1.0)\n",
            "Requirement already satisfied: h5py in /usr/local/lib/python3.6/dist-packages (from allennlp) (2.8.0)\n",
            "Requirement already satisfied: matplotlib>=2.2.3 in /usr/local/lib/python3.6/dist-packages (from allennlp) (3.0.3)\n",
            "Requirement already satisfied: pytz>=2017.3 in /usr/local/lib/python3.6/dist-packages (from allennlp) (2018.9)\n",
            "Collecting tensorboardX>=1.2 (from allennlp)\n",
            "\u001b[?25l  Downloading https://files.pythonhosted.org/packages/5c/76/89dd44458eb976347e5a6e75eb79fecf8facd46c1ce259bad54e0044ea35/tensorboardX-1.6-py2.py3-none-any.whl (129kB)\n",
            "\u001b[K     |████████████████████████████████| 133kB 58.9MB/s \n",
            "\u001b[?25hRequirement already satisfied: sqlparse>=0.2.4 in /usr/local/lib/python3.6/dist-packages (from allennlp) (0.3.0)\n",
            "Requirement already satisfied: spacy<2.2,>=2.0 in /usr/local/lib/python3.6/dist-packages (from allennlp) (2.1.3)\n",
            "Collecting responses>=0.7 (from allennlp)\n",
            "  Downloading https://files.pythonhosted.org/packages/d1/5a/b887e89925f1de7890ef298a74438371ed4ed29b33def9e6d02dc6036fd8/responses-0.10.6-py2.py3-none-any.whl\n",
            "Collecting jsonnet>=0.10.0; sys_platform != \"win32\" (from allennlp)\n",
            "\u001b[?25l  Downloading https://files.pythonhosted.org/packages/60/dc/3abd3971869a741d7acdba166d71d4f9366b6b53028dfd56f95de356af0f/jsonnet-0.12.1.tar.gz (240kB)\n",
            "\u001b[K     |████████████████████████████████| 245kB 53.7MB/s \n",
            "\u001b[?25hRequirement already satisfied: numpy in /usr/local/lib/python3.6/dist-packages (from allennlp) (1.16.3)\n",
            "Requirement already satisfied: requests>=2.18 in /usr/local/lib/python3.6/dist-packages (from allennlp) (2.21.0)\n",
            "Collecting pytorch-pretrained-bert>=0.6.0 (from allennlp)\n",
            "\u001b[?25l  Downloading https://files.pythonhosted.org/packages/d7/e0/c08d5553b89973d9a240605b9c12404bcf8227590de62bae27acbcfe076b/pytorch_pretrained_bert-0.6.2-py3-none-any.whl (123kB)\n",
            "\u001b[K     |████████████████████████████████| 133kB 51.0MB/s \n",
            "\u001b[?25hRequirement already satisfied: msgpack<0.6.0,>=0.5.6 in /usr/local/lib/python3.6/dist-packages (from allennlp) (0.5.6)\n",
            "Requirement already satisfied: scikit-learn in /usr/local/lib/python3.6/dist-packages (from allennlp) (0.20.3)\n",
            "Requirement already satisfied: scipy in /usr/local/lib/python3.6/dist-packages (from allennlp) (1.2.1)\n",
            "Requirement already satisfied: editdistance in /usr/local/lib/python3.6/dist-packages (from allennlp) (0.5.3)\n",
            "Collecting awscli>=1.11.91 (from allennlp)\n",
            "\u001b[?25l  Downloading https://files.pythonhosted.org/packages/24/b1/ab1472d83c15be14f20b2a70c44fbad159b2f9b8bcd3e3cf22f66e85bada/awscli-1.16.159-py2.py3-none-any.whl (1.6MB)\n",
            "\u001b[K     |████████████████████████████████| 1.6MB 46.2MB/s \n",
            "\u001b[?25hCollecting word2number>=1.1 (from allennlp)\n",
            "  Downloading https://files.pythonhosted.org/packages/4a/29/a31940c848521f0725f0df6b25dca8917f13a2025b0e8fcbe5d0457e45e6/word2number-1.1.zip\n",
            "Requirement already satisfied: boto3 in /usr/local/lib/python3.6/dist-packages (from allennlp) (1.9.147)\n",
            "Collecting flaky (from allennlp)\n",
            "  Downloading https://files.pythonhosted.org/packages/02/42/cca66659a786567c8af98587d66d75e7d2b6e65662f8daab75db708ac35b/flaky-3.5.3-py2.py3-none-any.whl\n",
            "Collecting ftfy (from allennlp)\n",
            "\u001b[?25l  Downloading https://files.pythonhosted.org/packages/8f/86/df789c5834f15ae1ca53a8d4c1fc4788676c2e32112f6a786f2625d9c6e6/ftfy-5.5.1-py3-none-any.whl (43kB)\n",
            "\u001b[K     |████████████████████████████████| 51kB 25.9MB/s \n",
            "\u001b[?25hRequirement already satisfied: nltk in /usr/local/lib/python3.6/dist-packages (from allennlp) (3.2.5)\n",
            "Requirement already satisfied: py>=1.5.0 in /usr/local/lib/python3.6/dist-packages (from pytest->allennlp) (1.8.0)\n",
            "Requirement already satisfied: atomicwrites>=1.0 in /usr/local/lib/python3.6/dist-packages (from pytest->allennlp) (1.3.0)\n",
            "Requirement already satisfied: attrs>=17.4.0 in /usr/local/lib/python3.6/dist-packages (from pytest->allennlp) (19.1.0)\n",
            "Requirement already satisfied: setuptools in /usr/local/lib/python3.6/dist-packages (from pytest->allennlp) (41.0.1)\n",
            "Requirement already satisfied: more-itertools>=4.0.0 in /usr/local/lib/python3.6/dist-packages (from pytest->allennlp) (7.0.0)\n",
            "Requirement already satisfied: six>=1.10.0 in /usr/local/lib/python3.6/dist-packages (from pytest->allennlp) (1.12.0)\n",
            "Requirement already satisfied: pluggy<0.8,>=0.5 in /usr/local/lib/python3.6/dist-packages (from pytest->allennlp) (0.7.1)\n",
            "Requirement already satisfied: Werkzeug>=0.14 in /usr/local/lib/python3.6/dist-packages (from flask>=1.0.2->allennlp) (0.15.2)\n",
            "Requirement already satisfied: Jinja2>=2.10 in /usr/local/lib/python3.6/dist-packages (from flask>=1.0.2->allennlp) (2.10.1)\n",
            "Requirement already satisfied: itsdangerous>=0.24 in /usr/local/lib/python3.6/dist-packages (from flask>=1.0.2->allennlp) (1.1.0)\n",
            "Requirement already satisfied: click>=5.1 in /usr/local/lib/python3.6/dist-packages (from flask>=1.0.2->allennlp) (7.0)\n",
            "Requirement already satisfied: greenlet>=0.4.14; platform_python_implementation == \"CPython\" in /usr/local/lib/python3.6/dist-packages (from gevent>=1.3.6->allennlp) (0.4.15)\n",
            "Collecting docker>=2.5.1 (from moto>=1.3.4->allennlp)\n",
            "\u001b[?25l  Downloading https://files.pythonhosted.org/packages/48/68/c3afca1a5aa8d2997ec3b8ee822a4d752cf85907b321f07ea86888545152/docker-3.7.2-py2.py3-none-any.whl (134kB)\n",
            "\u001b[K     |████████████████████████████████| 143kB 61.9MB/s \n",
            "\u001b[?25hCollecting python-jose<4.0.0 (from moto>=1.3.4->allennlp)\n",
            "  Downloading https://files.pythonhosted.org/packages/96/da/c0dcc5e7a98a53440b8db3cf9771345fa696754f79e8734ea59123f7d734/python_jose-3.0.1-py2.py3-none-any.whl\n",
            "Collecting jsondiff==1.1.2 (from moto>=1.3.4->allennlp)\n",
            "  Downloading https://files.pythonhosted.org/packages/33/0c/ddb17571e061c655871ccbf76cdada55a31569327d21517de779d4887241/jsondiff-1.1.2.tar.gz\n",
            "Requirement already satisfied: PyYAML in /usr/local/lib/python3.6/dist-packages (from moto>=1.3.4->allennlp) (3.13)\n",
            "Requirement already satisfied: idna<2.9,>=2.5 in /usr/local/lib/python3.6/dist-packages (from moto>=1.3.4->allennlp) (2.8)\n",
            "Requirement already satisfied: python-dateutil<3.0.0,>=2.1 in /usr/local/lib/python3.6/dist-packages (from moto>=1.3.4->allennlp) (2.5.3)\n",
            "Collecting cfn-lint (from moto>=1.3.4->allennlp)\n",
            "\u001b[?25l  Downloading https://files.pythonhosted.org/packages/27/86/3bd1908270cc7752be2b38ef783db40c7e6240aff18d283e1f9d7bbad3ae/cfn_lint-0.20.2-py3-none-any.whl (2.2MB)\n",
            "\u001b[K     |████████████████████████████████| 2.2MB 34.6MB/s \n",
            "\u001b[?25hCollecting aws-xray-sdk!=0.96,>=0.93 (from moto>=1.3.4->allennlp)\n",
            "\u001b[?25l  Downloading https://files.pythonhosted.org/packages/58/f2/79f7918f4ddeec525742ddd4607abe4a82a29a6bc4c7e297995f59a18965/aws_xray_sdk-2.4.2-py2.py3-none-any.whl (87kB)\n",
            "\u001b[K     |████████████████████████████████| 92kB 34.7MB/s \n",
            "\u001b[?25hRequirement already satisfied: boto>=2.36.0 in /usr/local/lib/python3.6/dist-packages (from moto>=1.3.4->allennlp) (2.49.0)\n",
            "Requirement already satisfied: mock in /usr/local/lib/python3.6/dist-packages (from moto>=1.3.4->allennlp) (3.0.5)\n",
            "Collecting xmltodict (from moto>=1.3.4->allennlp)\n",
            "  Downloading https://files.pythonhosted.org/packages/28/fd/30d5c1d3ac29ce229f6bdc40bbc20b28f716e8b363140c26eff19122d8a5/xmltodict-0.12.0-py2.py3-none-any.whl\n",
            "Collecting cryptography>=2.3.0 (from moto>=1.3.4->allennlp)\n",
            "\u001b[?25l  Downloading https://files.pythonhosted.org/packages/5b/12/b0409a94dad366d98a8eee2a77678c7a73aafd8c0e4b835abea634ea3896/cryptography-2.6.1-cp34-abi3-manylinux1_x86_64.whl (2.3MB)\n",
            "\u001b[K     |████████████████████████████████| 2.3MB 36.4MB/s \n",
            "\u001b[?25hRequirement already satisfied: botocore>=1.12.86 in /usr/local/lib/python3.6/dist-packages (from moto>=1.3.4->allennlp) (1.12.147)\n",
            "Requirement already satisfied: sphinx>=1.6.5 in /usr/local/lib/python3.6/dist-packages (from numpydoc>=0.8.0->allennlp) (1.8.5)\n",
            "Requirement already satisfied: kiwisolver>=1.0.1 in /usr/local/lib/python3.6/dist-packages (from matplotlib>=2.2.3->allennlp) (1.1.0)\n",
            "Requirement already satisfied: cycler>=0.10 in /usr/local/lib/python3.6/dist-packages (from matplotlib>=2.2.3->allennlp) (0.10.0)\n",
            "Requirement already satisfied: pyparsing!=2.0.4,!=2.1.2,!=2.1.6,>=2.0.1 in /usr/local/lib/python3.6/dist-packages (from matplotlib>=2.2.3->allennlp) (2.4.0)\n",
            "Requirement already satisfied: protobuf>=3.2.0 in /usr/local/lib/python3.6/dist-packages (from tensorboardX>=1.2->allennlp) (3.7.1)\n",
            "Requirement already satisfied: thinc<7.1.0,>=7.0.2 in /usr/local/lib/python3.6/dist-packages (from spacy<2.2,>=2.0->allennlp) (7.0.4)\n",
            "Requirement already satisfied: murmurhash<1.1.0,>=0.28.0 in /usr/local/lib/python3.6/dist-packages (from spacy<2.2,>=2.0->allennlp) (1.0.2)\n",
            "Requirement already satisfied: plac<1.0.0,>=0.9.6 in /usr/local/lib/python3.6/dist-packages (from spacy<2.2,>=2.0->allennlp) (0.9.6)\n",
            "Requirement already satisfied: jsonschema<3.0.0,>=2.6.0 in /usr/local/lib/python3.6/dist-packages (from spacy<2.2,>=2.0->allennlp) (2.6.0)\n",
            "Requirement already satisfied: srsly<1.1.0,>=0.0.5 in /usr/local/lib/python3.6/dist-packages (from spacy<2.2,>=2.0->allennlp) (0.0.5)\n",
            "Requirement already satisfied: cymem<2.1.0,>=2.0.2 in /usr/local/lib/python3.6/dist-packages (from spacy<2.2,>=2.0->allennlp) (2.0.2)\n",
            "Requirement already satisfied: wasabi<1.1.0,>=0.2.0 in /usr/local/lib/python3.6/dist-packages (from spacy<2.2,>=2.0->allennlp) (0.2.2)\n",
            "Requirement already satisfied: preshed<2.1.0,>=2.0.1 in /usr/local/lib/python3.6/dist-packages (from spacy<2.2,>=2.0->allennlp) (2.0.1)\n",
            "Requirement already satisfied: blis<0.3.0,>=0.2.2 in /usr/local/lib/python3.6/dist-packages (from spacy<2.2,>=2.0->allennlp) (0.2.4)\n",
            "Requirement already satisfied: urllib3<1.25,>=1.21.1 in /usr/local/lib/python3.6/dist-packages (from requests>=2.18->allennlp) (1.24.3)\n",
            "Requirement already satisfied: chardet<3.1.0,>=3.0.2 in /usr/local/lib/python3.6/dist-packages (from requests>=2.18->allennlp) (3.0.4)\n",
            "Requirement already satisfied: certifi>=2017.4.17 in /usr/local/lib/python3.6/dist-packages (from requests>=2.18->allennlp) (2019.3.9)\n",
            "Requirement already satisfied: regex in /usr/local/lib/python3.6/dist-packages (from pytorch-pretrained-bert>=0.6.0->allennlp) (2018.1.10)\n",
            "Collecting colorama<=0.3.9,>=0.2.5 (from awscli>=1.11.91->allennlp)\n",
            "  Downloading https://files.pythonhosted.org/packages/db/c8/7dcf9dbcb22429512708fe3a547f8b6101c0d02137acbd892505aee57adf/colorama-0.3.9-py2.py3-none-any.whl\n",
            "Requirement already satisfied: docutils>=0.10 in /usr/local/lib/python3.6/dist-packages (from awscli>=1.11.91->allennlp) (0.14)\n",
            "Collecting rsa<=3.5.0,>=3.1.2 (from awscli>=1.11.91->allennlp)\n",
            "\u001b[?25l  Downloading https://files.pythonhosted.org/packages/e1/ae/baedc9cb175552e95f3395c43055a6a5e125ae4d48a1d7a924baca83e92e/rsa-3.4.2-py2.py3-none-any.whl (46kB)\n",
            "\u001b[K     |████████████████████████████████| 51kB 24.5MB/s \n",
            "\u001b[?25hRequirement already satisfied: s3transfer<0.3.0,>=0.2.0 in /usr/local/lib/python3.6/dist-packages (from awscli>=1.11.91->allennlp) (0.2.0)\n",
            "Requirement already satisfied: jmespath<1.0.0,>=0.7.1 in /usr/local/lib/python3.6/dist-packages (from boto3->allennlp) (0.9.4)\n",
            "Requirement already satisfied: wcwidth in /usr/local/lib/python3.6/dist-packages (from ftfy->allennlp) (0.1.7)\n",
            "Requirement already satisfied: MarkupSafe>=0.23 in /usr/local/lib/python3.6/dist-packages (from Jinja2>=2.10->flask>=1.0.2->allennlp) (1.1.1)\n",
            "Collecting websocket-client>=0.32.0 (from docker>=2.5.1->moto>=1.3.4->allennlp)\n",
            "\u001b[?25l  Downloading https://files.pythonhosted.org/packages/29/19/44753eab1fdb50770ac69605527e8859468f3c0fd7dc5a76dd9c4dbd7906/websocket_client-0.56.0-py2.py3-none-any.whl (200kB)\n",
            "\u001b[K     |████████████████████████████████| 204kB 58.8MB/s \n",
            "\u001b[?25hCollecting docker-pycreds>=0.4.0 (from docker>=2.5.1->moto>=1.3.4->allennlp)\n",
            "  Downloading https://files.pythonhosted.org/packages/f5/e8/f6bd1eee09314e7e6dee49cbe2c5e22314ccdb38db16c9fc72d2fa80d054/docker_pycreds-0.4.0-py2.py3-none-any.whl\n",
            "Requirement already satisfied: future<1.0 in /usr/local/lib/python3.6/dist-packages (from python-jose<4.0.0->moto>=1.3.4->allennlp) (0.16.0)\n",
            "Collecting ecdsa<1.0 (from python-jose<4.0.0->moto>=1.3.4->allennlp)\n",
            "\u001b[?25l  Downloading https://files.pythonhosted.org/packages/23/a8/8aa68e70959e1287da9154e5164bb8bd5dd7025e41ae54e8d177b8d165c9/ecdsa-0.13.2-py2.py3-none-any.whl (59kB)\n",
            "\u001b[K     |████████████████████████████████| 61kB 26.3MB/s \n",
            "\u001b[?25hCollecting aws-sam-translator>=1.10.0 (from cfn-lint->moto>=1.3.4->allennlp)\n",
            "\u001b[?25l  Downloading https://files.pythonhosted.org/packages/85/dd/3f9c13d6454c4e59b71faacd19d7041e6d6becc76a8390aa2587f425df83/aws-sam-translator-1.11.0.tar.gz (96kB)\n",
            "\u001b[K     |████████████████████████████████| 102kB 37.7MB/s \n",
            "\u001b[?25hCollecting jsonpatch (from cfn-lint->moto>=1.3.4->allennlp)\n",
            "  Downloading https://files.pythonhosted.org/packages/a0/e6/d50d526ae2218b765ddbdb2dda14d65e19f501ce07410b375bc43ad20b7a/jsonpatch-1.23-py2.py3-none-any.whl\n",
            "Collecting jsonpickle (from aws-xray-sdk!=0.96,>=0.93->moto>=1.3.4->allennlp)\n",
            "  Downloading https://files.pythonhosted.org/packages/dc/12/8c44eabb501e2bc0aec0dd152b328074d98a50968d3a02be28f6037f0c6a/jsonpickle-1.1-py2.py3-none-any.whl\n",
            "Requirement already satisfied: wrapt in /usr/local/lib/python3.6/dist-packages (from aws-xray-sdk!=0.96,>=0.93->moto>=1.3.4->allennlp) (1.10.11)\n",
            "Collecting asn1crypto>=0.21.0 (from cryptography>=2.3.0->moto>=1.3.4->allennlp)\n",
            "\u001b[?25l  Downloading https://files.pythonhosted.org/packages/ea/cd/35485615f45f30a510576f1a56d1e0a7ad7bd8ab5ed7cdc600ef7cd06222/asn1crypto-0.24.0-py2.py3-none-any.whl (101kB)\n",
            "\u001b[K     |████████████████████████████████| 102kB 35.1MB/s \n",
            "\u001b[?25hRequirement already satisfied: cffi!=1.11.3,>=1.8 in /usr/local/lib/python3.6/dist-packages (from cryptography>=2.3.0->moto>=1.3.4->allennlp) (1.12.3)\n",
            "Requirement already satisfied: Pygments>=2.0 in /usr/local/lib/python3.6/dist-packages (from sphinx>=1.6.5->numpydoc>=0.8.0->allennlp) (2.1.3)\n",
            "Requirement already satisfied: alabaster<0.8,>=0.7 in /usr/local/lib/python3.6/dist-packages (from sphinx>=1.6.5->numpydoc>=0.8.0->allennlp) (0.7.12)\n",
            "Requirement already satisfied: imagesize in /usr/local/lib/python3.6/dist-packages (from sphinx>=1.6.5->numpydoc>=0.8.0->allennlp) (1.1.0)\n",
            "Requirement already satisfied: sphinxcontrib-websupport in /usr/local/lib/python3.6/dist-packages (from sphinx>=1.6.5->numpydoc>=0.8.0->allennlp) (1.1.0)\n",
            "Requirement already satisfied: babel!=2.0,>=1.3 in /usr/local/lib/python3.6/dist-packages (from sphinx>=1.6.5->numpydoc>=0.8.0->allennlp) (2.6.0)\n",
            "Requirement already satisfied: packaging in /usr/local/lib/python3.6/dist-packages (from sphinx>=1.6.5->numpydoc>=0.8.0->allennlp) (19.0)\n",
            "Requirement already satisfied: snowballstemmer>=1.1 in /usr/local/lib/python3.6/dist-packages (from sphinx>=1.6.5->numpydoc>=0.8.0->allennlp) (1.2.1)\n",
            "Requirement already satisfied: pyasn1>=0.1.3 in /usr/local/lib/python3.6/dist-packages (from rsa<=3.5.0,>=3.1.2->awscli>=1.11.91->allennlp) (0.4.5)\n",
            "Collecting jsonpointer>=1.9 (from jsonpatch->cfn-lint->moto>=1.3.4->allennlp)\n",
            "  Downloading https://files.pythonhosted.org/packages/18/b0/a80d29577c08eea401659254dfaed87f1af45272899e1812d7e01b679bc5/jsonpointer-2.0-py2.py3-none-any.whl\n",
            "Requirement already satisfied: pycparser in /usr/local/lib/python3.6/dist-packages (from cffi!=1.11.3,>=1.8->cryptography>=2.3.0->moto>=1.3.4->allennlp) (2.19)\n",
            "Building wheels for collected packages: overrides, parsimonious, numpydoc, jsonnet, word2number, jsondiff, aws-sam-translator\n",
            "  Building wheel for overrides (setup.py) ... \u001b[?25l\u001b[?25hdone\n",
            "  Stored in directory: /root/.cache/pip/wheels/8d/52/86/e5a83b1797e7d263b458d2334edd2704c78508b3eea9323718\n",
            "  Building wheel for parsimonious (setup.py) ... \u001b[?25l\u001b[?25hdone\n",
            "  Stored in directory: /root/.cache/pip/wheels/b7/8d/e7/a0e74217da5caeb3c1c7689639b6d28ddbf9985b840bc96a9a\n",
            "  Building wheel for numpydoc (setup.py) ... \u001b[?25l\u001b[?25hdone\n",
            "  Stored in directory: /root/.cache/pip/wheels/51/30/d1/92a39ba40f21cb70e53f8af96eb98f002a781843c065406500\n",
            "  Building wheel for jsonnet (setup.py) ... \u001b[?25l\u001b[?25hdone\n",
            "  Stored in directory: /root/.cache/pip/wheels/f0/47/51/a178b15274ed0db775a1ae9c799ce31e511609c3ab75a7dec5\n",
            "  Building wheel for word2number (setup.py) ... \u001b[?25l\u001b[?25hdone\n",
            "  Stored in directory: /root/.cache/pip/wheels/46/2f/53/5f5c1d275492f2fce1cdab9a9bb12d49286dead829a4078e0e\n",
            "  Building wheel for jsondiff (setup.py) ... \u001b[?25l\u001b[?25hdone\n",
            "  Stored in directory: /root/.cache/pip/wheels/46/5f/86/11c6b72b064888e80b98bfcbcdaf2a83517a8cf8f2bb2a3227\n",
            "  Building wheel for aws-sam-translator (setup.py) ... \u001b[?25l\u001b[?25hdone\n",
            "  Stored in directory: /root/.cache/pip/wheels/12/39/44/8528735e5e1989a5b19b4e2230d63e92847903cee1ab94fe6e\n",
            "Successfully built overrides parsimonious numpydoc jsonnet word2number jsondiff aws-sam-translator\n",
            "\u001b[31mERROR: awscli 1.16.159 has requirement botocore==1.12.149, but you'll have botocore 1.12.147 which is incompatible.\u001b[0m\n",
            "Installing collected packages: overrides, websocket-client, docker-pycreds, docker, ecdsa, rsa, python-jose, jsondiff, responses, aws-sam-translator, jsonpointer, jsonpatch, cfn-lint, jsonpickle, aws-xray-sdk, xmltodict, asn1crypto, cryptography, moto, parsimonious, numpydoc, conllu, flask-cors, unidecode, tensorboardX, jsonnet, pytorch-pretrained-bert, colorama, awscli, word2number, flaky, ftfy, allennlp\n",
            "  Found existing installation: rsa 4.0\n",
            "    Uninstalling rsa-4.0:\n",
            "      Successfully uninstalled rsa-4.0\n",
            "Successfully installed allennlp-0.8.3 asn1crypto-0.24.0 aws-sam-translator-1.11.0 aws-xray-sdk-2.4.2 awscli-1.16.159 cfn-lint-0.20.2 colorama-0.3.9 conllu-0.11 cryptography-2.6.1 docker-3.7.2 docker-pycreds-0.4.0 ecdsa-0.13.2 flaky-3.5.3 flask-cors-3.0.7 ftfy-5.5.1 jsondiff-1.1.2 jsonnet-0.12.1 jsonpatch-1.23 jsonpickle-1.1 jsonpointer-2.0 moto-1.3.8 numpydoc-0.9.1 overrides-1.9 parsimonious-0.8.1 python-jose-3.0.1 pytorch-pretrained-bert-0.6.2 responses-0.10.6 rsa-3.4.2 tensorboardX-1.6 unidecode-1.0.23 websocket-client-0.56.0 word2number-1.1 xmltodict-0.12.0\n"
          ],
          "name": "stdout"
        },
        {
          "output_type": "display_data",
          "data": {
            "application/vnd.colab-display-data+json": {
              "pip_warning": {
                "packages": [
                  "rsa"
                ]
              }
            }
          },
          "metadata": {
            "tags": []
          }
        }
      ]
    },
    {
      "cell_type": "markdown",
      "metadata": {
        "id": "Bzlsy9HLEHXx",
        "colab_type": "text"
      },
      "source": [
        "Next, install the 'description2process' library and import it."
      ]
    },
    {
      "cell_type": "code",
      "metadata": {
        "id": "SUD21nTavXFz",
        "colab_type": "code",
        "outputId": "9ecb3a0a-0e3b-4c2a-911a-b6b10e9a1bad",
        "colab": {
          "base_uri": "https://localhost:8080/",
          "height": 2502
        }
      },
      "source": [
        "!pip install description2process==0.1.1"
      ],
      "execution_count": 2,
      "outputs": [
        {
          "output_type": "stream",
          "text": [
            "Collecting description2process==0.1.1\n",
            "\u001b[?25l  Downloading https://files.pythonhosted.org/packages/81/bf/604dc4877a1afcf501d5b4b081a07c27da42d4c6e5bf6413c92614714578/description2process-0.1.1-py3-none-any.whl (126kB)\n",
            "\u001b[K     |████████████████████████████████| 133kB 1.8MB/s \n",
            "\u001b[?25hRequirement already satisfied: neuralcoref in /usr/local/lib/python3.6/dist-packages (from description2process==0.1.1) (4.0)\n",
            "Requirement already satisfied: graphviz in /usr/local/lib/python3.6/dist-packages (from description2process==0.1.1) (0.10.1)\n",
            "Requirement already satisfied: spacy in /usr/local/lib/python3.6/dist-packages (from description2process==0.1.1) (2.1.3)\n",
            "Requirement already satisfied: tensor2tensor in /usr/local/lib/python3.6/dist-packages (from description2process==0.1.1) (1.11.0)\n",
            "Requirement already satisfied: benepar in /usr/local/lib/python3.6/dist-packages (from description2process==0.1.1) (0.1.2)\n",
            "Requirement already satisfied: tensorflow in /usr/local/lib/python3.6/dist-packages (from description2process==0.1.1) (1.13.1)\n",
            "Requirement already satisfied: allennlp in /usr/local/lib/python3.6/dist-packages (from description2process==0.1.1) (0.8.3)\n",
            "Requirement already satisfied: boto3 in /usr/local/lib/python3.6/dist-packages (from neuralcoref->description2process==0.1.1) (1.9.147)\n",
            "Requirement already satisfied: requests<3.0.0,>=2.13.0 in /usr/local/lib/python3.6/dist-packages (from neuralcoref->description2process==0.1.1) (2.21.0)\n",
            "Requirement already satisfied: numpy>=1.15.0 in /usr/local/lib/python3.6/dist-packages (from neuralcoref->description2process==0.1.1) (1.16.3)\n",
            "Requirement already satisfied: murmurhash<1.1.0,>=0.28.0 in /usr/local/lib/python3.6/dist-packages (from spacy->description2process==0.1.1) (1.0.2)\n",
            "Requirement already satisfied: blis<0.3.0,>=0.2.2 in /usr/local/lib/python3.6/dist-packages (from spacy->description2process==0.1.1) (0.2.4)\n",
            "Requirement already satisfied: cymem<2.1.0,>=2.0.2 in /usr/local/lib/python3.6/dist-packages (from spacy->description2process==0.1.1) (2.0.2)\n",
            "Requirement already satisfied: preshed<2.1.0,>=2.0.1 in /usr/local/lib/python3.6/dist-packages (from spacy->description2process==0.1.1) (2.0.1)\n",
            "Requirement already satisfied: jsonschema<3.0.0,>=2.6.0 in /usr/local/lib/python3.6/dist-packages (from spacy->description2process==0.1.1) (2.6.0)\n",
            "Requirement already satisfied: srsly<1.1.0,>=0.0.5 in /usr/local/lib/python3.6/dist-packages (from spacy->description2process==0.1.1) (0.0.5)\n",
            "Requirement already satisfied: wasabi<1.1.0,>=0.2.0 in /usr/local/lib/python3.6/dist-packages (from spacy->description2process==0.1.1) (0.2.2)\n",
            "Requirement already satisfied: plac<1.0.0,>=0.9.6 in /usr/local/lib/python3.6/dist-packages (from spacy->description2process==0.1.1) (0.9.6)\n",
            "Requirement already satisfied: thinc<7.1.0,>=7.0.2 in /usr/local/lib/python3.6/dist-packages (from spacy->description2process==0.1.1) (7.0.4)\n",
            "Requirement already satisfied: tqdm in /usr/local/lib/python3.6/dist-packages (from tensor2tensor->description2process==0.1.1) (4.28.1)\n",
            "Requirement already satisfied: h5py in /usr/local/lib/python3.6/dist-packages (from tensor2tensor->description2process==0.1.1) (2.8.0)\n",
            "Requirement already satisfied: six in /usr/local/lib/python3.6/dist-packages (from tensor2tensor->description2process==0.1.1) (1.12.0)\n",
            "Requirement already satisfied: oauth2client in /usr/local/lib/python3.6/dist-packages (from tensor2tensor->description2process==0.1.1) (4.1.3)\n",
            "Requirement already satisfied: gevent in /usr/local/lib/python3.6/dist-packages (from tensor2tensor->description2process==0.1.1) (1.4.0)\n",
            "Requirement already satisfied: gunicorn in /usr/local/lib/python3.6/dist-packages (from tensor2tensor->description2process==0.1.1) (19.9.0)\n",
            "Requirement already satisfied: scipy in /usr/local/lib/python3.6/dist-packages (from tensor2tensor->description2process==0.1.1) (1.2.1)\n",
            "Requirement already satisfied: sympy in /usr/local/lib/python3.6/dist-packages (from tensor2tensor->description2process==0.1.1) (1.1.1)\n",
            "Requirement already satisfied: mesh-tensorflow in /usr/local/lib/python3.6/dist-packages (from tensor2tensor->description2process==0.1.1) (0.0.5)\n",
            "Requirement already satisfied: tensorflow-probability in /usr/local/lib/python3.6/dist-packages (from tensor2tensor->description2process==0.1.1) (0.6.0)\n",
            "Requirement already satisfied: tfds-nightly in /usr/local/lib/python3.6/dist-packages (from tensor2tensor->description2process==0.1.1) (1.0.2.dev201905130105)\n",
            "Requirement already satisfied: future in /usr/local/lib/python3.6/dist-packages (from tensor2tensor->description2process==0.1.1) (0.16.0)\n",
            "Requirement already satisfied: flask in /usr/local/lib/python3.6/dist-packages (from tensor2tensor->description2process==0.1.1) (1.0.2)\n",
            "Requirement already satisfied: bz2file in /usr/local/lib/python3.6/dist-packages (from tensor2tensor->description2process==0.1.1) (0.98)\n",
            "Requirement already satisfied: gym in /usr/local/lib/python3.6/dist-packages (from tensor2tensor->description2process==0.1.1) (0.10.11)\n",
            "Requirement already satisfied: google-api-python-client in /usr/local/lib/python3.6/dist-packages (from tensor2tensor->description2process==0.1.1) (1.6.7)\n",
            "Requirement already satisfied: nltk>=3.2 in /usr/local/lib/python3.6/dist-packages (from benepar->description2process==0.1.1) (3.2.5)\n",
            "Requirement already satisfied: cython in /usr/local/lib/python3.6/dist-packages (from benepar->description2process==0.1.1) (0.29.7)\n",
            "Requirement already satisfied: termcolor>=1.1.0 in /usr/local/lib/python3.6/dist-packages (from tensorflow->description2process==0.1.1) (1.1.0)\n",
            "Requirement already satisfied: protobuf>=3.6.1 in /usr/local/lib/python3.6/dist-packages (from tensorflow->description2process==0.1.1) (3.7.1)\n",
            "Requirement already satisfied: grpcio>=1.8.6 in /usr/local/lib/python3.6/dist-packages (from tensorflow->description2process==0.1.1) (1.15.0)\n",
            "Requirement already satisfied: keras-applications>=1.0.6 in /usr/local/lib/python3.6/dist-packages (from tensorflow->description2process==0.1.1) (1.0.7)\n",
            "Requirement already satisfied: keras-preprocessing>=1.0.5 in /usr/local/lib/python3.6/dist-packages (from tensorflow->description2process==0.1.1) (1.0.9)\n",
            "Requirement already satisfied: absl-py>=0.1.6 in /usr/local/lib/python3.6/dist-packages (from tensorflow->description2process==0.1.1) (0.7.1)\n",
            "Requirement already satisfied: tensorboard<1.14.0,>=1.13.0 in /usr/local/lib/python3.6/dist-packages (from tensorflow->description2process==0.1.1) (1.13.1)\n",
            "Requirement already satisfied: tensorflow-estimator<1.14.0rc0,>=1.13.0 in /usr/local/lib/python3.6/dist-packages (from tensorflow->description2process==0.1.1) (1.13.0)\n",
            "Requirement already satisfied: astor>=0.6.0 in /usr/local/lib/python3.6/dist-packages (from tensorflow->description2process==0.1.1) (0.7.1)\n",
            "Requirement already satisfied: wheel>=0.26 in /usr/local/lib/python3.6/dist-packages (from tensorflow->description2process==0.1.1) (0.33.4)\n",
            "Requirement already satisfied: gast>=0.2.0 in /usr/local/lib/python3.6/dist-packages (from tensorflow->description2process==0.1.1) (0.2.2)\n",
            "Requirement already satisfied: word2number>=1.1 in /usr/local/lib/python3.6/dist-packages (from allennlp->description2process==0.1.1) (1.1)\n",
            "Requirement already satisfied: pytorch-pretrained-bert>=0.6.0 in /usr/local/lib/python3.6/dist-packages (from allennlp->description2process==0.1.1) (0.6.2)\n",
            "Requirement already satisfied: numpydoc>=0.8.0 in /usr/local/lib/python3.6/dist-packages (from allennlp->description2process==0.1.1) (0.9.1)\n",
            "Requirement already satisfied: flask-cors>=3.0.7 in /usr/local/lib/python3.6/dist-packages (from allennlp->description2process==0.1.1) (3.0.7)\n",
            "Requirement already satisfied: tensorboardX>=1.2 in /usr/local/lib/python3.6/dist-packages (from allennlp->description2process==0.1.1) (1.6)\n",
            "Requirement already satisfied: responses>=0.7 in /usr/local/lib/python3.6/dist-packages (from allennlp->description2process==0.1.1) (0.10.6)\n",
            "Requirement already satisfied: overrides in /usr/local/lib/python3.6/dist-packages (from allennlp->description2process==0.1.1) (1.9)\n",
            "Requirement already satisfied: conllu==0.11 in /usr/local/lib/python3.6/dist-packages (from allennlp->description2process==0.1.1) (0.11)\n",
            "Requirement already satisfied: pytz>=2017.3 in /usr/local/lib/python3.6/dist-packages (from allennlp->description2process==0.1.1) (2018.9)\n",
            "Requirement already satisfied: ftfy in /usr/local/lib/python3.6/dist-packages (from allennlp->description2process==0.1.1) (5.5.1)\n",
            "Requirement already satisfied: sqlparse>=0.2.4 in /usr/local/lib/python3.6/dist-packages (from allennlp->description2process==0.1.1) (0.3.0)\n",
            "Requirement already satisfied: jsonnet>=0.10.0; sys_platform != \"win32\" in /usr/local/lib/python3.6/dist-packages (from allennlp->description2process==0.1.1) (0.12.1)\n",
            "Requirement already satisfied: editdistance in /usr/local/lib/python3.6/dist-packages (from allennlp->description2process==0.1.1) (0.5.3)\n",
            "Requirement already satisfied: matplotlib>=2.2.3 in /usr/local/lib/python3.6/dist-packages (from allennlp->description2process==0.1.1) (3.0.3)\n",
            "Requirement already satisfied: unidecode in /usr/local/lib/python3.6/dist-packages (from allennlp->description2process==0.1.1) (1.0.23)\n",
            "Requirement already satisfied: scikit-learn in /usr/local/lib/python3.6/dist-packages (from allennlp->description2process==0.1.1) (0.20.3)\n",
            "Requirement already satisfied: msgpack<0.6.0,>=0.5.6 in /usr/local/lib/python3.6/dist-packages (from allennlp->description2process==0.1.1) (0.5.6)\n",
            "Requirement already satisfied: torch>=0.4.1 in /usr/local/lib/python3.6/dist-packages (from allennlp->description2process==0.1.1) (1.1.0)\n",
            "Requirement already satisfied: awscli>=1.11.91 in /usr/local/lib/python3.6/dist-packages (from allennlp->description2process==0.1.1) (1.16.159)\n",
            "Requirement already satisfied: pytest in /usr/local/lib/python3.6/dist-packages (from allennlp->description2process==0.1.1) (3.6.4)\n",
            "Requirement already satisfied: moto>=1.3.4 in /usr/local/lib/python3.6/dist-packages (from allennlp->description2process==0.1.1) (1.3.8)\n",
            "Requirement already satisfied: flaky in /usr/local/lib/python3.6/dist-packages (from allennlp->description2process==0.1.1) (3.5.3)\n",
            "Requirement already satisfied: parsimonious>=0.8.0 in /usr/local/lib/python3.6/dist-packages (from allennlp->description2process==0.1.1) (0.8.1)\n",
            "Requirement already satisfied: jmespath<1.0.0,>=0.7.1 in /usr/local/lib/python3.6/dist-packages (from boto3->neuralcoref->description2process==0.1.1) (0.9.4)\n",
            "Requirement already satisfied: botocore<1.13.0,>=1.12.147 in /usr/local/lib/python3.6/dist-packages (from boto3->neuralcoref->description2process==0.1.1) (1.12.147)\n",
            "Requirement already satisfied: s3transfer<0.3.0,>=0.2.0 in /usr/local/lib/python3.6/dist-packages (from boto3->neuralcoref->description2process==0.1.1) (0.2.0)\n",
            "Requirement already satisfied: idna<2.9,>=2.5 in /usr/local/lib/python3.6/dist-packages (from requests<3.0.0,>=2.13.0->neuralcoref->description2process==0.1.1) (2.8)\n",
            "Requirement already satisfied: certifi>=2017.4.17 in /usr/local/lib/python3.6/dist-packages (from requests<3.0.0,>=2.13.0->neuralcoref->description2process==0.1.1) (2019.3.9)\n",
            "Requirement already satisfied: urllib3<1.25,>=1.21.1 in /usr/local/lib/python3.6/dist-packages (from requests<3.0.0,>=2.13.0->neuralcoref->description2process==0.1.1) (1.24.3)\n",
            "Requirement already satisfied: chardet<3.1.0,>=3.0.2 in /usr/local/lib/python3.6/dist-packages (from requests<3.0.0,>=2.13.0->neuralcoref->description2process==0.1.1) (3.0.4)\n",
            "Requirement already satisfied: pyasn1>=0.1.7 in /usr/local/lib/python3.6/dist-packages (from oauth2client->tensor2tensor->description2process==0.1.1) (0.4.5)\n",
            "Requirement already satisfied: rsa>=3.1.4 in /usr/local/lib/python3.6/dist-packages (from oauth2client->tensor2tensor->description2process==0.1.1) (3.4.2)\n",
            "Requirement already satisfied: httplib2>=0.9.1 in /usr/local/lib/python3.6/dist-packages (from oauth2client->tensor2tensor->description2process==0.1.1) (0.11.3)\n",
            "Requirement already satisfied: pyasn1-modules>=0.0.5 in /usr/local/lib/python3.6/dist-packages (from oauth2client->tensor2tensor->description2process==0.1.1) (0.2.5)\n",
            "Requirement already satisfied: greenlet>=0.4.14; platform_python_implementation == \"CPython\" in /usr/local/lib/python3.6/dist-packages (from gevent->tensor2tensor->description2process==0.1.1) (0.4.15)\n",
            "Requirement already satisfied: mpmath>=0.19 in /usr/local/lib/python3.6/dist-packages (from sympy->tensor2tensor->description2process==0.1.1) (1.1.0)\n",
            "Requirement already satisfied: psutil in /usr/local/lib/python3.6/dist-packages (from tfds-nightly->tensor2tensor->description2process==0.1.1) (5.4.8)\n",
            "Requirement already satisfied: dill in /usr/local/lib/python3.6/dist-packages (from tfds-nightly->tensor2tensor->description2process==0.1.1) (0.2.9)\n",
            "Requirement already satisfied: tensorflow-metadata in /usr/local/lib/python3.6/dist-packages (from tfds-nightly->tensor2tensor->description2process==0.1.1) (0.13.0)\n",
            "Requirement already satisfied: promise in /usr/local/lib/python3.6/dist-packages (from tfds-nightly->tensor2tensor->description2process==0.1.1) (2.2.1)\n",
            "Requirement already satisfied: wrapt in /usr/local/lib/python3.6/dist-packages (from tfds-nightly->tensor2tensor->description2process==0.1.1) (1.10.11)\n",
            "Requirement already satisfied: Jinja2>=2.10 in /usr/local/lib/python3.6/dist-packages (from flask->tensor2tensor->description2process==0.1.1) (2.10.1)\n",
            "Requirement already satisfied: click>=5.1 in /usr/local/lib/python3.6/dist-packages (from flask->tensor2tensor->description2process==0.1.1) (7.0)\n",
            "Requirement already satisfied: Werkzeug>=0.14 in /usr/local/lib/python3.6/dist-packages (from flask->tensor2tensor->description2process==0.1.1) (0.15.2)\n",
            "Requirement already satisfied: itsdangerous>=0.24 in /usr/local/lib/python3.6/dist-packages (from flask->tensor2tensor->description2process==0.1.1) (1.1.0)\n",
            "Requirement already satisfied: pyglet>=1.2.0 in /usr/local/lib/python3.6/dist-packages (from gym->tensor2tensor->description2process==0.1.1) (1.3.2)\n",
            "Requirement already satisfied: uritemplate<4dev,>=3.0.0 in /usr/local/lib/python3.6/dist-packages (from google-api-python-client->tensor2tensor->description2process==0.1.1) (3.0.0)\n",
            "Requirement already satisfied: setuptools in /usr/local/lib/python3.6/dist-packages (from protobuf>=3.6.1->tensorflow->description2process==0.1.1) (41.0.1)\n",
            "Requirement already satisfied: markdown>=2.6.8 in /usr/local/lib/python3.6/dist-packages (from tensorboard<1.14.0,>=1.13.0->tensorflow->description2process==0.1.1) (3.1)\n",
            "Requirement already satisfied: mock>=2.0.0 in /usr/local/lib/python3.6/dist-packages (from tensorflow-estimator<1.14.0rc0,>=1.13.0->tensorflow->description2process==0.1.1) (3.0.5)\n",
            "Requirement already satisfied: regex in /usr/local/lib/python3.6/dist-packages (from pytorch-pretrained-bert>=0.6.0->allennlp->description2process==0.1.1) (2018.1.10)\n",
            "Requirement already satisfied: sphinx>=1.6.5 in /usr/local/lib/python3.6/dist-packages (from numpydoc>=0.8.0->allennlp->description2process==0.1.1) (1.8.5)\n",
            "Requirement already satisfied: wcwidth in /usr/local/lib/python3.6/dist-packages (from ftfy->allennlp->description2process==0.1.1) (0.1.7)\n",
            "Requirement already satisfied: pyparsing!=2.0.4,!=2.1.2,!=2.1.6,>=2.0.1 in /usr/local/lib/python3.6/dist-packages (from matplotlib>=2.2.3->allennlp->description2process==0.1.1) (2.4.0)\n",
            "Requirement already satisfied: cycler>=0.10 in /usr/local/lib/python3.6/dist-packages (from matplotlib>=2.2.3->allennlp->description2process==0.1.1) (0.10.0)\n",
            "Requirement already satisfied: python-dateutil>=2.1 in /usr/local/lib/python3.6/dist-packages (from matplotlib>=2.2.3->allennlp->description2process==0.1.1) (2.5.3)\n",
            "Requirement already satisfied: kiwisolver>=1.0.1 in /usr/local/lib/python3.6/dist-packages (from matplotlib>=2.2.3->allennlp->description2process==0.1.1) (1.1.0)\n",
            "Requirement already satisfied: colorama<=0.3.9,>=0.2.5 in /usr/local/lib/python3.6/dist-packages (from awscli>=1.11.91->allennlp->description2process==0.1.1) (0.3.9)\n",
            "Requirement already satisfied: PyYAML<=3.13,>=3.10 in /usr/local/lib/python3.6/dist-packages (from awscli>=1.11.91->allennlp->description2process==0.1.1) (3.13)\n",
            "Requirement already satisfied: docutils>=0.10 in /usr/local/lib/python3.6/dist-packages (from awscli>=1.11.91->allennlp->description2process==0.1.1) (0.14)\n",
            "Requirement already satisfied: py>=1.5.0 in /usr/local/lib/python3.6/dist-packages (from pytest->allennlp->description2process==0.1.1) (1.8.0)\n",
            "Requirement already satisfied: attrs>=17.4.0 in /usr/local/lib/python3.6/dist-packages (from pytest->allennlp->description2process==0.1.1) (19.1.0)\n",
            "Requirement already satisfied: atomicwrites>=1.0 in /usr/local/lib/python3.6/dist-packages (from pytest->allennlp->description2process==0.1.1) (1.3.0)\n",
            "Requirement already satisfied: pluggy<0.8,>=0.5 in /usr/local/lib/python3.6/dist-packages (from pytest->allennlp->description2process==0.1.1) (0.7.1)\n",
            "Requirement already satisfied: more-itertools>=4.0.0 in /usr/local/lib/python3.6/dist-packages (from pytest->allennlp->description2process==0.1.1) (7.0.0)\n",
            "Requirement already satisfied: aws-xray-sdk!=0.96,>=0.93 in /usr/local/lib/python3.6/dist-packages (from moto>=1.3.4->allennlp->description2process==0.1.1) (2.4.2)\n",
            "Requirement already satisfied: docker>=2.5.1 in /usr/local/lib/python3.6/dist-packages (from moto>=1.3.4->allennlp->description2process==0.1.1) (3.7.2)\n",
            "Requirement already satisfied: jsondiff==1.1.2 in /usr/local/lib/python3.6/dist-packages (from moto>=1.3.4->allennlp->description2process==0.1.1) (1.1.2)\n",
            "Requirement already satisfied: cfn-lint in /usr/local/lib/python3.6/dist-packages (from moto>=1.3.4->allennlp->description2process==0.1.1) (0.20.2)\n",
            "Requirement already satisfied: cryptography>=2.3.0 in /usr/local/lib/python3.6/dist-packages (from moto>=1.3.4->allennlp->description2process==0.1.1) (2.6.1)\n",
            "Requirement already satisfied: xmltodict in /usr/local/lib/python3.6/dist-packages (from moto>=1.3.4->allennlp->description2process==0.1.1) (0.12.0)\n",
            "Requirement already satisfied: boto>=2.36.0 in /usr/local/lib/python3.6/dist-packages (from moto>=1.3.4->allennlp->description2process==0.1.1) (2.49.0)\n",
            "Requirement already satisfied: python-jose<4.0.0 in /usr/local/lib/python3.6/dist-packages (from moto>=1.3.4->allennlp->description2process==0.1.1) (3.0.1)\n",
            "Requirement already satisfied: googleapis-common-protos in /usr/local/lib/python3.6/dist-packages (from tensorflow-metadata->tfds-nightly->tensor2tensor->description2process==0.1.1) (1.5.10)\n",
            "Requirement already satisfied: MarkupSafe>=0.23 in /usr/local/lib/python3.6/dist-packages (from Jinja2>=2.10->flask->tensor2tensor->description2process==0.1.1) (1.1.1)\n",
            "Requirement already satisfied: imagesize in /usr/local/lib/python3.6/dist-packages (from sphinx>=1.6.5->numpydoc>=0.8.0->allennlp->description2process==0.1.1) (1.1.0)\n",
            "Requirement already satisfied: snowballstemmer>=1.1 in /usr/local/lib/python3.6/dist-packages (from sphinx>=1.6.5->numpydoc>=0.8.0->allennlp->description2process==0.1.1) (1.2.1)\n",
            "Requirement already satisfied: packaging in /usr/local/lib/python3.6/dist-packages (from sphinx>=1.6.5->numpydoc>=0.8.0->allennlp->description2process==0.1.1) (19.0)\n",
            "Requirement already satisfied: alabaster<0.8,>=0.7 in /usr/local/lib/python3.6/dist-packages (from sphinx>=1.6.5->numpydoc>=0.8.0->allennlp->description2process==0.1.1) (0.7.12)\n",
            "Requirement already satisfied: sphinxcontrib-websupport in /usr/local/lib/python3.6/dist-packages (from sphinx>=1.6.5->numpydoc>=0.8.0->allennlp->description2process==0.1.1) (1.1.0)\n",
            "Requirement already satisfied: babel!=2.0,>=1.3 in /usr/local/lib/python3.6/dist-packages (from sphinx>=1.6.5->numpydoc>=0.8.0->allennlp->description2process==0.1.1) (2.6.0)\n",
            "Requirement already satisfied: Pygments>=2.0 in /usr/local/lib/python3.6/dist-packages (from sphinx>=1.6.5->numpydoc>=0.8.0->allennlp->description2process==0.1.1) (2.1.3)\n",
            "Requirement already satisfied: jsonpickle in /usr/local/lib/python3.6/dist-packages (from aws-xray-sdk!=0.96,>=0.93->moto>=1.3.4->allennlp->description2process==0.1.1) (1.1)\n",
            "Requirement already satisfied: docker-pycreds>=0.4.0 in /usr/local/lib/python3.6/dist-packages (from docker>=2.5.1->moto>=1.3.4->allennlp->description2process==0.1.1) (0.4.0)\n",
            "Requirement already satisfied: websocket-client>=0.32.0 in /usr/local/lib/python3.6/dist-packages (from docker>=2.5.1->moto>=1.3.4->allennlp->description2process==0.1.1) (0.56.0)\n",
            "Requirement already satisfied: jsonpatch in /usr/local/lib/python3.6/dist-packages (from cfn-lint->moto>=1.3.4->allennlp->description2process==0.1.1) (1.23)\n",
            "Requirement already satisfied: aws-sam-translator>=1.10.0 in /usr/local/lib/python3.6/dist-packages (from cfn-lint->moto>=1.3.4->allennlp->description2process==0.1.1) (1.11.0)\n",
            "Requirement already satisfied: cffi!=1.11.3,>=1.8 in /usr/local/lib/python3.6/dist-packages (from cryptography>=2.3.0->moto>=1.3.4->allennlp->description2process==0.1.1) (1.12.3)\n",
            "Requirement already satisfied: asn1crypto>=0.21.0 in /usr/local/lib/python3.6/dist-packages (from cryptography>=2.3.0->moto>=1.3.4->allennlp->description2process==0.1.1) (0.24.0)\n",
            "Requirement already satisfied: ecdsa<1.0 in /usr/local/lib/python3.6/dist-packages (from python-jose<4.0.0->moto>=1.3.4->allennlp->description2process==0.1.1) (0.13.2)\n",
            "Requirement already satisfied: jsonpointer>=1.9 in /usr/local/lib/python3.6/dist-packages (from jsonpatch->cfn-lint->moto>=1.3.4->allennlp->description2process==0.1.1) (2.0)\n",
            "Requirement already satisfied: pycparser in /usr/local/lib/python3.6/dist-packages (from cffi!=1.11.3,>=1.8->cryptography>=2.3.0->moto>=1.3.4->allennlp->description2process==0.1.1) (2.19)\n",
            "Installing collected packages: description2process\n",
            "Successfully installed description2process-0.1.1\n"
          ],
          "name": "stdout"
        }
      ]
    },
    {
      "cell_type": "markdown",
      "metadata": {
        "id": "AHfFoLo0P9dk",
        "colab_type": "text"
      },
      "source": [
        "## Data generation\n"
      ]
    },
    {
      "cell_type": "code",
      "metadata": {
        "id": "Vhh1p5mtEUx-",
        "colab_type": "code",
        "outputId": "73a276ad-088c-47c4-e602-bab5ca66954e",
        "colab": {
          "base_uri": "https://localhost:8080/",
          "height": 1924
        }
      },
      "source": [
        "import description2process as d2p"
      ],
      "execution_count": 3,
      "outputs": [
        {
          "output_type": "stream",
          "text": [
            "\n",
            "WARNING: The TensorFlow contrib module will not be included in TensorFlow 2.0.\n",
            "For more information, please see:\n",
            "  * https://github.com/tensorflow/community/blob/master/rfcs/20180907-contrib-sunset.md\n",
            "  * https://github.com/tensorflow/addons\n",
            "If you depend on functionality not listed there, please file an issue.\n",
            "\n"
          ],
          "name": "stdout"
        },
        {
          "output_type": "stream",
          "text": [
            "100%|██████████| 40155833/40155833 [00:00<00:00, 56455401.69B/s]\n"
          ],
          "name": "stderr"
        },
        {
          "output_type": "stream",
          "text": [
            "\u001b[38;5;2m✔ Download and installation successful\u001b[0m\n",
            "You can now load the model via spacy.load('en_core_web_sm')\n",
            "\u001b[38;5;2m✔ Linking successful\u001b[0m\n",
            "/usr/local/lib/python3.6/dist-packages/en_core_web_sm -->\n",
            "/usr/local/lib/python3.6/dist-packages/spacy/data/en\n",
            "You can now load the model via spacy.load('en')\n",
            "[nltk_data] Downloading package benepar_en to /root/nltk_data...\n",
            "[nltk_data] Downloading package punkt to /root/nltk_data...\n",
            "[nltk_data]   Unzipping tokenizers/punkt.zip.\n",
            "[nltk_data] Downloading package averaged_perceptron_tagger to\n",
            "[nltk_data]     /root/nltk_data...\n",
            "[nltk_data]   Unzipping taggers/averaged_perceptron_tagger.zip.\n",
            "\u001b[38;5;2m✔ Download and installation successful\u001b[0m\n",
            "You can now load the model via spacy.load('en_core_web_sm')\n",
            "\u001b[38;5;2m✔ Linking successful\u001b[0m\n",
            "/usr/local/lib/python3.6/dist-packages/en_core_web_sm -->\n",
            "/usr/local/lib/python3.6/dist-packages/spacy/data/en\n",
            "You can now load the model via spacy.load('en')\n",
            "WARNING:tensorflow:From /usr/local/lib/python3.6/dist-packages/tensorflow/contrib/predictor/saved_model_predictor.py:153: load (from tensorflow.python.saved_model.loader_impl) is deprecated and will be removed in a future version.\n",
            "Instructions for updating:\n",
            "This function will only be available through the v1 compatibility library as tf.compat.v1.saved_model.loader.load or tf.compat.v1.saved_model.load. There will be a new function for importing SavedModels in Tensorflow 2.0.\n",
            "WARNING:tensorflow:From /usr/local/lib/python3.6/dist-packages/tensorflow/python/training/saver.py:1266: checkpoint_exists (from tensorflow.python.training.checkpoint_management) is deprecated and will be removed in a future version.\n",
            "Instructions for updating:\n",
            "Use standard file APIs to check for files with this prefix.\n",
            "INFO:tensorflow:Restoring parameters from USE_bis/variables/variables\n",
            "\u001b[38;5;2m✔ Download and installation successful\u001b[0m\n",
            "You can now load the model via spacy.load('en_core_web_sm')\n",
            "\u001b[38;5;2m✔ Linking successful\u001b[0m\n",
            "/usr/local/lib/python3.6/dist-packages/en_core_web_sm -->\n",
            "/usr/local/lib/python3.6/dist-packages/spacy/data/en\n",
            "You can now load the model via spacy.load('en')\n"
          ],
          "name": "stdout"
        },
        {
          "output_type": "stream",
          "text": [
            "100%|██████████| 730942854/730942854 [00:24<00:00, 29241165.12B/s]\n"
          ],
          "name": "stderr"
        },
        {
          "output_type": "stream",
          "text": [
            "[nltk_data] Downloading package wordnet to /root/nltk_data...\n",
            "[nltk_data]   Unzipping corpora/wordnet.zip.\n"
          ],
          "name": "stdout"
        },
        {
          "output_type": "stream",
          "text": [
            "Using TensorFlow backend.\n"
          ],
          "name": "stderr"
        },
        {
          "output_type": "stream",
          "text": [
            ":::MLPv0.5.0 transformer 1558025308.234622478 (/usr/local/lib/python3.6/dist-packages/tensor2tensor/models/transformer.py:59) model_hp_embedding_shared_weights: {\"vocab_size\": 1414, \"hidden_size\": 256}\n"
          ],
          "name": "stdout"
        },
        {
          "output_type": "stream",
          "text": [
            "DEBUG:mlperf_compliance::::MLPv0.5.0 transformer 1558025308.234622478 (/usr/local/lib/python3.6/dist-packages/tensor2tensor/models/transformer.py:59) model_hp_embedding_shared_weights: {\"vocab_size\": 1414, \"hidden_size\": 256}\n"
          ],
          "name": "stderr"
        },
        {
          "output_type": "stream",
          "text": [
            "INFO:tensorflow:Setting T2TModel mode to 'infer'\n"
          ],
          "name": "stdout"
        },
        {
          "output_type": "stream",
          "text": [
            "INFO:tensorflow:Setting T2TModel mode to 'infer'\n"
          ],
          "name": "stderr"
        },
        {
          "output_type": "stream",
          "text": [
            "INFO:tensorflow:Setting hparams.dropout to 0.0\n"
          ],
          "name": "stdout"
        },
        {
          "output_type": "stream",
          "text": [
            "INFO:tensorflow:Setting hparams.dropout to 0.0\n"
          ],
          "name": "stderr"
        },
        {
          "output_type": "stream",
          "text": [
            "INFO:tensorflow:Setting hparams.label_smoothing to 0.0\n"
          ],
          "name": "stdout"
        },
        {
          "output_type": "stream",
          "text": [
            "INFO:tensorflow:Setting hparams.label_smoothing to 0.0\n"
          ],
          "name": "stderr"
        },
        {
          "output_type": "stream",
          "text": [
            "INFO:tensorflow:Setting hparams.layer_prepostprocess_dropout to 0.0\n"
          ],
          "name": "stdout"
        },
        {
          "output_type": "stream",
          "text": [
            "INFO:tensorflow:Setting hparams.layer_prepostprocess_dropout to 0.0\n"
          ],
          "name": "stderr"
        },
        {
          "output_type": "stream",
          "text": [
            "INFO:tensorflow:Setting hparams.symbol_dropout to 0.0\n"
          ],
          "name": "stdout"
        },
        {
          "output_type": "stream",
          "text": [
            "INFO:tensorflow:Setting hparams.symbol_dropout to 0.0\n"
          ],
          "name": "stderr"
        },
        {
          "output_type": "stream",
          "text": [
            "INFO:tensorflow:Setting hparams.attention_dropout to 0.0\n"
          ],
          "name": "stdout"
        },
        {
          "output_type": "stream",
          "text": [
            "INFO:tensorflow:Setting hparams.attention_dropout to 0.0\n"
          ],
          "name": "stderr"
        },
        {
          "output_type": "stream",
          "text": [
            "INFO:tensorflow:Setting hparams.relu_dropout to 0.0\n"
          ],
          "name": "stdout"
        },
        {
          "output_type": "stream",
          "text": [
            "INFO:tensorflow:Setting hparams.relu_dropout to 0.0\n"
          ],
          "name": "stderr"
        },
        {
          "output_type": "stream",
          "text": [
            "WARNING:tensorflow:From /usr/local/lib/python3.6/dist-packages/tensor2tensor/utils/trainer_lib.py:278: RunConfig.__init__ (from tensorflow.contrib.learn.python.learn.estimators.run_config) is deprecated and will be removed in a future version.\n",
            "Instructions for updating:\n",
            "When switching to tf.estimator.Estimator, use tf.estimator.RunConfig instead.\n"
          ],
          "name": "stdout"
        },
        {
          "output_type": "stream",
          "text": [
            "WARNING:tensorflow:From /usr/local/lib/python3.6/dist-packages/tensor2tensor/utils/trainer_lib.py:278: RunConfig.__init__ (from tensorflow.contrib.learn.python.learn.estimators.run_config) is deprecated and will be removed in a future version.\n",
            "Instructions for updating:\n",
            "When switching to tf.estimator.Estimator, use tf.estimator.RunConfig instead.\n"
          ],
          "name": "stderr"
        },
        {
          "output_type": "stream",
          "text": [
            "INFO:tensorflow:Configuring DataParallelism to replicate the model.\n"
          ],
          "name": "stdout"
        },
        {
          "output_type": "stream",
          "text": [
            "INFO:tensorflow:Configuring DataParallelism to replicate the model.\n"
          ],
          "name": "stderr"
        },
        {
          "output_type": "stream",
          "text": [
            "INFO:tensorflow:schedule=continuous_train_and_eval\n"
          ],
          "name": "stdout"
        },
        {
          "output_type": "stream",
          "text": [
            "INFO:tensorflow:schedule=continuous_train_and_eval\n"
          ],
          "name": "stderr"
        },
        {
          "output_type": "stream",
          "text": [
            "INFO:tensorflow:worker_gpu=1\n"
          ],
          "name": "stdout"
        },
        {
          "output_type": "stream",
          "text": [
            "INFO:tensorflow:worker_gpu=1\n"
          ],
          "name": "stderr"
        },
        {
          "output_type": "stream",
          "text": [
            "INFO:tensorflow:sync=False\n"
          ],
          "name": "stdout"
        },
        {
          "output_type": "stream",
          "text": [
            "INFO:tensorflow:sync=False\n"
          ],
          "name": "stderr"
        },
        {
          "output_type": "stream",
          "text": [
            "WARNING:tensorflow:Schedule=continuous_train_and_eval. Assuming that training is running on a single machine.\n"
          ],
          "name": "stdout"
        },
        {
          "output_type": "stream",
          "text": [
            "WARNING:tensorflow:Schedule=continuous_train_and_eval. Assuming that training is running on a single machine.\n"
          ],
          "name": "stderr"
        },
        {
          "output_type": "stream",
          "text": [
            "INFO:tensorflow:datashard_devices: ['gpu:0']\n"
          ],
          "name": "stdout"
        },
        {
          "output_type": "stream",
          "text": [
            "INFO:tensorflow:datashard_devices: ['gpu:0']\n"
          ],
          "name": "stderr"
        },
        {
          "output_type": "stream",
          "text": [
            "INFO:tensorflow:caching_devices: None\n"
          ],
          "name": "stdout"
        },
        {
          "output_type": "stream",
          "text": [
            "INFO:tensorflow:caching_devices: None\n"
          ],
          "name": "stderr"
        },
        {
          "output_type": "stream",
          "text": [
            "INFO:tensorflow:ps_devices: ['gpu:0']\n"
          ],
          "name": "stdout"
        },
        {
          "output_type": "stream",
          "text": [
            "INFO:tensorflow:ps_devices: ['gpu:0']\n"
          ],
          "name": "stderr"
        },
        {
          "output_type": "stream",
          "text": [
            "WARNING:tensorflow:Using temporary folder as model directory: /tmp/tmp6eqmmm1o\n"
          ],
          "name": "stdout"
        },
        {
          "output_type": "stream",
          "text": [
            "WARNING:tensorflow:Using temporary folder as model directory: /tmp/tmp6eqmmm1o\n"
          ],
          "name": "stderr"
        },
        {
          "output_type": "stream",
          "text": [
            "INFO:tensorflow:Using config: {'_task_type': None, '_task_id': 0, '_cluster_spec': <tensorflow.python.training.server_lib.ClusterSpec object at 0x7fb85038d2e8>, '_master': '', '_num_ps_replicas': 0, '_num_worker_replicas': 0, '_environment': 'local', '_is_chief': True, '_evaluation_master': '', '_train_distribute': None, '_eval_distribute': None, '_device_fn': None, '_tf_config': gpu_options {\n",
            "  per_process_gpu_memory_fraction: 1.0\n",
            "}\n",
            ", '_tf_random_seed': None, '_save_summary_steps': 100, '_save_checkpoints_secs': None, '_log_step_count_steps': 100, '_protocol': None, '_session_config': gpu_options {\n",
            "  per_process_gpu_memory_fraction: 0.95\n",
            "}\n",
            "allow_soft_placement: true\n",
            "graph_options {\n",
            "  optimizer_options {\n",
            "    global_jit_level: OFF\n",
            "  }\n",
            "}\n",
            ", '_save_checkpoints_steps': 1000, '_keep_checkpoint_max': 20, '_keep_checkpoint_every_n_hours': 10000, '_model_dir': '/tmp/tmp6eqmmm1o', 'use_tpu': False, 't2t_device_info': {'num_async_replicas': 1}, 'data_parallelism': <tensor2tensor.utils.expert_utils.Parallelism object at 0x7fb85038d390>}\n"
          ],
          "name": "stdout"
        },
        {
          "output_type": "stream",
          "text": [
            "INFO:tensorflow:Using config: {'_task_type': None, '_task_id': 0, '_cluster_spec': <tensorflow.python.training.server_lib.ClusterSpec object at 0x7fb85038d2e8>, '_master': '', '_num_ps_replicas': 0, '_num_worker_replicas': 0, '_environment': 'local', '_is_chief': True, '_evaluation_master': '', '_train_distribute': None, '_eval_distribute': None, '_device_fn': None, '_tf_config': gpu_options {\n",
            "  per_process_gpu_memory_fraction: 1.0\n",
            "}\n",
            ", '_tf_random_seed': None, '_save_summary_steps': 100, '_save_checkpoints_secs': None, '_log_step_count_steps': 100, '_protocol': None, '_session_config': gpu_options {\n",
            "  per_process_gpu_memory_fraction: 0.95\n",
            "}\n",
            "allow_soft_placement: true\n",
            "graph_options {\n",
            "  optimizer_options {\n",
            "    global_jit_level: OFF\n",
            "  }\n",
            "}\n",
            ", '_save_checkpoints_steps': 1000, '_keep_checkpoint_max': 20, '_keep_checkpoint_every_n_hours': 10000, '_model_dir': '/tmp/tmp6eqmmm1o', 'use_tpu': False, 't2t_device_info': {'num_async_replicas': 1}, 'data_parallelism': <tensor2tensor.utils.expert_utils.Parallelism object at 0x7fb85038d390>}\n"
          ],
          "name": "stderr"
        },
        {
          "output_type": "stream",
          "text": [
            "WARNING:tensorflow:Estimator's model_fn (<function T2TModel.make_estimator_model_fn.<locals>.wrapping_model_fn at 0x7fb8504f19d8>) includes params argument, but params are not passed to Estimator.\n"
          ],
          "name": "stdout"
        },
        {
          "output_type": "stream",
          "text": [
            "WARNING:tensorflow:Estimator's model_fn (<function T2TModel.make_estimator_model_fn.<locals>.wrapping_model_fn at 0x7fb8504f19d8>) includes params argument, but params are not passed to Estimator.\n"
          ],
          "name": "stderr"
        }
      ]
    },
    {
      "cell_type": "markdown",
      "metadata": {
        "id": "kH4H3W83QmmE",
        "colab_type": "text"
      },
      "source": [
        "The following function can be used to generate one random description (from the 120 scenarios as mentioned in the paper) together with its solution in XML format. Other functions exist to generate multiple descriptions or descriptions from a particular scenario, which are not shown here. "
      ]
    },
    {
      "cell_type": "code",
      "metadata": {
        "id": "SC9T0rp0QI-O",
        "colab_type": "code",
        "outputId": "183bb3c8-843a-46de-eeee-b157bbe6ad08",
        "colab": {
          "base_uri": "https://localhost:8080/",
          "height": 71
        }
      },
      "source": [
        "description, solution = d2p.data_generation.get_description()\n",
        "print(description)\n",
        "print(solution)"
      ],
      "execution_count": 5,
      "outputs": [
        {
          "output_type": "stream",
          "text": [
            "A typical army recruitment process starts by shortlisting all applications of the candidates. Next, those people are then called to sit the following tests: drug and alcohol, eye, color vision, hearing, blood, urine, weight, fingerprinting and doctor examination. The color vision can only be done after the eye test, while the doctor examination can only be done after color vision, hearing, blood, urine and weight have been tested. Moreover, it may be required for some candidates to repeat some of these tests multiple times in order to get a correct assessment. For example the blood test may need to be repeated . If the candidate has taken too much sugar in the previous 24 hours, the blood test must be performed a second time. After the candidates that pass all tests are asked to sit a mental exam and a physical exam, the candidates are interviewed. Whenever the candidate passes these two exams and performs well in the interview , the candidate can be recruited in the army.\n",
            "<act> shortlist applications </act> <act> call people </act>    <path1><act> perform blood test </act></path1> <act> sit mental and physical exam </act> <act> interview candidates </act> <path1><act> recruit candidate </act></path1>\n"
          ],
          "name": "stdout"
        }
      ]
    },
    {
      "cell_type": "markdown",
      "metadata": {
        "id": "lg9xXif845LP",
        "colab_type": "text"
      },
      "source": [
        "## The 8 steps of the pipeline in action"
      ]
    },
    {
      "cell_type": "markdown",
      "metadata": {
        "id": "ljlXqsQzFHWt",
        "colab_type": "text"
      },
      "source": [
        "We define an example description and also save its corresponding reference solution in the variable 'solution'."
      ]
    },
    {
      "cell_type": "code",
      "metadata": {
        "id": "wnP49QbOEjs_",
        "colab_type": "code",
        "colab": {}
      },
      "source": [
        "description = \"First the secretary clarifies the shipment method. Whenever there's a requirement for large amounts, he selects one of three logistic companies. Whenever small amounts are required, a package label is written by the secretary. Subsequently the goods can be packaged by the warehousemen. Next, the packaged goods are prepared for being picked up by the logistic company.\"\n",
        "solution = \"<act> clarify shipment method </act> <path1> <act> select one of three logistic companies </act> </path1> <path2> <act> write package label </act> </path2> <act> package goods </act> <act> prepare packaged goods </act> <act> pick up </act>\""
      ],
      "execution_count": 0,
      "outputs": []
    },
    {
      "cell_type": "markdown",
      "metadata": {
        "id": "UKvnwQlPFVpd",
        "colab_type": "text"
      },
      "source": [
        "###  1. Contraction expansion\n",
        "In case a description contains any English contractions, this step expands them back to their original form. As mentioned in the paper, this step uses a look-up dictionary rather than the more clever Pycontractions model."
      ]
    },
    {
      "cell_type": "code",
      "metadata": {
        "id": "HT9yiDIhFnRo",
        "colab_type": "code",
        "outputId": "c32d69a3-fc94-4495-a1f6-36cc752142bd",
        "colab": {
          "base_uri": "https://localhost:8080/",
          "height": 54
        }
      },
      "source": [
        "description = d2p.contraction_expansion.expand_contractions(description)\n",
        "print(description)"
      ],
      "execution_count": 7,
      "outputs": [
        {
          "output_type": "stream",
          "text": [
            "First the secretary clarifies the shipment method. Whenever there is a requirement for large amounts, he selects one of three logistic companies. Whenever small amounts are required, a package label is written by the secretary. Subsequently the goods can be packaged by the warehousemen. Next, the packaged goods are prepared for being picked up by the logistic company.\n"
          ],
          "name": "stdout"
        }
      ]
    },
    {
      "cell_type": "markdown",
      "metadata": {
        "id": "E23Ea1KkF66a",
        "colab_type": "text"
      },
      "source": [
        "### 2. Coreference resolution\n",
        "In this step, coreferences are resolved. Coreference resolution is limited to the words \"he\", \"she\" and \"it\", as mentioned in the paper. "
      ]
    },
    {
      "cell_type": "code",
      "metadata": {
        "id": "KOJZeRc7FtDu",
        "colab_type": "code",
        "outputId": "b9da5f8a-8f70-4048-8ba6-01ce42eace04",
        "colab": {
          "base_uri": "https://localhost:8080/",
          "height": 54
        }
      },
      "source": [
        "description = d2p.coreference_resolution.resolve_coreferences(description)\n",
        "print(description)"
      ],
      "execution_count": 8,
      "outputs": [
        {
          "output_type": "stream",
          "text": [
            "First the secretary clarifies the shipment method. Whenever there is a requirement for large amounts, the secretary selects one of three logistic companies. Whenever small amounts are required, a package label is written by the secretary. Subsequently the goods can be packaged by the warehousemen. Next, the packaged goods are prepared for being picked up by the logistic company.\n"
          ],
          "name": "stdout"
        }
      ]
    },
    {
      "cell_type": "markdown",
      "metadata": {
        "id": "qMl5HWRvGDp4",
        "colab_type": "text"
      },
      "source": [
        "### 3. Clause extraction\n",
        "Next, the full description is split up into separate clauses. A clause can be a sentence or can be a certain part of a sentence. The function below returns a list containing all the clauses."
      ]
    },
    {
      "cell_type": "code",
      "metadata": {
        "id": "D0IL5ALjFxXX",
        "colab_type": "code",
        "outputId": "9263ad3e-4f82-4460-e16f-b783390e2cae",
        "colab": {
          "base_uri": "https://localhost:8080/",
          "height": 54
        }
      },
      "source": [
        "clauses = d2p.clause_extraction.get_clauses(description)\n",
        "print(clauses)"
      ],
      "execution_count": 9,
      "outputs": [
        {
          "output_type": "stream",
          "text": [
            "['First the secretary clarifies the shipment method', 'Whenever there is a requirement for large amounts', 'The secretary selects one of three logistic companies', 'Whenever small amounts are required', 'A package label is written by the secretary', 'Subsequently the goods can be packaged by the warehousemen', 'Next the packaged goods are prepared for', 'Being picked up by the logistic company']\n"
          ],
          "name": "stdout"
        }
      ]
    },
    {
      "cell_type": "markdown",
      "metadata": {
        "id": "dtk8ChwEGGHU",
        "colab_type": "text"
      },
      "source": [
        "### 4. Activity recognition\n",
        "In this step, a deep learning model labels each clause obtained in the previous step as containing an activity (True) or not containing an activity (False). The function returns a Pandas dataframe with 2 columns. The first column, 'clause', returns the clauses unchanged. The second column 'label' shows the corresponding label. "
      ]
    },
    {
      "cell_type": "code",
      "metadata": {
        "id": "8gfBO4CAFzk0",
        "colab_type": "code",
        "outputId": "0d27bb0e-e09f-444b-e4f7-6ec9efdc5c33",
        "colab": {
          "base_uri": "https://localhost:8080/",
          "height": 170
        }
      },
      "source": [
        "labeled_clauses_df = d2p.activity_recognition.contains_activity_list(clauses)\n",
        "print(labeled_clauses_df)"
      ],
      "execution_count": 10,
      "outputs": [
        {
          "output_type": "stream",
          "text": [
            "                                              clause  label\n",
            "0  First the secretary clarifies the shipment method   True\n",
            "1  Whenever there is a requirement for large amounts  False\n",
            "2  The secretary selects one of three logistic co...   True\n",
            "3                Whenever small amounts are required  False\n",
            "4        A package label is written by the secretary   True\n",
            "5  Subsequently the goods can be packaged by the ...   True\n",
            "6           Next the packaged goods are prepared for   True\n",
            "7            Being picked up by the logistic company   True\n"
          ],
          "name": "stdout"
        }
      ]
    },
    {
      "cell_type": "markdown",
      "metadata": {
        "id": "TVoSrT39GGlt",
        "colab_type": "text"
      },
      "source": [
        "### 5. Activity extraction\n",
        "Subsequently, the activity is extracted for the clauses labeled as 'True' in the previous step. The extracted activity is added in a third column 'activity'. Clauses labeled as False get 'NaN' in the third column."
      ]
    },
    {
      "cell_type": "code",
      "metadata": {
        "id": "cO4bLGb2Fzbl",
        "colab_type": "code",
        "outputId": "50bcf2a9-6aeb-40d8-ee00-0769670b1cd4",
        "colab": {
          "base_uri": "https://localhost:8080/",
          "height": 204
        }
      },
      "source": [
        "activities_df = d2p.activity_extraction.get_activity_df(labeled_clauses_df)\n",
        "print(activities_df)"
      ],
      "execution_count": 11,
      "outputs": [
        {
          "output_type": "stream",
          "text": [
            "                                              clause  ...                                activity\n",
            "0  First the secretary clarifies the shipment method  ...                 clarify shipment method\n",
            "1  Whenever there is a requirement for large amounts  ...                                     NaN\n",
            "2  The secretary selects one of three logistic co...  ...  select one of three logistic companies\n",
            "3                Whenever small amounts are required  ...                                     NaN\n",
            "4        A package label is written by the secretary  ...                     write package label\n",
            "5  Subsequently the goods can be packaged by the ...  ...                           package goods\n",
            "6           Next the packaged goods are prepared for  ...                  prepare packaged goods\n",
            "7            Being picked up by the logistic company  ...                                pick up \n",
            "\n",
            "[8 rows x 3 columns]\n"
          ],
          "name": "stdout"
        }
      ]
    },
    {
      "cell_type": "markdown",
      "metadata": {
        "id": "EjrhmFBAGHAK",
        "colab_type": "text"
      },
      "source": [
        "### 6. Create semi-structured description\n",
        "In the description, this function looks for the 'activity' clauses (as obtained in the activity recognition step). An activity clause that is found in the description is replaced by the extracted activity (as obtained in the activity extraction step) between XML tags \\<act> and \\</act>. Predefined conjunctions are not replaced in the process. "
      ]
    },
    {
      "cell_type": "code",
      "metadata": {
        "id": "MPCLCaDvFzQQ",
        "colab_type": "code",
        "outputId": "56349dea-2b81-484c-863f-a5960bc197ca",
        "colab": {
          "base_uri": "https://localhost:8080/",
          "height": 54
        }
      },
      "source": [
        "str_descr = d2p.structured_description.get_structured_description(description, activities_df)\n",
        "print(str_descr)"
      ],
      "execution_count": 12,
      "outputs": [
        {
          "output_type": "stream",
          "text": [
            "first <act> clarify shipment method </act>  Whenever there is a requirement for large amounts  <act> select one of three logistic companies </act>  Whenever small amounts are required  <act> write package label </act>  subsequently <act> package goods </act>  next <act> prepare packaged goods </act>   <act> pick up  </act> \n"
          ],
          "name": "stdout"
        }
      ]
    },
    {
      "cell_type": "markdown",
      "metadata": {
        "id": "FiVfqtpTGcZG",
        "colab_type": "text"
      },
      "source": [
        "### 7. Transform to XML format\n",
        "The Transformer model translates the semi-structured description into a complete process model in XML format. Currently, log information that is part of the Transformer is still shown when calling the 'structured2xml' function, as can be seen below."
      ]
    },
    {
      "cell_type": "code",
      "metadata": {
        "id": "vqIvIL6YG8Ml",
        "colab_type": "code",
        "outputId": "eddd8f7b-feac-442d-d7f7-f76fb78f9bbf",
        "colab": {
          "base_uri": "https://localhost:8080/",
          "height": 2298
        }
      },
      "source": [
        "xml = d2p.xml_model.structured2xml(str_descr)\n",
        "print(xml)"
      ],
      "execution_count": 13,
      "outputs": [
        {
          "output_type": "stream",
          "text": [
            "WARNING:tensorflow:From /usr/local/lib/python3.6/dist-packages/tensorflow/python/framework/op_def_library.py:263: colocate_with (from tensorflow.python.framework.ops) is deprecated and will be removed in a future version.\n",
            "Instructions for updating:\n",
            "Colocations handled automatically by placer.\n"
          ],
          "name": "stdout"
        },
        {
          "output_type": "stream",
          "text": [
            "WARNING:tensorflow:From /usr/local/lib/python3.6/dist-packages/tensorflow/python/framework/op_def_library.py:263: colocate_with (from tensorflow.python.framework.ops) is deprecated and will be removed in a future version.\n",
            "Instructions for updating:\n",
            "Colocations handled automatically by placer.\n"
          ],
          "name": "stderr"
        },
        {
          "output_type": "stream",
          "text": [
            "INFO:tensorflow:Decoding batch 0\n"
          ],
          "name": "stdout"
        },
        {
          "output_type": "stream",
          "text": [
            "INFO:tensorflow:Decoding batch 0\n"
          ],
          "name": "stderr"
        },
        {
          "output_type": "stream",
          "text": [
            "WARNING:tensorflow:From /usr/local/lib/python3.6/dist-packages/description2process/xml_model.py:296: py_func (from tensorflow.python.ops.script_ops) is deprecated and will be removed in a future version.\n",
            "Instructions for updating:\n",
            "tf.py_func is deprecated in TF V2. Instead, use\n",
            "    tf.py_function, which takes a python function which manipulates tf eager\n",
            "    tensors instead of numpy arrays. It's easy to convert a tf eager tensor to\n",
            "    an ndarray (just call tensor.numpy()) but having access to eager tensors\n",
            "    means `tf.py_function`s can use accelerators such as GPUs as well as\n",
            "    being differentiable using a gradient tape.\n",
            "    \n"
          ],
          "name": "stdout"
        },
        {
          "output_type": "stream",
          "text": [
            "WARNING:tensorflow:From /usr/local/lib/python3.6/dist-packages/description2process/xml_model.py:296: py_func (from tensorflow.python.ops.script_ops) is deprecated and will be removed in a future version.\n",
            "Instructions for updating:\n",
            "tf.py_func is deprecated in TF V2. Instead, use\n",
            "    tf.py_function, which takes a python function which manipulates tf eager\n",
            "    tensors instead of numpy arrays. It's easy to convert a tf eager tensor to\n",
            "    an ndarray (just call tensor.numpy()) but having access to eager tensors\n",
            "    means `tf.py_function`s can use accelerators such as GPUs as well as\n",
            "    being differentiable using a gradient tape.\n",
            "    \n"
          ],
          "name": "stderr"
        },
        {
          "output_type": "stream",
          "text": [
            "WARNING:tensorflow:From /usr/local/lib/python3.6/dist-packages/description2process/xml_model.py:348: to_int32 (from tensorflow.python.ops.math_ops) is deprecated and will be removed in a future version.\n",
            "Instructions for updating:\n",
            "Use tf.cast instead.\n"
          ],
          "name": "stdout"
        },
        {
          "output_type": "stream",
          "text": [
            "WARNING:tensorflow:From /usr/local/lib/python3.6/dist-packages/description2process/xml_model.py:348: to_int32 (from tensorflow.python.ops.math_ops) is deprecated and will be removed in a future version.\n",
            "Instructions for updating:\n",
            "Use tf.cast instead.\n"
          ],
          "name": "stderr"
        },
        {
          "output_type": "stream",
          "text": [
            "WARNING:tensorflow:Input graph does not use tf.data.Dataset or contain a QueueRunner. That means predict yields forever. This is probably a mistake.\n"
          ],
          "name": "stdout"
        },
        {
          "output_type": "stream",
          "text": [
            "WARNING:tensorflow:Input graph does not use tf.data.Dataset or contain a QueueRunner. That means predict yields forever. This is probably a mistake.\n"
          ],
          "name": "stderr"
        },
        {
          "output_type": "stream",
          "text": [
            "INFO:tensorflow:Calling model_fn.\n"
          ],
          "name": "stdout"
        },
        {
          "output_type": "stream",
          "text": [
            "INFO:tensorflow:Calling model_fn.\n"
          ],
          "name": "stderr"
        },
        {
          "output_type": "stream",
          "text": [
            ":::MLPv0.5.0 transformer 1558025401.719787121 (/usr/local/lib/python3.6/dist-packages/tensor2tensor/models/transformer.py:59) model_hp_embedding_shared_weights: {\"vocab_size\": 1414, \"hidden_size\": 256}\n"
          ],
          "name": "stdout"
        },
        {
          "output_type": "stream",
          "text": [
            "DEBUG:mlperf_compliance::::MLPv0.5.0 transformer 1558025401.719787121 (/usr/local/lib/python3.6/dist-packages/tensor2tensor/models/transformer.py:59) model_hp_embedding_shared_weights: {\"vocab_size\": 1414, \"hidden_size\": 256}\n"
          ],
          "name": "stderr"
        },
        {
          "output_type": "stream",
          "text": [
            "INFO:tensorflow:Setting T2TModel mode to 'infer'\n"
          ],
          "name": "stdout"
        },
        {
          "output_type": "stream",
          "text": [
            "INFO:tensorflow:Setting T2TModel mode to 'infer'\n"
          ],
          "name": "stderr"
        },
        {
          "output_type": "stream",
          "text": [
            "INFO:tensorflow:Setting hparams.dropout to 0.0\n"
          ],
          "name": "stdout"
        },
        {
          "output_type": "stream",
          "text": [
            "INFO:tensorflow:Setting hparams.dropout to 0.0\n"
          ],
          "name": "stderr"
        },
        {
          "output_type": "stream",
          "text": [
            "INFO:tensorflow:Setting hparams.label_smoothing to 0.0\n"
          ],
          "name": "stdout"
        },
        {
          "output_type": "stream",
          "text": [
            "INFO:tensorflow:Setting hparams.label_smoothing to 0.0\n"
          ],
          "name": "stderr"
        },
        {
          "output_type": "stream",
          "text": [
            "INFO:tensorflow:Setting hparams.layer_prepostprocess_dropout to 0.0\n"
          ],
          "name": "stdout"
        },
        {
          "output_type": "stream",
          "text": [
            "INFO:tensorflow:Setting hparams.layer_prepostprocess_dropout to 0.0\n"
          ],
          "name": "stderr"
        },
        {
          "output_type": "stream",
          "text": [
            "INFO:tensorflow:Setting hparams.symbol_dropout to 0.0\n"
          ],
          "name": "stdout"
        },
        {
          "output_type": "stream",
          "text": [
            "INFO:tensorflow:Setting hparams.symbol_dropout to 0.0\n"
          ],
          "name": "stderr"
        },
        {
          "output_type": "stream",
          "text": [
            "INFO:tensorflow:Setting hparams.attention_dropout to 0.0\n"
          ],
          "name": "stdout"
        },
        {
          "output_type": "stream",
          "text": [
            "INFO:tensorflow:Setting hparams.attention_dropout to 0.0\n"
          ],
          "name": "stderr"
        },
        {
          "output_type": "stream",
          "text": [
            "INFO:tensorflow:Setting hparams.relu_dropout to 0.0\n"
          ],
          "name": "stdout"
        },
        {
          "output_type": "stream",
          "text": [
            "INFO:tensorflow:Setting hparams.relu_dropout to 0.0\n"
          ],
          "name": "stderr"
        },
        {
          "output_type": "stream",
          "text": [
            "INFO:tensorflow:Beam Decoding with beam size 4\n"
          ],
          "name": "stdout"
        },
        {
          "output_type": "stream",
          "text": [
            "INFO:tensorflow:Beam Decoding with beam size 4\n"
          ],
          "name": "stderr"
        },
        {
          "output_type": "stream",
          "text": [
            "WARNING:tensorflow:From /usr/local/lib/python3.6/dist-packages/tensorflow/python/framework/function.py:1007: calling Graph.create_op (from tensorflow.python.framework.ops) with compute_shapes is deprecated and will be removed in a future version.\n",
            "Instructions for updating:\n",
            "Shapes are always computed; don't use the compute_shapes as it has no effect.\n"
          ],
          "name": "stdout"
        },
        {
          "output_type": "stream",
          "text": [
            "WARNING:tensorflow:From /usr/local/lib/python3.6/dist-packages/tensorflow/python/framework/function.py:1007: calling Graph.create_op (from tensorflow.python.framework.ops) with compute_shapes is deprecated and will be removed in a future version.\n",
            "Instructions for updating:\n",
            "Shapes are always computed; don't use the compute_shapes as it has no effect.\n"
          ],
          "name": "stderr"
        },
        {
          "output_type": "stream",
          "text": [
            "WARNING:tensorflow:From /usr/local/lib/python3.6/dist-packages/tensor2tensor/layers/modalities.py:114: to_float (from tensorflow.python.ops.math_ops) is deprecated and will be removed in a future version.\n",
            "Instructions for updating:\n",
            "Use tf.cast instead.\n"
          ],
          "name": "stdout"
        },
        {
          "output_type": "stream",
          "text": [
            "WARNING:tensorflow:From /usr/local/lib/python3.6/dist-packages/tensor2tensor/layers/modalities.py:114: to_float (from tensorflow.python.ops.math_ops) is deprecated and will be removed in a future version.\n",
            "Instructions for updating:\n",
            "Use tf.cast instead.\n"
          ],
          "name": "stderr"
        },
        {
          "output_type": "stream",
          "text": [
            ":::MLPv0.5.0 transformer 1558025402.186272144 (/usr/local/lib/python3.6/dist-packages/tensor2tensor/utils/expert_utils.py:231) model_hp_layer_postprocess_dropout: 0.0\n"
          ],
          "name": "stdout"
        },
        {
          "output_type": "stream",
          "text": [
            "DEBUG:mlperf_compliance::::MLPv0.5.0 transformer 1558025402.186272144 (/usr/local/lib/python3.6/dist-packages/tensor2tensor/utils/expert_utils.py:231) model_hp_layer_postprocess_dropout: 0.0\n"
          ],
          "name": "stderr"
        },
        {
          "output_type": "stream",
          "text": [
            "WARNING:tensorflow:From /usr/local/lib/python3.6/dist-packages/tensor2tensor/models/transformer.py:92: calling dropout (from tensorflow.python.ops.nn_ops) with keep_prob is deprecated and will be removed in a future version.\n",
            "Instructions for updating:\n",
            "Please use `rate` instead of `keep_prob`. Rate should be set to `rate = 1 - keep_prob`.\n"
          ],
          "name": "stdout"
        },
        {
          "output_type": "stream",
          "text": [
            "WARNING:tensorflow:From /usr/local/lib/python3.6/dist-packages/tensor2tensor/models/transformer.py:92: calling dropout (from tensorflow.python.ops.nn_ops) with keep_prob is deprecated and will be removed in a future version.\n",
            "Instructions for updating:\n",
            "Please use `rate` instead of `keep_prob`. Rate should be set to `rate = 1 - keep_prob`.\n"
          ],
          "name": "stderr"
        },
        {
          "output_type": "stream",
          "text": [
            ":::MLPv0.5.0 transformer 1558025402.221952915 (/usr/local/lib/python3.6/dist-packages/tensor2tensor/models/transformer.py:101) model_hp_hidden_layers: 2\n"
          ],
          "name": "stdout"
        },
        {
          "output_type": "stream",
          "text": [
            "DEBUG:mlperf_compliance::::MLPv0.5.0 transformer 1558025402.221952915 (/usr/local/lib/python3.6/dist-packages/tensor2tensor/models/transformer.py:101) model_hp_hidden_layers: 2\n"
          ],
          "name": "stderr"
        },
        {
          "output_type": "stream",
          "text": [
            ":::MLPv0.5.0 transformer 1558025402.245168686 (/usr/local/lib/python3.6/dist-packages/tensor2tensor/models/transformer.py:101) model_hp_attention_dropout: 0.0\n"
          ],
          "name": "stdout"
        },
        {
          "output_type": "stream",
          "text": [
            "DEBUG:mlperf_compliance::::MLPv0.5.0 transformer 1558025402.245168686 (/usr/local/lib/python3.6/dist-packages/tensor2tensor/models/transformer.py:101) model_hp_attention_dropout: 0.0\n"
          ],
          "name": "stderr"
        },
        {
          "output_type": "stream",
          "text": [
            ":::MLPv0.5.0 transformer 1558025402.273509264 (/usr/local/lib/python3.6/dist-packages/tensor2tensor/models/transformer.py:101) model_hp_attention_dense: {\"use_bias\": \"false\", \"num_heads\": 4, \"hidden_size\": 256}\n"
          ],
          "name": "stdout"
        },
        {
          "output_type": "stream",
          "text": [
            "DEBUG:mlperf_compliance::::MLPv0.5.0 transformer 1558025402.273509264 (/usr/local/lib/python3.6/dist-packages/tensor2tensor/models/transformer.py:101) model_hp_attention_dense: {\"use_bias\": \"false\", \"num_heads\": 4, \"hidden_size\": 256}\n"
          ],
          "name": "stderr"
        },
        {
          "output_type": "stream",
          "text": [
            "WARNING:tensorflow:From /usr/local/lib/python3.6/dist-packages/tensor2tensor/layers/common_layers.py:2926: dense (from tensorflow.python.layers.core) is deprecated and will be removed in a future version.\n",
            "Instructions for updating:\n",
            "Use keras.layers.dense instead.\n"
          ],
          "name": "stdout"
        },
        {
          "output_type": "stream",
          "text": [
            "WARNING:tensorflow:From /usr/local/lib/python3.6/dist-packages/tensor2tensor/layers/common_layers.py:2926: dense (from tensorflow.python.layers.core) is deprecated and will be removed in a future version.\n",
            "Instructions for updating:\n",
            "Use keras.layers.dense instead.\n"
          ],
          "name": "stderr"
        },
        {
          "output_type": "stream",
          "text": [
            ":::MLPv0.5.0 transformer 1558025402.540284157 (/usr/local/lib/python3.6/dist-packages/tensor2tensor/layers/transformer_layers.py:188) model_hp_ffn_filter_dense: {\"filter_size\": 512, \"use_bias\": \"True\", \"activation\": \"relu\"}\n"
          ],
          "name": "stdout"
        },
        {
          "output_type": "stream",
          "text": [
            "DEBUG:mlperf_compliance::::MLPv0.5.0 transformer 1558025402.540284157 (/usr/local/lib/python3.6/dist-packages/tensor2tensor/layers/transformer_layers.py:188) model_hp_ffn_filter_dense: {\"filter_size\": 512, \"use_bias\": \"True\", \"activation\": \"relu\"}\n"
          ],
          "name": "stderr"
        },
        {
          "output_type": "stream",
          "text": [
            ":::MLPv0.5.0 transformer 1558025402.562795162 (/usr/local/lib/python3.6/dist-packages/tensor2tensor/layers/transformer_layers.py:188) model_hp_ffn_output_dense: {\"hidden_size\": 256, \"use_bias\": \"True\"}\n"
          ],
          "name": "stdout"
        },
        {
          "output_type": "stream",
          "text": [
            "DEBUG:mlperf_compliance::::MLPv0.5.0 transformer 1558025402.562795162 (/usr/local/lib/python3.6/dist-packages/tensor2tensor/layers/transformer_layers.py:188) model_hp_ffn_output_dense: {\"hidden_size\": 256, \"use_bias\": \"True\"}\n"
          ],
          "name": "stderr"
        },
        {
          "output_type": "stream",
          "text": [
            ":::MLPv0.5.0 transformer 1558025402.584467173 (/usr/local/lib/python3.6/dist-packages/tensor2tensor/layers/transformer_layers.py:188) model_hp_relu_dropout: 0.0\n"
          ],
          "name": "stdout"
        },
        {
          "output_type": "stream",
          "text": [
            "DEBUG:mlperf_compliance::::MLPv0.5.0 transformer 1558025402.584467173 (/usr/local/lib/python3.6/dist-packages/tensor2tensor/layers/transformer_layers.py:188) model_hp_relu_dropout: 0.0\n"
          ],
          "name": "stderr"
        },
        {
          "output_type": "stream",
          "text": [
            ":::MLPv0.5.0 transformer 1558025403.309868813 (/usr/local/lib/python3.6/dist-packages/tensor2tensor/layers/transformer_layers.py:188) model_hp_ffn_filter_dense: {\"filter_size\": 512, \"use_bias\": \"True\", \"activation\": \"relu\"}\n"
          ],
          "name": "stdout"
        },
        {
          "output_type": "stream",
          "text": [
            "DEBUG:mlperf_compliance::::MLPv0.5.0 transformer 1558025403.309868813 (/usr/local/lib/python3.6/dist-packages/tensor2tensor/layers/transformer_layers.py:188) model_hp_ffn_filter_dense: {\"filter_size\": 512, \"use_bias\": \"True\", \"activation\": \"relu\"}\n"
          ],
          "name": "stderr"
        },
        {
          "output_type": "stream",
          "text": [
            ":::MLPv0.5.0 transformer 1558025403.332438231 (/usr/local/lib/python3.6/dist-packages/tensor2tensor/layers/transformer_layers.py:188) model_hp_ffn_output_dense: {\"hidden_size\": 256, \"use_bias\": \"True\"}\n"
          ],
          "name": "stdout"
        },
        {
          "output_type": "stream",
          "text": [
            "DEBUG:mlperf_compliance::::MLPv0.5.0 transformer 1558025403.332438231 (/usr/local/lib/python3.6/dist-packages/tensor2tensor/layers/transformer_layers.py:188) model_hp_ffn_output_dense: {\"hidden_size\": 256, \"use_bias\": \"True\"}\n"
          ],
          "name": "stderr"
        },
        {
          "output_type": "stream",
          "text": [
            ":::MLPv0.5.0 transformer 1558025403.355154276 (/usr/local/lib/python3.6/dist-packages/tensor2tensor/layers/transformer_layers.py:188) model_hp_relu_dropout: 0.0\n"
          ],
          "name": "stdout"
        },
        {
          "output_type": "stream",
          "text": [
            "DEBUG:mlperf_compliance::::MLPv0.5.0 transformer 1558025403.355154276 (/usr/local/lib/python3.6/dist-packages/tensor2tensor/layers/transformer_layers.py:188) model_hp_relu_dropout: 0.0\n"
          ],
          "name": "stderr"
        },
        {
          "output_type": "stream",
          "text": [
            ":::MLPv0.5.0 transformer 1558025403.458808899 (/usr/local/lib/python3.6/dist-packages/tensor2tensor/models/transformer.py:101) model_hp_norm: {\"hidden_size\": 256}\n"
          ],
          "name": "stdout"
        },
        {
          "output_type": "stream",
          "text": [
            "DEBUG:mlperf_compliance::::MLPv0.5.0 transformer 1558025403.458808899 (/usr/local/lib/python3.6/dist-packages/tensor2tensor/models/transformer.py:101) model_hp_norm: {\"hidden_size\": 256}\n"
          ],
          "name": "stderr"
        },
        {
          "output_type": "stream",
          "text": [
            ":::MLPv0.5.0 transformer 1558025404.129311085 (/usr/local/lib/python3.6/dist-packages/tensor2tensor/utils/expert_utils.py:231) model_hp_layer_postprocess_dropout: 0.0\n"
          ],
          "name": "stdout"
        },
        {
          "output_type": "stream",
          "text": [
            "DEBUG:mlperf_compliance::::MLPv0.5.0 transformer 1558025404.129311085 (/usr/local/lib/python3.6/dist-packages/tensor2tensor/utils/expert_utils.py:231) model_hp_layer_postprocess_dropout: 0.0\n"
          ],
          "name": "stderr"
        },
        {
          "output_type": "stream",
          "text": [
            ":::MLPv0.5.0 transformer 1558025404.152383566 (/usr/local/lib/python3.6/dist-packages/tensor2tensor/models/transformer.py:153) model_hp_hidden_layers: 2\n"
          ],
          "name": "stdout"
        },
        {
          "output_type": "stream",
          "text": [
            "DEBUG:mlperf_compliance::::MLPv0.5.0 transformer 1558025404.152383566 (/usr/local/lib/python3.6/dist-packages/tensor2tensor/models/transformer.py:153) model_hp_hidden_layers: 2\n"
          ],
          "name": "stderr"
        },
        {
          "output_type": "stream",
          "text": [
            ":::MLPv0.5.0 transformer 1558025404.174342155 (/usr/local/lib/python3.6/dist-packages/tensor2tensor/models/transformer.py:153) model_hp_attention_dropout: 0.0\n"
          ],
          "name": "stdout"
        },
        {
          "output_type": "stream",
          "text": [
            "DEBUG:mlperf_compliance::::MLPv0.5.0 transformer 1558025404.174342155 (/usr/local/lib/python3.6/dist-packages/tensor2tensor/models/transformer.py:153) model_hp_attention_dropout: 0.0\n"
          ],
          "name": "stderr"
        },
        {
          "output_type": "stream",
          "text": [
            ":::MLPv0.5.0 transformer 1558025404.196921825 (/usr/local/lib/python3.6/dist-packages/tensor2tensor/models/transformer.py:153) model_hp_attention_dense: {\"use_bias\": \"false\", \"num_heads\": 4, \"hidden_size\": 256}\n"
          ],
          "name": "stdout"
        },
        {
          "output_type": "stream",
          "text": [
            "DEBUG:mlperf_compliance::::MLPv0.5.0 transformer 1558025404.196921825 (/usr/local/lib/python3.6/dist-packages/tensor2tensor/models/transformer.py:153) model_hp_attention_dense: {\"use_bias\": \"false\", \"num_heads\": 4, \"hidden_size\": 256}\n"
          ],
          "name": "stderr"
        },
        {
          "output_type": "stream",
          "text": [
            ":::MLPv0.5.0 transformer 1558025404.544046879 (/usr/local/lib/python3.6/dist-packages/tensor2tensor/models/transformer.py:1295) model_hp_ffn_filter_dense: {\"filter_size\": 512, \"use_bias\": \"True\", \"activation\": \"relu\"}\n"
          ],
          "name": "stdout"
        },
        {
          "output_type": "stream",
          "text": [
            "DEBUG:mlperf_compliance::::MLPv0.5.0 transformer 1558025404.544046879 (/usr/local/lib/python3.6/dist-packages/tensor2tensor/models/transformer.py:1295) model_hp_ffn_filter_dense: {\"filter_size\": 512, \"use_bias\": \"True\", \"activation\": \"relu\"}\n"
          ],
          "name": "stderr"
        },
        {
          "output_type": "stream",
          "text": [
            ":::MLPv0.5.0 transformer 1558025404.566026688 (/usr/local/lib/python3.6/dist-packages/tensor2tensor/models/transformer.py:1295) model_hp_ffn_output_dense: {\"hidden_size\": 256, \"use_bias\": \"True\"}\n"
          ],
          "name": "stdout"
        },
        {
          "output_type": "stream",
          "text": [
            "DEBUG:mlperf_compliance::::MLPv0.5.0 transformer 1558025404.566026688 (/usr/local/lib/python3.6/dist-packages/tensor2tensor/models/transformer.py:1295) model_hp_ffn_output_dense: {\"hidden_size\": 256, \"use_bias\": \"True\"}\n"
          ],
          "name": "stderr"
        },
        {
          "output_type": "stream",
          "text": [
            ":::MLPv0.5.0 transformer 1558025404.587884903 (/usr/local/lib/python3.6/dist-packages/tensor2tensor/models/transformer.py:1295) model_hp_relu_dropout: 0.0\n"
          ],
          "name": "stdout"
        },
        {
          "output_type": "stream",
          "text": [
            "DEBUG:mlperf_compliance::::MLPv0.5.0 transformer 1558025404.587884903 (/usr/local/lib/python3.6/dist-packages/tensor2tensor/models/transformer.py:1295) model_hp_relu_dropout: 0.0\n"
          ],
          "name": "stderr"
        },
        {
          "output_type": "stream",
          "text": [
            ":::MLPv0.5.0 transformer 1558025404.998243093 (/usr/local/lib/python3.6/dist-packages/tensor2tensor/models/transformer.py:1295) model_hp_ffn_filter_dense: {\"filter_size\": 512, \"use_bias\": \"True\", \"activation\": \"relu\"}\n"
          ],
          "name": "stdout"
        },
        {
          "output_type": "stream",
          "text": [
            "DEBUG:mlperf_compliance::::MLPv0.5.0 transformer 1558025404.998243093 (/usr/local/lib/python3.6/dist-packages/tensor2tensor/models/transformer.py:1295) model_hp_ffn_filter_dense: {\"filter_size\": 512, \"use_bias\": \"True\", \"activation\": \"relu\"}\n"
          ],
          "name": "stderr"
        },
        {
          "output_type": "stream",
          "text": [
            ":::MLPv0.5.0 transformer 1558025405.021576881 (/usr/local/lib/python3.6/dist-packages/tensor2tensor/models/transformer.py:1295) model_hp_ffn_output_dense: {\"hidden_size\": 256, \"use_bias\": \"True\"}\n"
          ],
          "name": "stdout"
        },
        {
          "output_type": "stream",
          "text": [
            "DEBUG:mlperf_compliance::::MLPv0.5.0 transformer 1558025405.021576881 (/usr/local/lib/python3.6/dist-packages/tensor2tensor/models/transformer.py:1295) model_hp_ffn_output_dense: {\"hidden_size\": 256, \"use_bias\": \"True\"}\n"
          ],
          "name": "stderr"
        },
        {
          "output_type": "stream",
          "text": [
            ":::MLPv0.5.0 transformer 1558025405.043020964 (/usr/local/lib/python3.6/dist-packages/tensor2tensor/models/transformer.py:1295) model_hp_relu_dropout: 0.0\n"
          ],
          "name": "stdout"
        },
        {
          "output_type": "stream",
          "text": [
            "DEBUG:mlperf_compliance::::MLPv0.5.0 transformer 1558025405.043020964 (/usr/local/lib/python3.6/dist-packages/tensor2tensor/models/transformer.py:1295) model_hp_relu_dropout: 0.0\n"
          ],
          "name": "stderr"
        },
        {
          "output_type": "stream",
          "text": [
            ":::MLPv0.5.0 transformer 1558025405.478158951 (/usr/local/lib/python3.6/dist-packages/tensor2tensor/models/transformer.py:153) model_hp_norm: {\"hidden_size\": 256}\n"
          ],
          "name": "stdout"
        },
        {
          "output_type": "stream",
          "text": [
            "DEBUG:mlperf_compliance::::MLPv0.5.0 transformer 1558025405.478158951 (/usr/local/lib/python3.6/dist-packages/tensor2tensor/models/transformer.py:153) model_hp_norm: {\"hidden_size\": 256}\n"
          ],
          "name": "stderr"
        },
        {
          "output_type": "stream",
          "text": [
            "INFO:tensorflow:Done calling model_fn.\n"
          ],
          "name": "stdout"
        },
        {
          "output_type": "stream",
          "text": [
            "INFO:tensorflow:Done calling model_fn.\n"
          ],
          "name": "stderr"
        },
        {
          "output_type": "stream",
          "text": [
            "INFO:tensorflow:Graph was finalized.\n"
          ],
          "name": "stdout"
        },
        {
          "output_type": "stream",
          "text": [
            "INFO:tensorflow:Graph was finalized.\n"
          ],
          "name": "stderr"
        },
        {
          "output_type": "stream",
          "text": [
            "INFO:tensorflow:Restoring parameters from ./description2process/model/model.ckpt-40000\n"
          ],
          "name": "stdout"
        },
        {
          "output_type": "stream",
          "text": [
            "INFO:tensorflow:Restoring parameters from ./description2process/model/model.ckpt-40000\n"
          ],
          "name": "stderr"
        },
        {
          "output_type": "stream",
          "text": [
            "INFO:tensorflow:Running local_init_op.\n"
          ],
          "name": "stdout"
        },
        {
          "output_type": "stream",
          "text": [
            "INFO:tensorflow:Running local_init_op.\n"
          ],
          "name": "stderr"
        },
        {
          "output_type": "stream",
          "text": [
            "INFO:tensorflow:Done running local_init_op.\n"
          ],
          "name": "stdout"
        },
        {
          "output_type": "stream",
          "text": [
            "INFO:tensorflow:Done running local_init_op.\n"
          ],
          "name": "stderr"
        },
        {
          "output_type": "stream",
          "text": [
            "<act> clarify shipment method </act> <path1> <act> select one of three logistic companies </act> </path1> <path2> <act> write package label </act> </path2> <act> package goods </act> <act> prepare packaged goods </act> <act> pick up </act>\n"
          ],
          "name": "stdout"
        }
      ]
    },
    {
      "cell_type": "markdown",
      "metadata": {
        "id": "1qeFmTVHG8rU",
        "colab_type": "text"
      },
      "source": [
        "### 8. Visualization\n",
        "This is the visualization module that can graphically show the process model from the xml format. "
      ]
    },
    {
      "cell_type": "code",
      "metadata": {
        "id": "tH4OgqvHG9B3",
        "colab_type": "code",
        "outputId": "e5b9f025-657e-4a01-e13e-c33a081fcc6f",
        "colab": {
          "base_uri": "https://localhost:8080/",
          "height": 189
        }
      },
      "source": [
        "model = d2p.visualization.xml2model(xml, png=True)\n",
        "model"
      ],
      "execution_count": 14,
      "outputs": [
        {
          "output_type": "stream",
          "text": [
            "[' pick up ']\n"
          ],
          "name": "stdout"
        },
        {
          "output_type": "execute_result",
          "data": {
            "text/plain": [
              "<graphviz.dot.Digraph at 0x7fb8487d24e0>"
            ],
            "image/svg+xml": "<?xml version=\"1.0\" encoding=\"UTF-8\" standalone=\"no\"?>\n<!DOCTYPE svg PUBLIC \"-//W3C//DTD SVG 1.1//EN\"\n \"http://www.w3.org/Graphics/SVG/1.1/DTD/svg11.dtd\">\n<!-- Generated by graphviz version 2.40.1 (20161225.0304)\n -->\n<!-- Title: %3 Pages: 1 -->\n<svg width=\"1078pt\" height=\"98pt\"\n viewBox=\"0.00 0.00 1078.09 98.00\" xmlns=\"http://www.w3.org/2000/svg\" xmlns:xlink=\"http://www.w3.org/1999/xlink\">\n<g id=\"graph0\" class=\"graph\" transform=\"scale(1 1) rotate(0) translate(4 94)\">\n<title>%3</title>\n<polygon fill=\"#ffffff\" stroke=\"transparent\" points=\"-4,4 -4,-94 1074.09,-94 1074.09,4 -4,4\"/>\n<!-- begin -->\n<g id=\"node1\" class=\"node\">\n<title>begin</title>\n<ellipse fill=\"none\" stroke=\"#000000\" cx=\"31.8472\" cy=\"-45\" rx=\"31.6951\" ry=\"31.6951\"/>\n<text text-anchor=\"middle\" x=\"31.8472\" y=\"-41.3\" font-family=\"Times,serif\" font-size=\"14.00\" fill=\"#000000\">begin</text>\n</g>\n<!--  clarify shipment method  -->\n<g id=\"node2\" class=\"node\">\n<title> clarify shipment method </title>\n<polygon fill=\"none\" stroke=\"#000000\" points=\"263.6943,-63 99.6943,-63 99.6943,-27 263.6943,-27 263.6943,-63\"/>\n<text text-anchor=\"middle\" x=\"181.6943\" y=\"-41.3\" font-family=\"Times,serif\" font-size=\"14.00\" fill=\"#000000\"> clarify shipment method </text>\n</g>\n<!-- begin&#45;&gt; clarify shipment method  -->\n<g id=\"edge1\" class=\"edge\">\n<title>begin&#45;&gt; clarify shipment method </title>\n<path fill=\"none\" stroke=\"#000000\" d=\"M63.9932,-45C71.6784,-45 80.2667,-45 89.2086,-45\"/>\n<polygon fill=\"#000000\" stroke=\"#000000\" points=\"89.4254,-48.5001 99.4254,-45 89.4253,-41.5001 89.4254,-48.5001\"/>\n</g>\n<!--  select one of three logistic companies  -->\n<g id=\"node3\" class=\"node\">\n<title> select one of three logistic companies </title>\n<polygon fill=\"none\" stroke=\"#000000\" points=\"535.6943,-90 299.6943,-90 299.6943,-54 535.6943,-54 535.6943,-90\"/>\n<text text-anchor=\"middle\" x=\"417.6943\" y=\"-68.3\" font-family=\"Times,serif\" font-size=\"14.00\" fill=\"#000000\"> select one of three logistic companies </text>\n</g>\n<!--  clarify shipment method &#45;&gt; select one of three logistic companies  -->\n<g id=\"edge2\" class=\"edge\">\n<title> clarify shipment method &#45;&gt; select one of three logistic companies </title>\n<path fill=\"none\" stroke=\"#000000\" d=\"M263.9044,-54.4054C272.2227,-55.3571 280.8031,-56.3387 289.4574,-57.3288\"/>\n<polygon fill=\"#000000\" stroke=\"#000000\" points=\"289.3066,-60.8343 299.6397,-58.4937 290.1023,-53.8797 289.3066,-60.8343\"/>\n</g>\n<!--  write package label  -->\n<g id=\"node4\" class=\"node\">\n<title> write package label </title>\n<polygon fill=\"none\" stroke=\"#000000\" points=\"484.6943,-36 350.6943,-36 350.6943,0 484.6943,0 484.6943,-36\"/>\n<text text-anchor=\"middle\" x=\"417.6943\" y=\"-14.3\" font-family=\"Times,serif\" font-size=\"14.00\" fill=\"#000000\"> write package label </text>\n</g>\n<!--  clarify shipment method &#45;&gt; write package label  -->\n<g id=\"edge3\" class=\"edge\">\n<title> clarify shipment method &#45;&gt; write package label </title>\n<path fill=\"none\" stroke=\"#000000\" d=\"M263.9044,-35.5946C288.8078,-32.7455 316.0604,-29.6276 340.6148,-26.8184\"/>\n<polygon fill=\"#000000\" stroke=\"#000000\" points=\"341.0598,-30.2904 350.5971,-25.6764 340.2641,-23.3358 341.0598,-30.2904\"/>\n</g>\n<!--  package goods  -->\n<g id=\"node5\" class=\"node\">\n<title> package goods </title>\n<polygon fill=\"none\" stroke=\"#000000\" points=\"681.6943,-63 571.6943,-63 571.6943,-27 681.6943,-27 681.6943,-63\"/>\n<text text-anchor=\"middle\" x=\"626.6943\" y=\"-41.3\" font-family=\"Times,serif\" font-size=\"14.00\" fill=\"#000000\"> package goods </text>\n</g>\n<!--  select one of three logistic companies &#45;&gt; package goods  -->\n<g id=\"edge5\" class=\"edge\">\n<title> select one of three logistic companies &#45;&gt; package goods </title>\n<path fill=\"none\" stroke=\"#000000\" d=\"M535.9357,-56.7248C544.638,-55.6006 553.2109,-54.4931 561.4073,-53.4342\"/>\n<polygon fill=\"#000000\" stroke=\"#000000\" points=\"562.1004,-56.8738 571.5696,-52.1214 561.2035,-49.9315 562.1004,-56.8738\"/>\n</g>\n<!--  write package label &#45;&gt; package goods  -->\n<g id=\"edge4\" class=\"edge\">\n<title> write package label &#45;&gt; package goods </title>\n<path fill=\"none\" stroke=\"#000000\" d=\"M484.9737,-26.6916C509.4067,-29.848 536.9623,-33.4078 561.2356,-36.5436\"/>\n<polygon fill=\"#000000\" stroke=\"#000000\" points=\"561.0528,-40.049 571.4189,-37.8592 561.9498,-33.1067 561.0528,-40.049\"/>\n</g>\n<!--  prepare packaged goods  -->\n<g id=\"node6\" class=\"node\">\n<title> prepare packaged goods </title>\n<polygon fill=\"none\" stroke=\"#000000\" points=\"880.6943,-63 717.6943,-63 717.6943,-27 880.6943,-27 880.6943,-63\"/>\n<text text-anchor=\"middle\" x=\"799.1943\" y=\"-41.3\" font-family=\"Times,serif\" font-size=\"14.00\" fill=\"#000000\"> prepare packaged goods </text>\n</g>\n<!--  package goods &#45;&gt; prepare packaged goods  -->\n<g id=\"edge6\" class=\"edge\">\n<title> package goods &#45;&gt; prepare packaged goods </title>\n<path fill=\"none\" stroke=\"#000000\" d=\"M681.7487,-45C689.9695,-45 698.6273,-45 707.3617,-45\"/>\n<polygon fill=\"#000000\" stroke=\"#000000\" points=\"707.6289,-48.5001 717.6288,-45 707.6288,-41.5001 707.6289,-48.5001\"/>\n</g>\n<!--  pick up  -->\n<g id=\"node7\" class=\"node\">\n<title> pick up </title>\n<polygon fill=\"none\" stroke=\"#000000\" points=\"984.6943,-63 916.6943,-63 916.6943,-27 984.6943,-27 984.6943,-63\"/>\n<text text-anchor=\"middle\" x=\"950.6943\" y=\"-41.3\" font-family=\"Times,serif\" font-size=\"14.00\" fill=\"#000000\"> pick up </text>\n</g>\n<!--  prepare packaged goods &#45;&gt; pick up  -->\n<g id=\"edge7\" class=\"edge\">\n<title> prepare packaged goods &#45;&gt; pick up </title>\n<path fill=\"none\" stroke=\"#000000\" d=\"M880.7094,-45C889.475,-45 898.137,-45 906.2223,-45\"/>\n<polygon fill=\"#000000\" stroke=\"#000000\" points=\"906.4793,-48.5001 916.4793,-45 906.4793,-41.5001 906.4793,-48.5001\"/>\n</g>\n<!-- end -->\n<g id=\"node8\" class=\"node\">\n<title>end</title>\n<ellipse fill=\"none\" stroke=\"#000000\" cx=\"1045.3922\" cy=\"-45\" rx=\"24.8972\" ry=\"24.8972\"/>\n<text text-anchor=\"middle\" x=\"1045.3922\" y=\"-41.3\" font-family=\"Times,serif\" font-size=\"14.00\" fill=\"#000000\">end</text>\n</g>\n<!--  pick up &#45;&gt;end -->\n<g id=\"edge8\" class=\"edge\">\n<title> pick up &#45;&gt;end</title>\n<path fill=\"none\" stroke=\"#000000\" d=\"M984.8824,-45C993.1521,-45 1002.0035,-45 1010.3134,-45\"/>\n<polygon fill=\"#000000\" stroke=\"#000000\" points=\"1010.465,-48.5001 1020.465,-45 1010.465,-41.5001 1010.465,-48.5001\"/>\n</g>\n</g>\n</svg>\n"
          },
          "metadata": {
            "tags": []
          },
          "execution_count": 14
        }
      ]
    },
    {
      "cell_type": "markdown",
      "metadata": {
        "id": "KCo0TCQgGgyo",
        "colab_type": "text"
      },
      "source": [
        "We can also visualize the reference solution:"
      ]
    },
    {
      "cell_type": "code",
      "metadata": {
        "id": "2tGlILp8vgcU",
        "colab_type": "code",
        "outputId": "2f33415b-26db-4d80-826b-bd79236b33e9",
        "colab": {
          "base_uri": "https://localhost:8080/",
          "height": 189
        }
      },
      "source": [
        "model = d2p.visualization.xml2model(solution)\n",
        "model"
      ],
      "execution_count": 15,
      "outputs": [
        {
          "output_type": "stream",
          "text": [
            "[' pick up ']\n"
          ],
          "name": "stdout"
        },
        {
          "output_type": "execute_result",
          "data": {
            "text/plain": [
              "<graphviz.dot.Digraph at 0x7fb84841cf98>"
            ],
            "image/svg+xml": "<?xml version=\"1.0\" encoding=\"UTF-8\" standalone=\"no\"?>\n<!DOCTYPE svg PUBLIC \"-//W3C//DTD SVG 1.1//EN\"\n \"http://www.w3.org/Graphics/SVG/1.1/DTD/svg11.dtd\">\n<!-- Generated by graphviz version 2.40.1 (20161225.0304)\n -->\n<!-- Title: %3 Pages: 1 -->\n<svg width=\"1078pt\" height=\"98pt\"\n viewBox=\"0.00 0.00 1078.09 98.00\" xmlns=\"http://www.w3.org/2000/svg\" xmlns:xlink=\"http://www.w3.org/1999/xlink\">\n<g id=\"graph0\" class=\"graph\" transform=\"scale(1 1) rotate(0) translate(4 94)\">\n<title>%3</title>\n<polygon fill=\"#ffffff\" stroke=\"transparent\" points=\"-4,4 -4,-94 1074.09,-94 1074.09,4 -4,4\"/>\n<!-- begin -->\n<g id=\"node1\" class=\"node\">\n<title>begin</title>\n<ellipse fill=\"none\" stroke=\"#000000\" cx=\"31.8472\" cy=\"-45\" rx=\"31.6951\" ry=\"31.6951\"/>\n<text text-anchor=\"middle\" x=\"31.8472\" y=\"-41.3\" font-family=\"Times,serif\" font-size=\"14.00\" fill=\"#000000\">begin</text>\n</g>\n<!--  clarify shipment method  -->\n<g id=\"node2\" class=\"node\">\n<title> clarify shipment method </title>\n<polygon fill=\"none\" stroke=\"#000000\" points=\"263.6943,-63 99.6943,-63 99.6943,-27 263.6943,-27 263.6943,-63\"/>\n<text text-anchor=\"middle\" x=\"181.6943\" y=\"-41.3\" font-family=\"Times,serif\" font-size=\"14.00\" fill=\"#000000\"> clarify shipment method </text>\n</g>\n<!-- begin&#45;&gt; clarify shipment method  -->\n<g id=\"edge1\" class=\"edge\">\n<title>begin&#45;&gt; clarify shipment method </title>\n<path fill=\"none\" stroke=\"#000000\" d=\"M63.9932,-45C71.6784,-45 80.2667,-45 89.2086,-45\"/>\n<polygon fill=\"#000000\" stroke=\"#000000\" points=\"89.4254,-48.5001 99.4254,-45 89.4253,-41.5001 89.4254,-48.5001\"/>\n</g>\n<!--  select one of three logistic companies  -->\n<g id=\"node3\" class=\"node\">\n<title> select one of three logistic companies </title>\n<polygon fill=\"none\" stroke=\"#000000\" points=\"535.6943,-90 299.6943,-90 299.6943,-54 535.6943,-54 535.6943,-90\"/>\n<text text-anchor=\"middle\" x=\"417.6943\" y=\"-68.3\" font-family=\"Times,serif\" font-size=\"14.00\" fill=\"#000000\"> select one of three logistic companies </text>\n</g>\n<!--  clarify shipment method &#45;&gt; select one of three logistic companies  -->\n<g id=\"edge2\" class=\"edge\">\n<title> clarify shipment method &#45;&gt; select one of three logistic companies </title>\n<path fill=\"none\" stroke=\"#000000\" d=\"M263.9044,-54.4054C272.2227,-55.3571 280.8031,-56.3387 289.4574,-57.3288\"/>\n<polygon fill=\"#000000\" stroke=\"#000000\" points=\"289.3066,-60.8343 299.6397,-58.4937 290.1023,-53.8797 289.3066,-60.8343\"/>\n</g>\n<!--  write package label  -->\n<g id=\"node4\" class=\"node\">\n<title> write package label </title>\n<polygon fill=\"none\" stroke=\"#000000\" points=\"484.6943,-36 350.6943,-36 350.6943,0 484.6943,0 484.6943,-36\"/>\n<text text-anchor=\"middle\" x=\"417.6943\" y=\"-14.3\" font-family=\"Times,serif\" font-size=\"14.00\" fill=\"#000000\"> write package label </text>\n</g>\n<!--  clarify shipment method &#45;&gt; write package label  -->\n<g id=\"edge3\" class=\"edge\">\n<title> clarify shipment method &#45;&gt; write package label </title>\n<path fill=\"none\" stroke=\"#000000\" d=\"M263.9044,-35.5946C288.8078,-32.7455 316.0604,-29.6276 340.6148,-26.8184\"/>\n<polygon fill=\"#000000\" stroke=\"#000000\" points=\"341.0598,-30.2904 350.5971,-25.6764 340.2641,-23.3358 341.0598,-30.2904\"/>\n</g>\n<!--  package goods  -->\n<g id=\"node5\" class=\"node\">\n<title> package goods </title>\n<polygon fill=\"none\" stroke=\"#000000\" points=\"681.6943,-63 571.6943,-63 571.6943,-27 681.6943,-27 681.6943,-63\"/>\n<text text-anchor=\"middle\" x=\"626.6943\" y=\"-41.3\" font-family=\"Times,serif\" font-size=\"14.00\" fill=\"#000000\"> package goods </text>\n</g>\n<!--  select one of three logistic companies &#45;&gt; package goods  -->\n<g id=\"edge5\" class=\"edge\">\n<title> select one of three logistic companies &#45;&gt; package goods </title>\n<path fill=\"none\" stroke=\"#000000\" d=\"M535.9357,-56.7248C544.638,-55.6006 553.2109,-54.4931 561.4073,-53.4342\"/>\n<polygon fill=\"#000000\" stroke=\"#000000\" points=\"562.1004,-56.8738 571.5696,-52.1214 561.2035,-49.9315 562.1004,-56.8738\"/>\n</g>\n<!--  write package label &#45;&gt; package goods  -->\n<g id=\"edge4\" class=\"edge\">\n<title> write package label &#45;&gt; package goods </title>\n<path fill=\"none\" stroke=\"#000000\" d=\"M484.9737,-26.6916C509.4067,-29.848 536.9623,-33.4078 561.2356,-36.5436\"/>\n<polygon fill=\"#000000\" stroke=\"#000000\" points=\"561.0528,-40.049 571.4189,-37.8592 561.9498,-33.1067 561.0528,-40.049\"/>\n</g>\n<!--  prepare packaged goods  -->\n<g id=\"node6\" class=\"node\">\n<title> prepare packaged goods </title>\n<polygon fill=\"none\" stroke=\"#000000\" points=\"880.6943,-63 717.6943,-63 717.6943,-27 880.6943,-27 880.6943,-63\"/>\n<text text-anchor=\"middle\" x=\"799.1943\" y=\"-41.3\" font-family=\"Times,serif\" font-size=\"14.00\" fill=\"#000000\"> prepare packaged goods </text>\n</g>\n<!--  package goods &#45;&gt; prepare packaged goods  -->\n<g id=\"edge6\" class=\"edge\">\n<title> package goods &#45;&gt; prepare packaged goods </title>\n<path fill=\"none\" stroke=\"#000000\" d=\"M681.7487,-45C689.9695,-45 698.6273,-45 707.3617,-45\"/>\n<polygon fill=\"#000000\" stroke=\"#000000\" points=\"707.6289,-48.5001 717.6288,-45 707.6288,-41.5001 707.6289,-48.5001\"/>\n</g>\n<!--  pick up  -->\n<g id=\"node7\" class=\"node\">\n<title> pick up </title>\n<polygon fill=\"none\" stroke=\"#000000\" points=\"984.6943,-63 916.6943,-63 916.6943,-27 984.6943,-27 984.6943,-63\"/>\n<text text-anchor=\"middle\" x=\"950.6943\" y=\"-41.3\" font-family=\"Times,serif\" font-size=\"14.00\" fill=\"#000000\"> pick up </text>\n</g>\n<!--  prepare packaged goods &#45;&gt; pick up  -->\n<g id=\"edge7\" class=\"edge\">\n<title> prepare packaged goods &#45;&gt; pick up </title>\n<path fill=\"none\" stroke=\"#000000\" d=\"M880.7094,-45C889.475,-45 898.137,-45 906.2223,-45\"/>\n<polygon fill=\"#000000\" stroke=\"#000000\" points=\"906.4793,-48.5001 916.4793,-45 906.4793,-41.5001 906.4793,-48.5001\"/>\n</g>\n<!-- end -->\n<g id=\"node8\" class=\"node\">\n<title>end</title>\n<ellipse fill=\"none\" stroke=\"#000000\" cx=\"1045.3922\" cy=\"-45\" rx=\"24.8972\" ry=\"24.8972\"/>\n<text text-anchor=\"middle\" x=\"1045.3922\" y=\"-41.3\" font-family=\"Times,serif\" font-size=\"14.00\" fill=\"#000000\">end</text>\n</g>\n<!--  pick up &#45;&gt;end -->\n<g id=\"edge8\" class=\"edge\">\n<title> pick up &#45;&gt;end</title>\n<path fill=\"none\" stroke=\"#000000\" d=\"M984.8824,-45C993.1521,-45 1002.0035,-45 1010.3134,-45\"/>\n<polygon fill=\"#000000\" stroke=\"#000000\" points=\"1010.465,-48.5001 1020.465,-45 1010.465,-41.5001 1010.465,-48.5001\"/>\n</g>\n</g>\n</svg>\n"
          },
          "metadata": {
            "tags": []
          },
          "execution_count": 15
        }
      ]
    },
    {
      "cell_type": "markdown",
      "metadata": {
        "id": "Mc_XSJoSNxa6",
        "colab_type": "text"
      },
      "source": [
        "## Evaluation of the model"
      ]
    },
    {
      "cell_type": "markdown",
      "metadata": {
        "id": "sDIIcRa5Gkbu",
        "colab_type": "text"
      },
      "source": [
        "To compare the generated XML format to the reference solution, one can compute 4 performance metrics (as mentioned in the paper) as follows:"
      ]
    },
    {
      "cell_type": "code",
      "metadata": {
        "id": "Z2uK5J_NN1Hs",
        "colab_type": "code",
        "outputId": "aa2553a1-6fa8-4fb0-9fb8-a84f449b3099",
        "colab": {
          "base_uri": "https://localhost:8080/",
          "height": 85
        }
      },
      "source": [
        "score_activities, score_branches, score_bleu_tags, score_bleu_act = d2p.evaluation.get_evaluation(xml, solution)\n",
        "\n",
        "print(\"Score number of activities: {0:.0%}\".format( round( score_activities, 4) ) ) \n",
        "print(\"Score number of branches: {0:.0%}\".format( round( score_branches, 4 ) ) ) \n",
        "print(\"BLEU score on tags: {0:.0%}\".format(round( score_bleu_tags), 4 ) ) \n",
        "print(\"BLEU score on activities: {0:.0%}\".format(round( score_bleu_act), 4 ) )  "
      ],
      "execution_count": 16,
      "outputs": [
        {
          "output_type": "stream",
          "text": [
            "Score number of activities: 100%\n",
            "Score number of branches: 100%\n",
            "BLEU score on tags: 100%\n",
            "BLEU score on activities: 100%\n"
          ],
          "name": "stdout"
        }
      ]
    }
  ]
}