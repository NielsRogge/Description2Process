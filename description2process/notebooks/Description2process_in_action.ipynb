{
  "nbformat": 4,
  "nbformat_minor": 0,
  "metadata": {
    "colab": {
      "name": "Description2process in action.ipynb",
      "version": "0.3.2",
      "provenance": [],
      "toc_visible": true
    },
    "kernelspec": {
      "name": "python3",
      "display_name": "Python 3"
    },
    "accelerator": "GPU"
  },
  "cells": [
    {
      "cell_type": "markdown",
      "metadata": {
        "id": "586eFC7I38vT",
        "colab_type": "text"
      },
      "source": [
        "# Description2process in action\n",
        "In this interactive notebook, we show the most important functionality of the Description2Process library, to transform a textual description into a process model in XML format. The library consists of 10 modules: the 8 steps of the pipeline as outlined in our thesis, a data generation module and lastly an evaluation module. Below, we show all major functionality on one particular description. However, first we need to set-up the environment and install the library from PyPi."
      ]
    },
    {
      "cell_type": "markdown",
      "metadata": {
        "id": "04mEv_fb421e",
        "colab_type": "text"
      },
      "source": [
        "## Setting up the environment and installation"
      ]
    },
    {
      "cell_type": "markdown",
      "metadata": {
        "id": "pI0AlUNiD_Ck",
        "colab_type": "text"
      },
      "source": [
        "Packages that do not (yet) install automatically with the library 'description2process' should first be installed."
      ]
    },
    {
      "cell_type": "code",
      "metadata": {
        "id": "PQD6fyKP35S0",
        "colab_type": "code",
        "outputId": "8ad31e84-00d3-4461-8656-08ac7d7750f8",
        "colab": {
          "base_uri": "https://localhost:8080/",
          "height": 4424
        }
      },
      "source": [
        "!pip install spacy==2.1.3\n",
        "!pip install neuralcoref==4.0\n",
        "!pip install benepar\n",
        "!pip install allennlp"
      ],
      "execution_count": 0,
      "outputs": [
        {
          "output_type": "stream",
          "text": [
            "Collecting spacy==2.1.3\n",
            "\u001b[?25l  Downloading https://files.pythonhosted.org/packages/52/da/3a1c54694c2d2f40df82f38a19ae14c6eb24a5a1a0dae87205ebea7a84d8/spacy-2.1.3-cp36-cp36m-manylinux1_x86_64.whl (27.7MB)\n",
            "\u001b[K     |████████████████████████████████| 27.7MB 55.7MB/s \n",
            "\u001b[?25hCollecting srsly<1.1.0,>=0.0.5 (from spacy==2.1.3)\n",
            "\u001b[?25l  Downloading https://files.pythonhosted.org/packages/6b/97/47753e3393aa4b18de9f942fac26f18879d1ae950243a556888f389d1398/srsly-0.0.5-cp36-cp36m-manylinux1_x86_64.whl (180kB)\n",
            "\u001b[K     |████████████████████████████████| 184kB 35.5MB/s \n",
            "\u001b[?25hRequirement already satisfied: requests<3.0.0,>=2.13.0 in /usr/local/lib/python3.6/dist-packages (from spacy==2.1.3) (2.21.0)\n",
            "Collecting wasabi<1.1.0,>=0.2.0 (from spacy==2.1.3)\n",
            "  Downloading https://files.pythonhosted.org/packages/f4/c1/d76ccdd12c716be79162d934fe7de4ac8a318b9302864716dde940641a79/wasabi-0.2.2-py3-none-any.whl\n",
            "Requirement already satisfied: numpy>=1.15.0 in /usr/local/lib/python3.6/dist-packages (from spacy==2.1.3) (1.16.3)\n",
            "Requirement already satisfied: murmurhash<1.1.0,>=0.28.0 in /usr/local/lib/python3.6/dist-packages (from spacy==2.1.3) (1.0.2)\n",
            "Collecting thinc<7.1.0,>=7.0.2 (from spacy==2.1.3)\n",
            "\u001b[?25l  Downloading https://files.pythonhosted.org/packages/a9/f1/3df317939a07b2fc81be1a92ac10bf836a1d87b4016346b25f8b63dee321/thinc-7.0.4-cp36-cp36m-manylinux1_x86_64.whl (2.1MB)\n",
            "\u001b[K     |████████████████████████████████| 2.1MB 20.0MB/s \n",
            "\u001b[?25hRequirement already satisfied: plac<1.0.0,>=0.9.6 in /usr/local/lib/python3.6/dist-packages (from spacy==2.1.3) (0.9.6)\n",
            "Requirement already satisfied: jsonschema<3.0.0,>=2.6.0 in /usr/local/lib/python3.6/dist-packages (from spacy==2.1.3) (2.6.0)\n",
            "Requirement already satisfied: preshed<2.1.0,>=2.0.1 in /usr/local/lib/python3.6/dist-packages (from spacy==2.1.3) (2.0.1)\n",
            "Collecting blis<0.3.0,>=0.2.2 (from spacy==2.1.3)\n",
            "\u001b[?25l  Downloading https://files.pythonhosted.org/packages/34/46/b1d0bb71d308e820ed30316c5f0a017cb5ef5f4324bcbc7da3cf9d3b075c/blis-0.2.4-cp36-cp36m-manylinux1_x86_64.whl (3.2MB)\n",
            "\u001b[K     |████████████████████████████████| 3.2MB 37.8MB/s \n",
            "\u001b[?25hRequirement already satisfied: cymem<2.1.0,>=2.0.2 in /usr/local/lib/python3.6/dist-packages (from spacy==2.1.3) (2.0.2)\n",
            "Requirement already satisfied: idna<2.9,>=2.5 in /usr/local/lib/python3.6/dist-packages (from requests<3.0.0,>=2.13.0->spacy==2.1.3) (2.8)\n",
            "Requirement already satisfied: urllib3<1.25,>=1.21.1 in /usr/local/lib/python3.6/dist-packages (from requests<3.0.0,>=2.13.0->spacy==2.1.3) (1.24.3)\n",
            "Requirement already satisfied: certifi>=2017.4.17 in /usr/local/lib/python3.6/dist-packages (from requests<3.0.0,>=2.13.0->spacy==2.1.3) (2019.3.9)\n",
            "Requirement already satisfied: chardet<3.1.0,>=3.0.2 in /usr/local/lib/python3.6/dist-packages (from requests<3.0.0,>=2.13.0->spacy==2.1.3) (3.0.4)\n",
            "Requirement already satisfied: tqdm<5.0.0,>=4.10.0 in /usr/local/lib/python3.6/dist-packages (from thinc<7.1.0,>=7.0.2->spacy==2.1.3) (4.28.1)\n",
            "Installing collected packages: srsly, wasabi, blis, thinc, spacy\n",
            "  Found existing installation: thinc 6.12.1\n",
            "    Uninstalling thinc-6.12.1:\n",
            "      Successfully uninstalled thinc-6.12.1\n",
            "  Found existing installation: spacy 2.0.18\n",
            "    Uninstalling spacy-2.0.18:\n",
            "      Successfully uninstalled spacy-2.0.18\n",
            "Successfully installed blis-0.2.4 spacy-2.1.3 srsly-0.0.5 thinc-7.0.4 wasabi-0.2.2\n",
            "Collecting neuralcoref==4.0\n",
            "\u001b[?25l  Downloading https://files.pythonhosted.org/packages/ea/24/0ec7845a5b73b637aa691ff4d1b9b48f3a0f3369f4002a59ffd7a7462fdb/neuralcoref-4.0-cp36-cp36m-manylinux1_x86_64.whl (287kB)\n",
            "\u001b[K     |████████████████████████████████| 296kB 7.2MB/s \n",
            "\u001b[?25hRequirement already satisfied: numpy>=1.15.0 in /usr/local/lib/python3.6/dist-packages (from neuralcoref==4.0) (1.16.3)\n",
            "Requirement already satisfied: boto3 in /usr/local/lib/python3.6/dist-packages (from neuralcoref==4.0) (1.9.146)\n",
            "Requirement already satisfied: spacy>=2.1.0 in /usr/local/lib/python3.6/dist-packages (from neuralcoref==4.0) (2.1.3)\n",
            "Requirement already satisfied: requests<3.0.0,>=2.13.0 in /usr/local/lib/python3.6/dist-packages (from neuralcoref==4.0) (2.21.0)\n",
            "Requirement already satisfied: botocore<1.13.0,>=1.12.146 in /usr/local/lib/python3.6/dist-packages (from boto3->neuralcoref==4.0) (1.12.146)\n",
            "Requirement already satisfied: s3transfer<0.3.0,>=0.2.0 in /usr/local/lib/python3.6/dist-packages (from boto3->neuralcoref==4.0) (0.2.0)\n",
            "Requirement already satisfied: jmespath<1.0.0,>=0.7.1 in /usr/local/lib/python3.6/dist-packages (from boto3->neuralcoref==4.0) (0.9.4)\n",
            "Requirement already satisfied: preshed<2.1.0,>=2.0.1 in /usr/local/lib/python3.6/dist-packages (from spacy>=2.1.0->neuralcoref==4.0) (2.0.1)\n",
            "Requirement already satisfied: cymem<2.1.0,>=2.0.2 in /usr/local/lib/python3.6/dist-packages (from spacy>=2.1.0->neuralcoref==4.0) (2.0.2)\n",
            "Requirement already satisfied: plac<1.0.0,>=0.9.6 in /usr/local/lib/python3.6/dist-packages (from spacy>=2.1.0->neuralcoref==4.0) (0.9.6)\n",
            "Requirement already satisfied: wasabi<1.1.0,>=0.2.0 in /usr/local/lib/python3.6/dist-packages (from spacy>=2.1.0->neuralcoref==4.0) (0.2.2)\n",
            "Requirement already satisfied: srsly<1.1.0,>=0.0.5 in /usr/local/lib/python3.6/dist-packages (from spacy>=2.1.0->neuralcoref==4.0) (0.0.5)\n",
            "Requirement already satisfied: blis<0.3.0,>=0.2.2 in /usr/local/lib/python3.6/dist-packages (from spacy>=2.1.0->neuralcoref==4.0) (0.2.4)\n",
            "Requirement already satisfied: murmurhash<1.1.0,>=0.28.0 in /usr/local/lib/python3.6/dist-packages (from spacy>=2.1.0->neuralcoref==4.0) (1.0.2)\n",
            "Requirement already satisfied: thinc<7.1.0,>=7.0.2 in /usr/local/lib/python3.6/dist-packages (from spacy>=2.1.0->neuralcoref==4.0) (7.0.4)\n",
            "Requirement already satisfied: jsonschema<3.0.0,>=2.6.0 in /usr/local/lib/python3.6/dist-packages (from spacy>=2.1.0->neuralcoref==4.0) (2.6.0)\n",
            "Requirement already satisfied: certifi>=2017.4.17 in /usr/local/lib/python3.6/dist-packages (from requests<3.0.0,>=2.13.0->neuralcoref==4.0) (2019.3.9)\n",
            "Requirement already satisfied: idna<2.9,>=2.5 in /usr/local/lib/python3.6/dist-packages (from requests<3.0.0,>=2.13.0->neuralcoref==4.0) (2.8)\n",
            "Requirement already satisfied: urllib3<1.25,>=1.21.1 in /usr/local/lib/python3.6/dist-packages (from requests<3.0.0,>=2.13.0->neuralcoref==4.0) (1.24.3)\n",
            "Requirement already satisfied: chardet<3.1.0,>=3.0.2 in /usr/local/lib/python3.6/dist-packages (from requests<3.0.0,>=2.13.0->neuralcoref==4.0) (3.0.4)\n",
            "Requirement already satisfied: docutils>=0.10 in /usr/local/lib/python3.6/dist-packages (from botocore<1.13.0,>=1.12.146->boto3->neuralcoref==4.0) (0.14)\n",
            "Requirement already satisfied: python-dateutil<3.0.0,>=2.1; python_version >= \"2.7\" in /usr/local/lib/python3.6/dist-packages (from botocore<1.13.0,>=1.12.146->boto3->neuralcoref==4.0) (2.5.3)\n",
            "Requirement already satisfied: tqdm<5.0.0,>=4.10.0 in /usr/local/lib/python3.6/dist-packages (from thinc<7.1.0,>=7.0.2->spacy>=2.1.0->neuralcoref==4.0) (4.28.1)\n",
            "Requirement already satisfied: six>=1.5 in /usr/local/lib/python3.6/dist-packages (from python-dateutil<3.0.0,>=2.1; python_version >= \"2.7\"->botocore<1.13.0,>=1.12.146->boto3->neuralcoref==4.0) (1.12.0)\n",
            "Installing collected packages: neuralcoref\n",
            "Successfully installed neuralcoref-4.0\n",
            "Collecting benepar\n",
            "\u001b[?25l  Downloading https://files.pythonhosted.org/packages/a0/7b/6cd9c60e1613a5ad388b4f883fa2aeaddcd8a7ad0a8d5ed87e0d23f159d8/benepar-0.1.2.tar.gz (72kB)\n",
            "\u001b[K     |████████████████████████████████| 81kB 6.1MB/s \n",
            "\u001b[?25hRequirement already satisfied: cython in /usr/local/lib/python3.6/dist-packages (from benepar) (0.29.7)\n",
            "Requirement already satisfied: numpy in /usr/local/lib/python3.6/dist-packages (from benepar) (1.16.3)\n",
            "Requirement already satisfied: nltk>=3.2 in /usr/local/lib/python3.6/dist-packages (from benepar) (3.2.5)\n",
            "Requirement already satisfied: six in /usr/local/lib/python3.6/dist-packages (from nltk>=3.2->benepar) (1.12.0)\n",
            "Building wheels for collected packages: benepar\n",
            "  Building wheel for benepar (setup.py) ... \u001b[?25l\u001b[?25hdone\n",
            "  Stored in directory: /root/.cache/pip/wheels/c6/f5/06/d88543b19a9b326007d7538298a139e994b1d2eecb003bf5af\n",
            "Successfully built benepar\n",
            "Installing collected packages: benepar\n",
            "Successfully installed benepar-0.1.2\n",
            "Collecting allennlp\n",
            "\u001b[?25l  Downloading https://files.pythonhosted.org/packages/a4/c8/10342a6068a8d156a5947e03c95525d559e71ad62de0f2585ab922e14533/allennlp-0.8.3-py3-none-any.whl (5.6MB)\n",
            "\u001b[K     |████████████████████████████████| 5.6MB 7.0MB/s \n",
            "\u001b[?25hCollecting moto>=1.3.4 (from allennlp)\n",
            "\u001b[?25l  Downloading https://files.pythonhosted.org/packages/28/35/f3dc85fa8fa2541b77849459363bb0d6e02bd44ba05afbd3ee3e035a6b14/moto-1.3.8-py2.py3-none-any.whl (580kB)\n",
            "\u001b[K     |████████████████████████████████| 583kB 37.2MB/s \n",
            "\u001b[?25hCollecting pytorch-pretrained-bert>=0.6.0 (from allennlp)\n",
            "\u001b[?25l  Downloading https://files.pythonhosted.org/packages/d7/e0/c08d5553b89973d9a240605b9c12404bcf8227590de62bae27acbcfe076b/pytorch_pretrained_bert-0.6.2-py3-none-any.whl (123kB)\n",
            "\u001b[K     |████████████████████████████████| 133kB 27.9MB/s \n",
            "\u001b[?25hRequirement already satisfied: tqdm>=4.19 in /usr/local/lib/python3.6/dist-packages (from allennlp) (4.28.1)\n",
            "Collecting unidecode (from allennlp)\n",
            "\u001b[?25l  Downloading https://files.pythonhosted.org/packages/31/39/53096f9217b057cb049fe872b7fc7ce799a1a89b76cf917d9639e7a558b5/Unidecode-1.0.23-py2.py3-none-any.whl (237kB)\n",
            "\u001b[K     |████████████████████████████████| 245kB 29.7MB/s \n",
            "\u001b[?25hRequirement already satisfied: flask>=1.0.2 in /usr/local/lib/python3.6/dist-packages (from allennlp) (1.0.2)\n",
            "Requirement already satisfied: matplotlib>=2.2.3 in /usr/local/lib/python3.6/dist-packages (from allennlp) (3.0.3)\n",
            "Collecting ftfy (from allennlp)\n",
            "\u001b[?25l  Downloading https://files.pythonhosted.org/packages/8f/86/df789c5834f15ae1ca53a8d4c1fc4788676c2e32112f6a786f2625d9c6e6/ftfy-5.5.1-py3-none-any.whl (43kB)\n",
            "\u001b[K     |████████████████████████████████| 51kB 18.8MB/s \n",
            "\u001b[?25hRequirement already satisfied: spacy<2.2,>=2.0 in /usr/local/lib/python3.6/dist-packages (from allennlp) (2.1.3)\n",
            "Collecting overrides (from allennlp)\n",
            "  Downloading https://files.pythonhosted.org/packages/de/55/3100c6d14c1ed177492fcf8f07c4a7d2d6c996c0a7fc6a9a0a41308e7eec/overrides-1.9.tar.gz\n",
            "Collecting word2number>=1.1 (from allennlp)\n",
            "  Downloading https://files.pythonhosted.org/packages/4a/29/a31940c848521f0725f0df6b25dca8917f13a2025b0e8fcbe5d0457e45e6/word2number-1.1.zip\n",
            "Requirement already satisfied: editdistance in /usr/local/lib/python3.6/dist-packages (from allennlp) (0.5.3)\n",
            "Collecting flask-cors>=3.0.7 (from allennlp)\n",
            "  Downloading https://files.pythonhosted.org/packages/65/cb/683f71ff8daa3aea0a5cbb276074de39f9ab66d3fbb8ad5efb5bb83e90d2/Flask_Cors-3.0.7-py2.py3-none-any.whl\n",
            "Requirement already satisfied: gevent>=1.3.6 in /usr/local/lib/python3.6/dist-packages (from allennlp) (1.4.0)\n",
            "Collecting numpydoc>=0.8.0 (from allennlp)\n",
            "  Downloading https://files.pythonhosted.org/packages/6a/f3/7cfe4c616e4b9fe05540256cc9c6661c052c8a4cec2915732793b36e1843/numpydoc-0.9.1.tar.gz\n",
            "Collecting parsimonious>=0.8.0 (from allennlp)\n",
            "\u001b[?25l  Downloading https://files.pythonhosted.org/packages/02/fc/067a3f89869a41009e1a7cdfb14725f8ddd246f30f63c645e8ef8a1c56f4/parsimonious-0.8.1.tar.gz (45kB)\n",
            "\u001b[K     |████████████████████████████████| 51kB 17.4MB/s \n",
            "\u001b[?25hCollecting conllu==0.11 (from allennlp)\n",
            "  Downloading https://files.pythonhosted.org/packages/d4/2c/856344d9b69baf5b374c395b4286626181a80f0c2b2f704914d18a1cea47/conllu-0.11-py2.py3-none-any.whl\n",
            "Requirement already satisfied: h5py in /usr/local/lib/python3.6/dist-packages (from allennlp) (2.8.0)\n",
            "Requirement already satisfied: boto3 in /usr/local/lib/python3.6/dist-packages (from allennlp) (1.9.146)\n",
            "Collecting tensorboardX>=1.2 (from allennlp)\n",
            "\u001b[?25l  Downloading https://files.pythonhosted.org/packages/5c/76/89dd44458eb976347e5a6e75eb79fecf8facd46c1ce259bad54e0044ea35/tensorboardX-1.6-py2.py3-none-any.whl (129kB)\n",
            "\u001b[K     |████████████████████████████████| 133kB 36.1MB/s \n",
            "\u001b[?25hRequirement already satisfied: pytest in /usr/local/lib/python3.6/dist-packages (from allennlp) (3.6.4)\n",
            "Collecting flaky (from allennlp)\n",
            "  Downloading https://files.pythonhosted.org/packages/02/42/cca66659a786567c8af98587d66d75e7d2b6e65662f8daab75db708ac35b/flaky-3.5.3-py2.py3-none-any.whl\n",
            "Requirement already satisfied: sqlparse>=0.2.4 in /usr/local/lib/python3.6/dist-packages (from allennlp) (0.3.0)\n",
            "Collecting jsonnet>=0.10.0; sys_platform != \"win32\" (from allennlp)\n",
            "\u001b[?25l  Downloading https://files.pythonhosted.org/packages/60/dc/3abd3971869a741d7acdba166d71d4f9366b6b53028dfd56f95de356af0f/jsonnet-0.12.1.tar.gz (240kB)\n",
            "\u001b[K     |████████████████████████████████| 245kB 38.4MB/s \n",
            "\u001b[?25hCollecting responses>=0.7 (from allennlp)\n",
            "  Downloading https://files.pythonhosted.org/packages/d1/5a/b887e89925f1de7890ef298a74438371ed4ed29b33def9e6d02dc6036fd8/responses-0.10.6-py2.py3-none-any.whl\n",
            "Requirement already satisfied: scipy in /usr/local/lib/python3.6/dist-packages (from allennlp) (1.2.1)\n",
            "Requirement already satisfied: msgpack<0.6.0,>=0.5.6 in /usr/local/lib/python3.6/dist-packages (from allennlp) (0.5.6)\n",
            "Requirement already satisfied: nltk in /usr/local/lib/python3.6/dist-packages (from allennlp) (3.2.5)\n",
            "Requirement already satisfied: pytz>=2017.3 in /usr/local/lib/python3.6/dist-packages (from allennlp) (2018.9)\n",
            "Requirement already satisfied: requests>=2.18 in /usr/local/lib/python3.6/dist-packages (from allennlp) (2.21.0)\n",
            "Collecting awscli>=1.11.91 (from allennlp)\n",
            "\u001b[?25l  Downloading https://files.pythonhosted.org/packages/24/b1/ab1472d83c15be14f20b2a70c44fbad159b2f9b8bcd3e3cf22f66e85bada/awscli-1.16.159-py2.py3-none-any.whl (1.6MB)\n",
            "\u001b[K     |████████████████████████████████| 1.6MB 37.2MB/s \n",
            "\u001b[?25hRequirement already satisfied: scikit-learn in /usr/local/lib/python3.6/dist-packages (from allennlp) (0.20.3)\n",
            "Requirement already satisfied: torch>=0.4.1 in /usr/local/lib/python3.6/dist-packages (from allennlp) (1.1.0)\n",
            "Requirement already satisfied: numpy in /usr/local/lib/python3.6/dist-packages (from allennlp) (1.16.3)\n",
            "Requirement already satisfied: six>1.9 in /usr/local/lib/python3.6/dist-packages (from moto>=1.3.4->allennlp) (1.12.0)\n",
            "Collecting python-jose<4.0.0 (from moto>=1.3.4->allennlp)\n",
            "  Downloading https://files.pythonhosted.org/packages/96/da/c0dcc5e7a98a53440b8db3cf9771345fa696754f79e8734ea59123f7d734/python_jose-3.0.1-py2.py3-none-any.whl\n",
            "Requirement already satisfied: botocore>=1.12.86 in /usr/local/lib/python3.6/dist-packages (from moto>=1.3.4->allennlp) (1.12.146)\n",
            "Collecting xmltodict (from moto>=1.3.4->allennlp)\n",
            "  Downloading https://files.pythonhosted.org/packages/28/fd/30d5c1d3ac29ce229f6bdc40bbc20b28f716e8b363140c26eff19122d8a5/xmltodict-0.12.0-py2.py3-none-any.whl\n",
            "Requirement already satisfied: Jinja2>=2.10.1 in /usr/local/lib/python3.6/dist-packages (from moto>=1.3.4->allennlp) (2.10.1)\n",
            "Collecting docker>=2.5.1 (from moto>=1.3.4->allennlp)\n",
            "\u001b[?25l  Downloading https://files.pythonhosted.org/packages/48/68/c3afca1a5aa8d2997ec3b8ee822a4d752cf85907b321f07ea86888545152/docker-3.7.2-py2.py3-none-any.whl (134kB)\n",
            "\u001b[K     |████████████████████████████████| 143kB 28.2MB/s \n",
            "\u001b[?25hCollecting jsondiff==1.1.2 (from moto>=1.3.4->allennlp)\n",
            "  Downloading https://files.pythonhosted.org/packages/33/0c/ddb17571e061c655871ccbf76cdada55a31569327d21517de779d4887241/jsondiff-1.1.2.tar.gz\n",
            "Requirement already satisfied: mock in /usr/local/lib/python3.6/dist-packages (from moto>=1.3.4->allennlp) (3.0.5)\n",
            "Collecting aws-xray-sdk!=0.96,>=0.93 (from moto>=1.3.4->allennlp)\n",
            "\u001b[?25l  Downloading https://files.pythonhosted.org/packages/58/f2/79f7918f4ddeec525742ddd4607abe4a82a29a6bc4c7e297995f59a18965/aws_xray_sdk-2.4.2-py2.py3-none-any.whl (87kB)\n",
            "\u001b[K     |████████████████████████████████| 92kB 24.1MB/s \n",
            "\u001b[?25hRequirement already satisfied: idna<2.9,>=2.5 in /usr/local/lib/python3.6/dist-packages (from moto>=1.3.4->allennlp) (2.8)\n",
            "Requirement already satisfied: werkzeug in /usr/local/lib/python3.6/dist-packages (from moto>=1.3.4->allennlp) (0.15.2)\n",
            "Collecting cfn-lint (from moto>=1.3.4->allennlp)\n",
            "\u001b[?25l  Downloading https://files.pythonhosted.org/packages/27/86/3bd1908270cc7752be2b38ef783db40c7e6240aff18d283e1f9d7bbad3ae/cfn_lint-0.20.2-py3-none-any.whl (2.2MB)\n",
            "\u001b[K     |████████████████████████████████| 2.2MB 25.8MB/s \n",
            "\u001b[?25hRequirement already satisfied: boto>=2.36.0 in /usr/local/lib/python3.6/dist-packages (from moto>=1.3.4->allennlp) (2.49.0)\n",
            "Collecting cryptography>=2.3.0 (from moto>=1.3.4->allennlp)\n",
            "\u001b[?25l  Downloading https://files.pythonhosted.org/packages/5b/12/b0409a94dad366d98a8eee2a77678c7a73aafd8c0e4b835abea634ea3896/cryptography-2.6.1-cp34-abi3-manylinux1_x86_64.whl (2.3MB)\n",
            "\u001b[K     |████████████████████████████████| 2.3MB 36.4MB/s \n",
            "\u001b[?25hRequirement already satisfied: python-dateutil<3.0.0,>=2.1 in /usr/local/lib/python3.6/dist-packages (from moto>=1.3.4->allennlp) (2.5.3)\n",
            "Requirement already satisfied: PyYAML in /usr/local/lib/python3.6/dist-packages (from moto>=1.3.4->allennlp) (3.13)\n",
            "Requirement already satisfied: regex in /usr/local/lib/python3.6/dist-packages (from pytorch-pretrained-bert>=0.6.0->allennlp) (2018.1.10)\n",
            "Requirement already satisfied: itsdangerous>=0.24 in /usr/local/lib/python3.6/dist-packages (from flask>=1.0.2->allennlp) (1.1.0)\n",
            "Requirement already satisfied: click>=5.1 in /usr/local/lib/python3.6/dist-packages (from flask>=1.0.2->allennlp) (7.0)\n",
            "Requirement already satisfied: pyparsing!=2.0.4,!=2.1.2,!=2.1.6,>=2.0.1 in /usr/local/lib/python3.6/dist-packages (from matplotlib>=2.2.3->allennlp) (2.4.0)\n",
            "Requirement already satisfied: kiwisolver>=1.0.1 in /usr/local/lib/python3.6/dist-packages (from matplotlib>=2.2.3->allennlp) (1.1.0)\n",
            "Requirement already satisfied: cycler>=0.10 in /usr/local/lib/python3.6/dist-packages (from matplotlib>=2.2.3->allennlp) (0.10.0)\n",
            "Requirement already satisfied: wcwidth in /usr/local/lib/python3.6/dist-packages (from ftfy->allennlp) (0.1.7)\n",
            "Requirement already satisfied: jsonschema<3.0.0,>=2.6.0 in /usr/local/lib/python3.6/dist-packages (from spacy<2.2,>=2.0->allennlp) (2.6.0)\n",
            "Requirement already satisfied: blis<0.3.0,>=0.2.2 in /usr/local/lib/python3.6/dist-packages (from spacy<2.2,>=2.0->allennlp) (0.2.4)\n",
            "Requirement already satisfied: plac<1.0.0,>=0.9.6 in /usr/local/lib/python3.6/dist-packages (from spacy<2.2,>=2.0->allennlp) (0.9.6)\n",
            "Requirement already satisfied: murmurhash<1.1.0,>=0.28.0 in /usr/local/lib/python3.6/dist-packages (from spacy<2.2,>=2.0->allennlp) (1.0.2)\n",
            "Requirement already satisfied: thinc<7.1.0,>=7.0.2 in /usr/local/lib/python3.6/dist-packages (from spacy<2.2,>=2.0->allennlp) (7.0.4)\n",
            "Requirement already satisfied: cymem<2.1.0,>=2.0.2 in /usr/local/lib/python3.6/dist-packages (from spacy<2.2,>=2.0->allennlp) (2.0.2)\n",
            "Requirement already satisfied: wasabi<1.1.0,>=0.2.0 in /usr/local/lib/python3.6/dist-packages (from spacy<2.2,>=2.0->allennlp) (0.2.2)\n",
            "Requirement already satisfied: srsly<1.1.0,>=0.0.5 in /usr/local/lib/python3.6/dist-packages (from spacy<2.2,>=2.0->allennlp) (0.0.5)\n",
            "Requirement already satisfied: preshed<2.1.0,>=2.0.1 in /usr/local/lib/python3.6/dist-packages (from spacy<2.2,>=2.0->allennlp) (2.0.1)\n",
            "Requirement already satisfied: greenlet>=0.4.14; platform_python_implementation == \"CPython\" in /usr/local/lib/python3.6/dist-packages (from gevent>=1.3.6->allennlp) (0.4.15)\n",
            "Requirement already satisfied: sphinx>=1.6.5 in /usr/local/lib/python3.6/dist-packages (from numpydoc>=0.8.0->allennlp) (1.8.5)\n",
            "Requirement already satisfied: jmespath<1.0.0,>=0.7.1 in /usr/local/lib/python3.6/dist-packages (from boto3->allennlp) (0.9.4)\n",
            "Requirement already satisfied: s3transfer<0.3.0,>=0.2.0 in /usr/local/lib/python3.6/dist-packages (from boto3->allennlp) (0.2.0)\n",
            "Requirement already satisfied: protobuf>=3.2.0 in /usr/local/lib/python3.6/dist-packages (from tensorboardX>=1.2->allennlp) (3.7.1)\n",
            "Requirement already satisfied: attrs>=17.4.0 in /usr/local/lib/python3.6/dist-packages (from pytest->allennlp) (19.1.0)\n",
            "Requirement already satisfied: py>=1.5.0 in /usr/local/lib/python3.6/dist-packages (from pytest->allennlp) (1.8.0)\n",
            "Requirement already satisfied: atomicwrites>=1.0 in /usr/local/lib/python3.6/dist-packages (from pytest->allennlp) (1.3.0)\n",
            "Requirement already satisfied: pluggy<0.8,>=0.5 in /usr/local/lib/python3.6/dist-packages (from pytest->allennlp) (0.7.1)\n",
            "Requirement already satisfied: more-itertools>=4.0.0 in /usr/local/lib/python3.6/dist-packages (from pytest->allennlp) (7.0.0)\n",
            "Requirement already satisfied: setuptools in /usr/local/lib/python3.6/dist-packages (from pytest->allennlp) (41.0.1)\n",
            "Requirement already satisfied: certifi>=2017.4.17 in /usr/local/lib/python3.6/dist-packages (from requests>=2.18->allennlp) (2019.3.9)\n",
            "Requirement already satisfied: chardet<3.1.0,>=3.0.2 in /usr/local/lib/python3.6/dist-packages (from requests>=2.18->allennlp) (3.0.4)\n",
            "Requirement already satisfied: urllib3<1.25,>=1.21.1 in /usr/local/lib/python3.6/dist-packages (from requests>=2.18->allennlp) (1.24.3)\n",
            "Collecting colorama<=0.3.9,>=0.2.5 (from awscli>=1.11.91->allennlp)\n",
            "  Downloading https://files.pythonhosted.org/packages/db/c8/7dcf9dbcb22429512708fe3a547f8b6101c0d02137acbd892505aee57adf/colorama-0.3.9-py2.py3-none-any.whl\n",
            "Requirement already satisfied: docutils>=0.10 in /usr/local/lib/python3.6/dist-packages (from awscli>=1.11.91->allennlp) (0.14)\n",
            "Collecting rsa<=3.5.0,>=3.1.2 (from awscli>=1.11.91->allennlp)\n",
            "\u001b[?25l  Downloading https://files.pythonhosted.org/packages/e1/ae/baedc9cb175552e95f3395c43055a6a5e125ae4d48a1d7a924baca83e92e/rsa-3.4.2-py2.py3-none-any.whl (46kB)\n",
            "\u001b[K     |████████████████████████████████| 51kB 17.8MB/s \n",
            "\u001b[?25hCollecting ecdsa<1.0 (from python-jose<4.0.0->moto>=1.3.4->allennlp)\n",
            "\u001b[?25l  Downloading https://files.pythonhosted.org/packages/23/a8/8aa68e70959e1287da9154e5164bb8bd5dd7025e41ae54e8d177b8d165c9/ecdsa-0.13.2-py2.py3-none-any.whl (59kB)\n",
            "\u001b[K     |████████████████████████████████| 61kB 19.2MB/s \n",
            "\u001b[?25hRequirement already satisfied: future<1.0 in /usr/local/lib/python3.6/dist-packages (from python-jose<4.0.0->moto>=1.3.4->allennlp) (0.16.0)\n",
            "Requirement already satisfied: MarkupSafe>=0.23 in /usr/local/lib/python3.6/dist-packages (from Jinja2>=2.10.1->moto>=1.3.4->allennlp) (1.1.1)\n",
            "Collecting websocket-client>=0.32.0 (from docker>=2.5.1->moto>=1.3.4->allennlp)\n",
            "\u001b[?25l  Downloading https://files.pythonhosted.org/packages/29/19/44753eab1fdb50770ac69605527e8859468f3c0fd7dc5a76dd9c4dbd7906/websocket_client-0.56.0-py2.py3-none-any.whl (200kB)\n",
            "\u001b[K     |████████████████████████████████| 204kB 39.3MB/s \n",
            "\u001b[?25hCollecting docker-pycreds>=0.4.0 (from docker>=2.5.1->moto>=1.3.4->allennlp)\n",
            "  Downloading https://files.pythonhosted.org/packages/f5/e8/f6bd1eee09314e7e6dee49cbe2c5e22314ccdb38db16c9fc72d2fa80d054/docker_pycreds-0.4.0-py2.py3-none-any.whl\n",
            "Collecting jsonpickle (from aws-xray-sdk!=0.96,>=0.93->moto>=1.3.4->allennlp)\n",
            "  Downloading https://files.pythonhosted.org/packages/dc/12/8c44eabb501e2bc0aec0dd152b328074d98a50968d3a02be28f6037f0c6a/jsonpickle-1.1-py2.py3-none-any.whl\n",
            "Requirement already satisfied: wrapt in /usr/local/lib/python3.6/dist-packages (from aws-xray-sdk!=0.96,>=0.93->moto>=1.3.4->allennlp) (1.10.11)\n",
            "Collecting jsonpatch (from cfn-lint->moto>=1.3.4->allennlp)\n",
            "  Downloading https://files.pythonhosted.org/packages/a0/e6/d50d526ae2218b765ddbdb2dda14d65e19f501ce07410b375bc43ad20b7a/jsonpatch-1.23-py2.py3-none-any.whl\n",
            "Collecting aws-sam-translator>=1.10.0 (from cfn-lint->moto>=1.3.4->allennlp)\n",
            "\u001b[?25l  Downloading https://files.pythonhosted.org/packages/85/dd/3f9c13d6454c4e59b71faacd19d7041e6d6becc76a8390aa2587f425df83/aws-sam-translator-1.11.0.tar.gz (96kB)\n",
            "\u001b[K     |████████████████████████████████| 102kB 18.8MB/s \n",
            "\u001b[?25hRequirement already satisfied: cffi!=1.11.3,>=1.8 in /usr/local/lib/python3.6/dist-packages (from cryptography>=2.3.0->moto>=1.3.4->allennlp) (1.12.3)\n",
            "Collecting asn1crypto>=0.21.0 (from cryptography>=2.3.0->moto>=1.3.4->allennlp)\n",
            "\u001b[?25l  Downloading https://files.pythonhosted.org/packages/ea/cd/35485615f45f30a510576f1a56d1e0a7ad7bd8ab5ed7cdc600ef7cd06222/asn1crypto-0.24.0-py2.py3-none-any.whl (101kB)\n",
            "\u001b[K     |████████████████████████████████| 102kB 24.6MB/s \n",
            "\u001b[?25hRequirement already satisfied: Pygments>=2.0 in /usr/local/lib/python3.6/dist-packages (from sphinx>=1.6.5->numpydoc>=0.8.0->allennlp) (2.1.3)\n",
            "Requirement already satisfied: babel!=2.0,>=1.3 in /usr/local/lib/python3.6/dist-packages (from sphinx>=1.6.5->numpydoc>=0.8.0->allennlp) (2.6.0)\n",
            "Requirement already satisfied: alabaster<0.8,>=0.7 in /usr/local/lib/python3.6/dist-packages (from sphinx>=1.6.5->numpydoc>=0.8.0->allennlp) (0.7.12)\n",
            "Requirement already satisfied: sphinxcontrib-websupport in /usr/local/lib/python3.6/dist-packages (from sphinx>=1.6.5->numpydoc>=0.8.0->allennlp) (1.1.0)\n",
            "Requirement already satisfied: packaging in /usr/local/lib/python3.6/dist-packages (from sphinx>=1.6.5->numpydoc>=0.8.0->allennlp) (19.0)\n",
            "Requirement already satisfied: snowballstemmer>=1.1 in /usr/local/lib/python3.6/dist-packages (from sphinx>=1.6.5->numpydoc>=0.8.0->allennlp) (1.2.1)\n",
            "Requirement already satisfied: imagesize in /usr/local/lib/python3.6/dist-packages (from sphinx>=1.6.5->numpydoc>=0.8.0->allennlp) (1.1.0)\n",
            "Requirement already satisfied: pyasn1>=0.1.3 in /usr/local/lib/python3.6/dist-packages (from rsa<=3.5.0,>=3.1.2->awscli>=1.11.91->allennlp) (0.4.5)\n",
            "Collecting jsonpointer>=1.9 (from jsonpatch->cfn-lint->moto>=1.3.4->allennlp)\n",
            "  Downloading https://files.pythonhosted.org/packages/18/b0/a80d29577c08eea401659254dfaed87f1af45272899e1812d7e01b679bc5/jsonpointer-2.0-py2.py3-none-any.whl\n",
            "Requirement already satisfied: pycparser in /usr/local/lib/python3.6/dist-packages (from cffi!=1.11.3,>=1.8->cryptography>=2.3.0->moto>=1.3.4->allennlp) (2.19)\n",
            "Building wheels for collected packages: overrides, word2number, numpydoc, parsimonious, jsonnet, jsondiff, aws-sam-translator\n",
            "  Building wheel for overrides (setup.py) ... \u001b[?25l\u001b[?25hdone\n",
            "  Stored in directory: /root/.cache/pip/wheels/8d/52/86/e5a83b1797e7d263b458d2334edd2704c78508b3eea9323718\n",
            "  Building wheel for word2number (setup.py) ... \u001b[?25l\u001b[?25hdone\n",
            "  Stored in directory: /root/.cache/pip/wheels/46/2f/53/5f5c1d275492f2fce1cdab9a9bb12d49286dead829a4078e0e\n",
            "  Building wheel for numpydoc (setup.py) ... \u001b[?25l\u001b[?25hdone\n",
            "  Stored in directory: /root/.cache/pip/wheels/51/30/d1/92a39ba40f21cb70e53f8af96eb98f002a781843c065406500\n",
            "  Building wheel for parsimonious (setup.py) ... \u001b[?25l\u001b[?25hdone\n",
            "  Stored in directory: /root/.cache/pip/wheels/b7/8d/e7/a0e74217da5caeb3c1c7689639b6d28ddbf9985b840bc96a9a\n",
            "  Building wheel for jsonnet (setup.py) ... \u001b[?25l\u001b[?25hdone\n",
            "  Stored in directory: /root/.cache/pip/wheels/f0/47/51/a178b15274ed0db775a1ae9c799ce31e511609c3ab75a7dec5\n",
            "  Building wheel for jsondiff (setup.py) ... \u001b[?25l\u001b[?25hdone\n",
            "  Stored in directory: /root/.cache/pip/wheels/46/5f/86/11c6b72b064888e80b98bfcbcdaf2a83517a8cf8f2bb2a3227\n",
            "  Building wheel for aws-sam-translator (setup.py) ... \u001b[?25l\u001b[?25hdone\n",
            "  Stored in directory: /root/.cache/pip/wheels/12/39/44/8528735e5e1989a5b19b4e2230d63e92847903cee1ab94fe6e\n",
            "Successfully built overrides word2number numpydoc parsimonious jsonnet jsondiff aws-sam-translator\n",
            "\u001b[31mERROR: awscli 1.16.159 has requirement botocore==1.12.149, but you'll have botocore 1.12.146 which is incompatible.\u001b[0m\n",
            "Installing collected packages: responses, rsa, ecdsa, python-jose, xmltodict, websocket-client, docker-pycreds, docker, jsondiff, jsonpickle, aws-xray-sdk, jsonpointer, jsonpatch, aws-sam-translator, cfn-lint, asn1crypto, cryptography, moto, pytorch-pretrained-bert, unidecode, ftfy, overrides, word2number, flask-cors, numpydoc, parsimonious, conllu, tensorboardX, flaky, jsonnet, colorama, awscli, allennlp\n",
            "  Found existing installation: rsa 4.0\n",
            "    Uninstalling rsa-4.0:\n",
            "      Successfully uninstalled rsa-4.0\n",
            "Successfully installed allennlp-0.8.3 asn1crypto-0.24.0 aws-sam-translator-1.11.0 aws-xray-sdk-2.4.2 awscli-1.16.159 cfn-lint-0.20.2 colorama-0.3.9 conllu-0.11 cryptography-2.6.1 docker-3.7.2 docker-pycreds-0.4.0 ecdsa-0.13.2 flaky-3.5.3 flask-cors-3.0.7 ftfy-5.5.1 jsondiff-1.1.2 jsonnet-0.12.1 jsonpatch-1.23 jsonpickle-1.1 jsonpointer-2.0 moto-1.3.8 numpydoc-0.9.1 overrides-1.9 parsimonious-0.8.1 python-jose-3.0.1 pytorch-pretrained-bert-0.6.2 responses-0.10.6 rsa-3.4.2 tensorboardX-1.6 unidecode-1.0.23 websocket-client-0.56.0 word2number-1.1 xmltodict-0.12.0\n"
          ],
          "name": "stdout"
        },
        {
          "output_type": "display_data",
          "data": {
            "application/vnd.colab-display-data+json": {
              "pip_warning": {
                "packages": [
                  "rsa"
                ]
              }
            }
          },
          "metadata": {
            "tags": []
          }
        }
      ]
    },
    {
      "cell_type": "markdown",
      "metadata": {
        "id": "Bzlsy9HLEHXx",
        "colab_type": "text"
      },
      "source": [
        "Next, install the 'description2process' library and import it."
      ]
    },
    {
      "cell_type": "code",
      "metadata": {
        "id": "SUD21nTavXFz",
        "colab_type": "code",
        "outputId": "563b3263-3c18-477a-c4e7-6ca61c231443",
        "colab": {
          "base_uri": "https://localhost:8080/",
          "height": 2587
        }
      },
      "source": [
        "!pip install description2process==0.1.1"
      ],
      "execution_count": 0,
      "outputs": [
        {
          "output_type": "stream",
          "text": [
            "Collecting description2process==0.1.1\n",
            "\u001b[?25l  Downloading https://files.pythonhosted.org/packages/81/bf/604dc4877a1afcf501d5b4b081a07c27da42d4c6e5bf6413c92614714578/description2process-0.1.1-py3-none-any.whl (126kB)\n",
            "\r\u001b[K     |██▋                             | 10kB 11.0MB/s eta 0:00:01\r\u001b[K     |█████▏                          | 20kB 5.1MB/s eta 0:00:01\r\u001b[K     |███████▉                        | 30kB 7.2MB/s eta 0:00:01\r\u001b[K     |██████████▍                     | 40kB 4.3MB/s eta 0:00:01\r\u001b[K     |█████████████                   | 51kB 5.2MB/s eta 0:00:01\r\u001b[K     |███████████████▋                | 61kB 6.1MB/s eta 0:00:01\r\u001b[K     |██████████████████▏             | 71kB 7.0MB/s eta 0:00:01\r\u001b[K     |████████████████████▊           | 81kB 7.8MB/s eta 0:00:01\r\u001b[K     |███████████████████████▍        | 92kB 8.6MB/s eta 0:00:01\r\u001b[K     |██████████████████████████      | 102kB 6.9MB/s eta 0:00:01\r\u001b[K     |████████████████████████████▌   | 112kB 6.9MB/s eta 0:00:01\r\u001b[K     |███████████████████████████████▏| 122kB 6.9MB/s eta 0:00:01\r\u001b[K     |████████████████████████████████| 133kB 6.9MB/s \n",
            "\u001b[?25hRequirement already satisfied: tensor2tensor in /usr/local/lib/python3.6/dist-packages (from description2process==0.1.1) (1.11.0)\n",
            "Requirement already satisfied: graphviz in /usr/local/lib/python3.6/dist-packages (from description2process==0.1.1) (0.10.1)\n",
            "Requirement already satisfied: allennlp in /usr/local/lib/python3.6/dist-packages (from description2process==0.1.1) (0.8.3)\n",
            "Requirement already satisfied: neuralcoref in /usr/local/lib/python3.6/dist-packages (from description2process==0.1.1) (4.0)\n",
            "Requirement already satisfied: spacy in /usr/local/lib/python3.6/dist-packages (from description2process==0.1.1) (2.1.3)\n",
            "Requirement already satisfied: benepar in /usr/local/lib/python3.6/dist-packages (from description2process==0.1.1) (0.1.2)\n",
            "Requirement already satisfied: tensorflow in /usr/local/lib/python3.6/dist-packages (from description2process==0.1.1) (1.13.1)\n",
            "Requirement already satisfied: gevent in /usr/local/lib/python3.6/dist-packages (from tensor2tensor->description2process==0.1.1) (1.4.0)\n",
            "Requirement already satisfied: requests in /usr/local/lib/python3.6/dist-packages (from tensor2tensor->description2process==0.1.1) (2.21.0)\n",
            "Requirement already satisfied: gunicorn in /usr/local/lib/python3.6/dist-packages (from tensor2tensor->description2process==0.1.1) (19.9.0)\n",
            "Requirement already satisfied: flask in /usr/local/lib/python3.6/dist-packages (from tensor2tensor->description2process==0.1.1) (1.0.2)\n",
            "Requirement already satisfied: h5py in /usr/local/lib/python3.6/dist-packages (from tensor2tensor->description2process==0.1.1) (2.8.0)\n",
            "Requirement already satisfied: bz2file in /usr/local/lib/python3.6/dist-packages (from tensor2tensor->description2process==0.1.1) (0.98)\n",
            "Requirement already satisfied: sympy in /usr/local/lib/python3.6/dist-packages (from tensor2tensor->description2process==0.1.1) (1.1.1)\n",
            "Requirement already satisfied: tqdm in /usr/local/lib/python3.6/dist-packages (from tensor2tensor->description2process==0.1.1) (4.28.1)\n",
            "Requirement already satisfied: scipy in /usr/local/lib/python3.6/dist-packages (from tensor2tensor->description2process==0.1.1) (1.2.1)\n",
            "Requirement already satisfied: oauth2client in /usr/local/lib/python3.6/dist-packages (from tensor2tensor->description2process==0.1.1) (4.1.3)\n",
            "Requirement already satisfied: tensorflow-probability in /usr/local/lib/python3.6/dist-packages (from tensor2tensor->description2process==0.1.1) (0.6.0)\n",
            "Requirement already satisfied: tfds-nightly in /usr/local/lib/python3.6/dist-packages (from tensor2tensor->description2process==0.1.1) (1.0.2.dev201905120105)\n",
            "Requirement already satisfied: gym in /usr/local/lib/python3.6/dist-packages (from tensor2tensor->description2process==0.1.1) (0.10.11)\n",
            "Requirement already satisfied: six in /usr/local/lib/python3.6/dist-packages (from tensor2tensor->description2process==0.1.1) (1.12.0)\n",
            "Requirement already satisfied: google-api-python-client in /usr/local/lib/python3.6/dist-packages (from tensor2tensor->description2process==0.1.1) (1.6.7)\n",
            "Requirement already satisfied: numpy in /usr/local/lib/python3.6/dist-packages (from tensor2tensor->description2process==0.1.1) (1.16.3)\n",
            "Requirement already satisfied: mesh-tensorflow in /usr/local/lib/python3.6/dist-packages (from tensor2tensor->description2process==0.1.1) (0.0.5)\n",
            "Requirement already satisfied: future in /usr/local/lib/python3.6/dist-packages (from tensor2tensor->description2process==0.1.1) (0.16.0)\n",
            "Requirement already satisfied: msgpack<0.6.0,>=0.5.6 in /usr/local/lib/python3.6/dist-packages (from allennlp->description2process==0.1.1) (0.5.6)\n",
            "Requirement already satisfied: conllu==0.11 in /usr/local/lib/python3.6/dist-packages (from allennlp->description2process==0.1.1) (0.11)\n",
            "Requirement already satisfied: parsimonious>=0.8.0 in /usr/local/lib/python3.6/dist-packages (from allennlp->description2process==0.1.1) (0.8.1)\n",
            "Requirement already satisfied: awscli>=1.11.91 in /usr/local/lib/python3.6/dist-packages (from allennlp->description2process==0.1.1) (1.16.159)\n",
            "Requirement already satisfied: torch>=0.4.1 in /usr/local/lib/python3.6/dist-packages (from allennlp->description2process==0.1.1) (1.1.0)\n",
            "Requirement already satisfied: boto3 in /usr/local/lib/python3.6/dist-packages (from allennlp->description2process==0.1.1) (1.9.146)\n",
            "Requirement already satisfied: flaky in /usr/local/lib/python3.6/dist-packages (from allennlp->description2process==0.1.1) (3.5.3)\n",
            "Requirement already satisfied: editdistance in /usr/local/lib/python3.6/dist-packages (from allennlp->description2process==0.1.1) (0.5.3)\n",
            "Requirement already satisfied: pytz>=2017.3 in /usr/local/lib/python3.6/dist-packages (from allennlp->description2process==0.1.1) (2018.9)\n",
            "Requirement already satisfied: jsonnet>=0.10.0; sys_platform != \"win32\" in /usr/local/lib/python3.6/dist-packages (from allennlp->description2process==0.1.1) (0.12.1)\n",
            "Requirement already satisfied: moto>=1.3.4 in /usr/local/lib/python3.6/dist-packages (from allennlp->description2process==0.1.1) (1.3.8)\n",
            "Requirement already satisfied: word2number>=1.1 in /usr/local/lib/python3.6/dist-packages (from allennlp->description2process==0.1.1) (1.1)\n",
            "Requirement already satisfied: pytorch-pretrained-bert>=0.6.0 in /usr/local/lib/python3.6/dist-packages (from allennlp->description2process==0.1.1) (0.6.2)\n",
            "Requirement already satisfied: nltk in /usr/local/lib/python3.6/dist-packages (from allennlp->description2process==0.1.1) (3.2.5)\n",
            "Requirement already satisfied: scikit-learn in /usr/local/lib/python3.6/dist-packages (from allennlp->description2process==0.1.1) (0.20.3)\n",
            "Requirement already satisfied: overrides in /usr/local/lib/python3.6/dist-packages (from allennlp->description2process==0.1.1) (1.9)\n",
            "Requirement already satisfied: sqlparse>=0.2.4 in /usr/local/lib/python3.6/dist-packages (from allennlp->description2process==0.1.1) (0.3.0)\n",
            "Requirement already satisfied: flask-cors>=3.0.7 in /usr/local/lib/python3.6/dist-packages (from allennlp->description2process==0.1.1) (3.0.7)\n",
            "Requirement already satisfied: responses>=0.7 in /usr/local/lib/python3.6/dist-packages (from allennlp->description2process==0.1.1) (0.10.6)\n",
            "Requirement already satisfied: unidecode in /usr/local/lib/python3.6/dist-packages (from allennlp->description2process==0.1.1) (1.0.23)\n",
            "Requirement already satisfied: tensorboardX>=1.2 in /usr/local/lib/python3.6/dist-packages (from allennlp->description2process==0.1.1) (1.6)\n",
            "Requirement already satisfied: ftfy in /usr/local/lib/python3.6/dist-packages (from allennlp->description2process==0.1.1) (5.5.1)\n",
            "Requirement already satisfied: pytest in /usr/local/lib/python3.6/dist-packages (from allennlp->description2process==0.1.1) (3.6.4)\n",
            "Requirement already satisfied: numpydoc>=0.8.0 in /usr/local/lib/python3.6/dist-packages (from allennlp->description2process==0.1.1) (0.9.1)\n",
            "Requirement already satisfied: matplotlib>=2.2.3 in /usr/local/lib/python3.6/dist-packages (from allennlp->description2process==0.1.1) (3.0.3)\n",
            "Requirement already satisfied: blis<0.3.0,>=0.2.2 in /usr/local/lib/python3.6/dist-packages (from spacy->description2process==0.1.1) (0.2.4)\n",
            "Requirement already satisfied: thinc<7.1.0,>=7.0.2 in /usr/local/lib/python3.6/dist-packages (from spacy->description2process==0.1.1) (7.0.4)\n",
            "Requirement already satisfied: wasabi<1.1.0,>=0.2.0 in /usr/local/lib/python3.6/dist-packages (from spacy->description2process==0.1.1) (0.2.2)\n",
            "Requirement already satisfied: cymem<2.1.0,>=2.0.2 in /usr/local/lib/python3.6/dist-packages (from spacy->description2process==0.1.1) (2.0.2)\n",
            "Requirement already satisfied: murmurhash<1.1.0,>=0.28.0 in /usr/local/lib/python3.6/dist-packages (from spacy->description2process==0.1.1) (1.0.2)\n",
            "Requirement already satisfied: srsly<1.1.0,>=0.0.5 in /usr/local/lib/python3.6/dist-packages (from spacy->description2process==0.1.1) (0.0.5)\n",
            "Requirement already satisfied: plac<1.0.0,>=0.9.6 in /usr/local/lib/python3.6/dist-packages (from spacy->description2process==0.1.1) (0.9.6)\n",
            "Requirement already satisfied: jsonschema<3.0.0,>=2.6.0 in /usr/local/lib/python3.6/dist-packages (from spacy->description2process==0.1.1) (2.6.0)\n",
            "Requirement already satisfied: preshed<2.1.0,>=2.0.1 in /usr/local/lib/python3.6/dist-packages (from spacy->description2process==0.1.1) (2.0.1)\n",
            "Requirement already satisfied: cython in /usr/local/lib/python3.6/dist-packages (from benepar->description2process==0.1.1) (0.29.7)\n",
            "Requirement already satisfied: termcolor>=1.1.0 in /usr/local/lib/python3.6/dist-packages (from tensorflow->description2process==0.1.1) (1.1.0)\n",
            "Requirement already satisfied: keras-preprocessing>=1.0.5 in /usr/local/lib/python3.6/dist-packages (from tensorflow->description2process==0.1.1) (1.0.9)\n",
            "Requirement already satisfied: gast>=0.2.0 in /usr/local/lib/python3.6/dist-packages (from tensorflow->description2process==0.1.1) (0.2.2)\n",
            "Requirement already satisfied: astor>=0.6.0 in /usr/local/lib/python3.6/dist-packages (from tensorflow->description2process==0.1.1) (0.7.1)\n",
            "Requirement already satisfied: protobuf>=3.6.1 in /usr/local/lib/python3.6/dist-packages (from tensorflow->description2process==0.1.1) (3.7.1)\n",
            "Requirement already satisfied: tensorflow-estimator<1.14.0rc0,>=1.13.0 in /usr/local/lib/python3.6/dist-packages (from tensorflow->description2process==0.1.1) (1.13.0)\n",
            "Requirement already satisfied: absl-py>=0.1.6 in /usr/local/lib/python3.6/dist-packages (from tensorflow->description2process==0.1.1) (0.7.1)\n",
            "Requirement already satisfied: tensorboard<1.14.0,>=1.13.0 in /usr/local/lib/python3.6/dist-packages (from tensorflow->description2process==0.1.1) (1.13.1)\n",
            "Requirement already satisfied: keras-applications>=1.0.6 in /usr/local/lib/python3.6/dist-packages (from tensorflow->description2process==0.1.1) (1.0.7)\n",
            "Requirement already satisfied: wheel>=0.26 in /usr/local/lib/python3.6/dist-packages (from tensorflow->description2process==0.1.1) (0.33.4)\n",
            "Requirement already satisfied: grpcio>=1.8.6 in /usr/local/lib/python3.6/dist-packages (from tensorflow->description2process==0.1.1) (1.15.0)\n",
            "Requirement already satisfied: greenlet>=0.4.14; platform_python_implementation == \"CPython\" in /usr/local/lib/python3.6/dist-packages (from gevent->tensor2tensor->description2process==0.1.1) (0.4.15)\n",
            "Requirement already satisfied: certifi>=2017.4.17 in /usr/local/lib/python3.6/dist-packages (from requests->tensor2tensor->description2process==0.1.1) (2019.3.9)\n",
            "Requirement already satisfied: urllib3<1.25,>=1.21.1 in /usr/local/lib/python3.6/dist-packages (from requests->tensor2tensor->description2process==0.1.1) (1.24.3)\n",
            "Requirement already satisfied: chardet<3.1.0,>=3.0.2 in /usr/local/lib/python3.6/dist-packages (from requests->tensor2tensor->description2process==0.1.1) (3.0.4)\n",
            "Requirement already satisfied: idna<2.9,>=2.5 in /usr/local/lib/python3.6/dist-packages (from requests->tensor2tensor->description2process==0.1.1) (2.8)\n",
            "Requirement already satisfied: Jinja2>=2.10 in /usr/local/lib/python3.6/dist-packages (from flask->tensor2tensor->description2process==0.1.1) (2.10.1)\n",
            "Requirement already satisfied: Werkzeug>=0.14 in /usr/local/lib/python3.6/dist-packages (from flask->tensor2tensor->description2process==0.1.1) (0.15.2)\n",
            "Requirement already satisfied: click>=5.1 in /usr/local/lib/python3.6/dist-packages (from flask->tensor2tensor->description2process==0.1.1) (7.0)\n",
            "Requirement already satisfied: itsdangerous>=0.24 in /usr/local/lib/python3.6/dist-packages (from flask->tensor2tensor->description2process==0.1.1) (1.1.0)\n",
            "Requirement already satisfied: mpmath>=0.19 in /usr/local/lib/python3.6/dist-packages (from sympy->tensor2tensor->description2process==0.1.1) (1.1.0)\n",
            "Requirement already satisfied: rsa>=3.1.4 in /usr/local/lib/python3.6/dist-packages (from oauth2client->tensor2tensor->description2process==0.1.1) (3.4.2)\n",
            "Requirement already satisfied: httplib2>=0.9.1 in /usr/local/lib/python3.6/dist-packages (from oauth2client->tensor2tensor->description2process==0.1.1) (0.11.3)\n",
            "Requirement already satisfied: pyasn1-modules>=0.0.5 in /usr/local/lib/python3.6/dist-packages (from oauth2client->tensor2tensor->description2process==0.1.1) (0.2.5)\n",
            "Requirement already satisfied: pyasn1>=0.1.7 in /usr/local/lib/python3.6/dist-packages (from oauth2client->tensor2tensor->description2process==0.1.1) (0.4.5)\n",
            "Requirement already satisfied: wrapt in /usr/local/lib/python3.6/dist-packages (from tfds-nightly->tensor2tensor->description2process==0.1.1) (1.10.11)\n",
            "Requirement already satisfied: psutil in /usr/local/lib/python3.6/dist-packages (from tfds-nightly->tensor2tensor->description2process==0.1.1) (5.4.8)\n",
            "Requirement already satisfied: dill in /usr/local/lib/python3.6/dist-packages (from tfds-nightly->tensor2tensor->description2process==0.1.1) (0.2.9)\n",
            "Requirement already satisfied: tensorflow-metadata in /usr/local/lib/python3.6/dist-packages (from tfds-nightly->tensor2tensor->description2process==0.1.1) (0.13.0)\n",
            "Requirement already satisfied: promise in /usr/local/lib/python3.6/dist-packages (from tfds-nightly->tensor2tensor->description2process==0.1.1) (2.2.1)\n",
            "Requirement already satisfied: pyglet>=1.2.0 in /usr/local/lib/python3.6/dist-packages (from gym->tensor2tensor->description2process==0.1.1) (1.3.2)\n",
            "Requirement already satisfied: uritemplate<4dev,>=3.0.0 in /usr/local/lib/python3.6/dist-packages (from google-api-python-client->tensor2tensor->description2process==0.1.1) (3.0.0)\n",
            "Requirement already satisfied: colorama<=0.3.9,>=0.2.5 in /usr/local/lib/python3.6/dist-packages (from awscli>=1.11.91->allennlp->description2process==0.1.1) (0.3.9)\n",
            "Collecting botocore==1.12.149 (from awscli>=1.11.91->allennlp->description2process==0.1.1)\n",
            "\u001b[?25l  Downloading https://files.pythonhosted.org/packages/6c/42/23072035de597e566eb007835e640936af1a7379bb8051400a097e64c18d/botocore-1.12.149-py2.py3-none-any.whl (5.4MB)\n",
            "\u001b[K     |████████████████████████████████| 5.4MB 22.3MB/s \n",
            "\u001b[?25hRequirement already satisfied: docutils>=0.10 in /usr/local/lib/python3.6/dist-packages (from awscli>=1.11.91->allennlp->description2process==0.1.1) (0.14)\n",
            "Requirement already satisfied: s3transfer<0.3.0,>=0.2.0 in /usr/local/lib/python3.6/dist-packages (from awscli>=1.11.91->allennlp->description2process==0.1.1) (0.2.0)\n",
            "Requirement already satisfied: PyYAML<=3.13,>=3.10 in /usr/local/lib/python3.6/dist-packages (from awscli>=1.11.91->allennlp->description2process==0.1.1) (3.13)\n",
            "Requirement already satisfied: jmespath<1.0.0,>=0.7.1 in /usr/local/lib/python3.6/dist-packages (from boto3->allennlp->description2process==0.1.1) (0.9.4)\n",
            "Requirement already satisfied: python-jose<4.0.0 in /usr/local/lib/python3.6/dist-packages (from moto>=1.3.4->allennlp->description2process==0.1.1) (3.0.1)\n",
            "Requirement already satisfied: cfn-lint in /usr/local/lib/python3.6/dist-packages (from moto>=1.3.4->allennlp->description2process==0.1.1) (0.20.2)\n",
            "Requirement already satisfied: jsondiff==1.1.2 in /usr/local/lib/python3.6/dist-packages (from moto>=1.3.4->allennlp->description2process==0.1.1) (1.1.2)\n",
            "Requirement already satisfied: boto>=2.36.0 in /usr/local/lib/python3.6/dist-packages (from moto>=1.3.4->allennlp->description2process==0.1.1) (2.49.0)\n",
            "Requirement already satisfied: cryptography>=2.3.0 in /usr/local/lib/python3.6/dist-packages (from moto>=1.3.4->allennlp->description2process==0.1.1) (2.6.1)\n",
            "Requirement already satisfied: mock in /usr/local/lib/python3.6/dist-packages (from moto>=1.3.4->allennlp->description2process==0.1.1) (3.0.5)\n",
            "Requirement already satisfied: docker>=2.5.1 in /usr/local/lib/python3.6/dist-packages (from moto>=1.3.4->allennlp->description2process==0.1.1) (3.7.2)\n",
            "Requirement already satisfied: aws-xray-sdk!=0.96,>=0.93 in /usr/local/lib/python3.6/dist-packages (from moto>=1.3.4->allennlp->description2process==0.1.1) (2.4.2)\n",
            "Requirement already satisfied: python-dateutil<3.0.0,>=2.1 in /usr/local/lib/python3.6/dist-packages (from moto>=1.3.4->allennlp->description2process==0.1.1) (2.5.3)\n",
            "Requirement already satisfied: xmltodict in /usr/local/lib/python3.6/dist-packages (from moto>=1.3.4->allennlp->description2process==0.1.1) (0.12.0)\n",
            "Requirement already satisfied: regex in /usr/local/lib/python3.6/dist-packages (from pytorch-pretrained-bert>=0.6.0->allennlp->description2process==0.1.1) (2018.1.10)\n",
            "Requirement already satisfied: wcwidth in /usr/local/lib/python3.6/dist-packages (from ftfy->allennlp->description2process==0.1.1) (0.1.7)\n",
            "Requirement already satisfied: atomicwrites>=1.0 in /usr/local/lib/python3.6/dist-packages (from pytest->allennlp->description2process==0.1.1) (1.3.0)\n",
            "Requirement already satisfied: setuptools in /usr/local/lib/python3.6/dist-packages (from pytest->allennlp->description2process==0.1.1) (41.0.1)\n",
            "Requirement already satisfied: py>=1.5.0 in /usr/local/lib/python3.6/dist-packages (from pytest->allennlp->description2process==0.1.1) (1.8.0)\n",
            "Requirement already satisfied: attrs>=17.4.0 in /usr/local/lib/python3.6/dist-packages (from pytest->allennlp->description2process==0.1.1) (19.1.0)\n",
            "Requirement already satisfied: pluggy<0.8,>=0.5 in /usr/local/lib/python3.6/dist-packages (from pytest->allennlp->description2process==0.1.1) (0.7.1)\n",
            "Requirement already satisfied: more-itertools>=4.0.0 in /usr/local/lib/python3.6/dist-packages (from pytest->allennlp->description2process==0.1.1) (7.0.0)\n",
            "Requirement already satisfied: sphinx>=1.6.5 in /usr/local/lib/python3.6/dist-packages (from numpydoc>=0.8.0->allennlp->description2process==0.1.1) (1.8.5)\n",
            "Requirement already satisfied: pyparsing!=2.0.4,!=2.1.2,!=2.1.6,>=2.0.1 in /usr/local/lib/python3.6/dist-packages (from matplotlib>=2.2.3->allennlp->description2process==0.1.1) (2.4.0)\n",
            "Requirement already satisfied: kiwisolver>=1.0.1 in /usr/local/lib/python3.6/dist-packages (from matplotlib>=2.2.3->allennlp->description2process==0.1.1) (1.1.0)\n",
            "Requirement already satisfied: cycler>=0.10 in /usr/local/lib/python3.6/dist-packages (from matplotlib>=2.2.3->allennlp->description2process==0.1.1) (0.10.0)\n",
            "Requirement already satisfied: markdown>=2.6.8 in /usr/local/lib/python3.6/dist-packages (from tensorboard<1.14.0,>=1.13.0->tensorflow->description2process==0.1.1) (3.1)\n",
            "Requirement already satisfied: MarkupSafe>=0.23 in /usr/local/lib/python3.6/dist-packages (from Jinja2>=2.10->flask->tensor2tensor->description2process==0.1.1) (1.1.1)\n",
            "Requirement already satisfied: googleapis-common-protos in /usr/local/lib/python3.6/dist-packages (from tensorflow-metadata->tfds-nightly->tensor2tensor->description2process==0.1.1) (1.5.10)\n",
            "Requirement already satisfied: ecdsa<1.0 in /usr/local/lib/python3.6/dist-packages (from python-jose<4.0.0->moto>=1.3.4->allennlp->description2process==0.1.1) (0.13.2)\n",
            "Requirement already satisfied: aws-sam-translator>=1.10.0 in /usr/local/lib/python3.6/dist-packages (from cfn-lint->moto>=1.3.4->allennlp->description2process==0.1.1) (1.11.0)\n",
            "Requirement already satisfied: jsonpatch in /usr/local/lib/python3.6/dist-packages (from cfn-lint->moto>=1.3.4->allennlp->description2process==0.1.1) (1.23)\n",
            "Requirement already satisfied: cffi!=1.11.3,>=1.8 in /usr/local/lib/python3.6/dist-packages (from cryptography>=2.3.0->moto>=1.3.4->allennlp->description2process==0.1.1) (1.12.3)\n",
            "Requirement already satisfied: asn1crypto>=0.21.0 in /usr/local/lib/python3.6/dist-packages (from cryptography>=2.3.0->moto>=1.3.4->allennlp->description2process==0.1.1) (0.24.0)\n",
            "Requirement already satisfied: websocket-client>=0.32.0 in /usr/local/lib/python3.6/dist-packages (from docker>=2.5.1->moto>=1.3.4->allennlp->description2process==0.1.1) (0.56.0)\n",
            "Requirement already satisfied: docker-pycreds>=0.4.0 in /usr/local/lib/python3.6/dist-packages (from docker>=2.5.1->moto>=1.3.4->allennlp->description2process==0.1.1) (0.4.0)\n",
            "Requirement already satisfied: jsonpickle in /usr/local/lib/python3.6/dist-packages (from aws-xray-sdk!=0.96,>=0.93->moto>=1.3.4->allennlp->description2process==0.1.1) (1.1)\n",
            "Requirement already satisfied: snowballstemmer>=1.1 in /usr/local/lib/python3.6/dist-packages (from sphinx>=1.6.5->numpydoc>=0.8.0->allennlp->description2process==0.1.1) (1.2.1)\n",
            "Requirement already satisfied: Pygments>=2.0 in /usr/local/lib/python3.6/dist-packages (from sphinx>=1.6.5->numpydoc>=0.8.0->allennlp->description2process==0.1.1) (2.1.3)\n",
            "Requirement already satisfied: imagesize in /usr/local/lib/python3.6/dist-packages (from sphinx>=1.6.5->numpydoc>=0.8.0->allennlp->description2process==0.1.1) (1.1.0)\n",
            "Requirement already satisfied: babel!=2.0,>=1.3 in /usr/local/lib/python3.6/dist-packages (from sphinx>=1.6.5->numpydoc>=0.8.0->allennlp->description2process==0.1.1) (2.6.0)\n",
            "Requirement already satisfied: packaging in /usr/local/lib/python3.6/dist-packages (from sphinx>=1.6.5->numpydoc>=0.8.0->allennlp->description2process==0.1.1) (19.0)\n",
            "Requirement already satisfied: sphinxcontrib-websupport in /usr/local/lib/python3.6/dist-packages (from sphinx>=1.6.5->numpydoc>=0.8.0->allennlp->description2process==0.1.1) (1.1.0)\n",
            "Requirement already satisfied: alabaster<0.8,>=0.7 in /usr/local/lib/python3.6/dist-packages (from sphinx>=1.6.5->numpydoc>=0.8.0->allennlp->description2process==0.1.1) (0.7.12)\n",
            "Requirement already satisfied: jsonpointer>=1.9 in /usr/local/lib/python3.6/dist-packages (from jsonpatch->cfn-lint->moto>=1.3.4->allennlp->description2process==0.1.1) (2.0)\n",
            "Requirement already satisfied: pycparser in /usr/local/lib/python3.6/dist-packages (from cffi!=1.11.3,>=1.8->cryptography>=2.3.0->moto>=1.3.4->allennlp->description2process==0.1.1) (2.19)\n",
            "Installing collected packages: description2process, botocore\n",
            "  Found existing installation: botocore 1.12.146\n",
            "    Uninstalling botocore-1.12.146:\n",
            "      Successfully uninstalled botocore-1.12.146\n",
            "Successfully installed botocore-1.12.149 description2process-0.1.1\n"
          ],
          "name": "stdout"
        }
      ]
    },
    {
      "cell_type": "markdown",
      "metadata": {
        "id": "AHfFoLo0P9dk",
        "colab_type": "text"
      },
      "source": [
        "## Data generation\n"
      ]
    },
    {
      "cell_type": "code",
      "metadata": {
        "id": "Vhh1p5mtEUx-",
        "colab_type": "code",
        "outputId": "59d43858-55e7-43f5-89d7-52163e411a5b",
        "colab": {
          "base_uri": "https://localhost:8080/",
          "height": 1924
        }
      },
      "source": [
        "import description2process as d2p"
      ],
      "execution_count": 0,
      "outputs": [
        {
          "output_type": "stream",
          "text": [
            "\n",
            "WARNING: The TensorFlow contrib module will not be included in TensorFlow 2.0.\n",
            "For more information, please see:\n",
            "  * https://github.com/tensorflow/community/blob/master/rfcs/20180907-contrib-sunset.md\n",
            "  * https://github.com/tensorflow/addons\n",
            "If you depend on functionality not listed there, please file an issue.\n",
            "\n"
          ],
          "name": "stdout"
        },
        {
          "output_type": "stream",
          "text": [
            "100%|██████████| 40155833/40155833 [00:00<00:00, 68611238.70B/s]\n"
          ],
          "name": "stderr"
        },
        {
          "output_type": "stream",
          "text": [
            "\u001b[38;5;2m✔ Download and installation successful\u001b[0m\n",
            "You can now load the model via spacy.load('en_core_web_sm')\n",
            "\u001b[38;5;2m✔ Linking successful\u001b[0m\n",
            "/usr/local/lib/python3.6/dist-packages/en_core_web_sm -->\n",
            "/usr/local/lib/python3.6/dist-packages/spacy/data/en\n",
            "You can now load the model via spacy.load('en')\n",
            "[nltk_data] Downloading package benepar_en to /root/nltk_data...\n",
            "[nltk_data] Downloading package punkt to /root/nltk_data...\n",
            "[nltk_data]   Unzipping tokenizers/punkt.zip.\n",
            "[nltk_data] Downloading package averaged_perceptron_tagger to\n",
            "[nltk_data]     /root/nltk_data...\n",
            "[nltk_data]   Unzipping taggers/averaged_perceptron_tagger.zip.\n",
            "\u001b[38;5;2m✔ Download and installation successful\u001b[0m\n",
            "You can now load the model via spacy.load('en_core_web_sm')\n",
            "\u001b[38;5;2m✔ Linking successful\u001b[0m\n",
            "/usr/local/lib/python3.6/dist-packages/en_core_web_sm -->\n",
            "/usr/local/lib/python3.6/dist-packages/spacy/data/en\n",
            "You can now load the model via spacy.load('en')\n",
            "WARNING:tensorflow:From /usr/local/lib/python3.6/dist-packages/tensorflow/contrib/predictor/saved_model_predictor.py:153: load (from tensorflow.python.saved_model.loader_impl) is deprecated and will be removed in a future version.\n",
            "Instructions for updating:\n",
            "This function will only be available through the v1 compatibility library as tf.compat.v1.saved_model.loader.load or tf.compat.v1.saved_model.load. There will be a new function for importing SavedModels in Tensorflow 2.0.\n",
            "WARNING:tensorflow:From /usr/local/lib/python3.6/dist-packages/tensorflow/python/training/saver.py:1266: checkpoint_exists (from tensorflow.python.training.checkpoint_management) is deprecated and will be removed in a future version.\n",
            "Instructions for updating:\n",
            "Use standard file APIs to check for files with this prefix.\n",
            "INFO:tensorflow:Restoring parameters from USE_bis/variables/variables\n",
            "\u001b[38;5;2m✔ Download and installation successful\u001b[0m\n",
            "You can now load the model via spacy.load('en_core_web_sm')\n",
            "\u001b[38;5;2m✔ Linking successful\u001b[0m\n",
            "/usr/local/lib/python3.6/dist-packages/en_core_web_sm -->\n",
            "/usr/local/lib/python3.6/dist-packages/spacy/data/en\n",
            "You can now load the model via spacy.load('en')\n"
          ],
          "name": "stdout"
        },
        {
          "output_type": "stream",
          "text": [
            "100%|██████████| 730942854/730942854 [00:27<00:00, 26710102.44B/s]\n"
          ],
          "name": "stderr"
        },
        {
          "output_type": "stream",
          "text": [
            "[nltk_data] Downloading package wordnet to /root/nltk_data...\n",
            "[nltk_data]   Unzipping corpora/wordnet.zip.\n"
          ],
          "name": "stdout"
        },
        {
          "output_type": "stream",
          "text": [
            "Using TensorFlow backend.\n"
          ],
          "name": "stderr"
        },
        {
          "output_type": "stream",
          "text": [
            ":::MLPv0.5.0 transformer 1558004164.522319794 (/usr/local/lib/python3.6/dist-packages/tensor2tensor/models/transformer.py:59) model_hp_embedding_shared_weights: {\"vocab_size\": 1414, \"hidden_size\": 256}\n"
          ],
          "name": "stdout"
        },
        {
          "output_type": "stream",
          "text": [
            "DEBUG:mlperf_compliance::::MLPv0.5.0 transformer 1558004164.522319794 (/usr/local/lib/python3.6/dist-packages/tensor2tensor/models/transformer.py:59) model_hp_embedding_shared_weights: {\"vocab_size\": 1414, \"hidden_size\": 256}\n"
          ],
          "name": "stderr"
        },
        {
          "output_type": "stream",
          "text": [
            "INFO:tensorflow:Setting T2TModel mode to 'infer'\n"
          ],
          "name": "stdout"
        },
        {
          "output_type": "stream",
          "text": [
            "INFO:tensorflow:Setting T2TModel mode to 'infer'\n"
          ],
          "name": "stderr"
        },
        {
          "output_type": "stream",
          "text": [
            "INFO:tensorflow:Setting hparams.dropout to 0.0\n"
          ],
          "name": "stdout"
        },
        {
          "output_type": "stream",
          "text": [
            "INFO:tensorflow:Setting hparams.dropout to 0.0\n"
          ],
          "name": "stderr"
        },
        {
          "output_type": "stream",
          "text": [
            "INFO:tensorflow:Setting hparams.label_smoothing to 0.0\n"
          ],
          "name": "stdout"
        },
        {
          "output_type": "stream",
          "text": [
            "INFO:tensorflow:Setting hparams.label_smoothing to 0.0\n"
          ],
          "name": "stderr"
        },
        {
          "output_type": "stream",
          "text": [
            "INFO:tensorflow:Setting hparams.layer_prepostprocess_dropout to 0.0\n"
          ],
          "name": "stdout"
        },
        {
          "output_type": "stream",
          "text": [
            "INFO:tensorflow:Setting hparams.layer_prepostprocess_dropout to 0.0\n"
          ],
          "name": "stderr"
        },
        {
          "output_type": "stream",
          "text": [
            "INFO:tensorflow:Setting hparams.symbol_dropout to 0.0\n"
          ],
          "name": "stdout"
        },
        {
          "output_type": "stream",
          "text": [
            "INFO:tensorflow:Setting hparams.symbol_dropout to 0.0\n"
          ],
          "name": "stderr"
        },
        {
          "output_type": "stream",
          "text": [
            "INFO:tensorflow:Setting hparams.attention_dropout to 0.0\n"
          ],
          "name": "stdout"
        },
        {
          "output_type": "stream",
          "text": [
            "INFO:tensorflow:Setting hparams.attention_dropout to 0.0\n"
          ],
          "name": "stderr"
        },
        {
          "output_type": "stream",
          "text": [
            "INFO:tensorflow:Setting hparams.relu_dropout to 0.0\n"
          ],
          "name": "stdout"
        },
        {
          "output_type": "stream",
          "text": [
            "INFO:tensorflow:Setting hparams.relu_dropout to 0.0\n"
          ],
          "name": "stderr"
        },
        {
          "output_type": "stream",
          "text": [
            "WARNING:tensorflow:From /usr/local/lib/python3.6/dist-packages/tensor2tensor/utils/trainer_lib.py:278: RunConfig.__init__ (from tensorflow.contrib.learn.python.learn.estimators.run_config) is deprecated and will be removed in a future version.\n",
            "Instructions for updating:\n",
            "When switching to tf.estimator.Estimator, use tf.estimator.RunConfig instead.\n"
          ],
          "name": "stdout"
        },
        {
          "output_type": "stream",
          "text": [
            "WARNING:tensorflow:From /usr/local/lib/python3.6/dist-packages/tensor2tensor/utils/trainer_lib.py:278: RunConfig.__init__ (from tensorflow.contrib.learn.python.learn.estimators.run_config) is deprecated and will be removed in a future version.\n",
            "Instructions for updating:\n",
            "When switching to tf.estimator.Estimator, use tf.estimator.RunConfig instead.\n"
          ],
          "name": "stderr"
        },
        {
          "output_type": "stream",
          "text": [
            "INFO:tensorflow:Configuring DataParallelism to replicate the model.\n"
          ],
          "name": "stdout"
        },
        {
          "output_type": "stream",
          "text": [
            "INFO:tensorflow:Configuring DataParallelism to replicate the model.\n"
          ],
          "name": "stderr"
        },
        {
          "output_type": "stream",
          "text": [
            "INFO:tensorflow:schedule=continuous_train_and_eval\n"
          ],
          "name": "stdout"
        },
        {
          "output_type": "stream",
          "text": [
            "INFO:tensorflow:schedule=continuous_train_and_eval\n"
          ],
          "name": "stderr"
        },
        {
          "output_type": "stream",
          "text": [
            "INFO:tensorflow:worker_gpu=1\n"
          ],
          "name": "stdout"
        },
        {
          "output_type": "stream",
          "text": [
            "INFO:tensorflow:worker_gpu=1\n"
          ],
          "name": "stderr"
        },
        {
          "output_type": "stream",
          "text": [
            "INFO:tensorflow:sync=False\n"
          ],
          "name": "stdout"
        },
        {
          "output_type": "stream",
          "text": [
            "INFO:tensorflow:sync=False\n"
          ],
          "name": "stderr"
        },
        {
          "output_type": "stream",
          "text": [
            "WARNING:tensorflow:Schedule=continuous_train_and_eval. Assuming that training is running on a single machine.\n"
          ],
          "name": "stdout"
        },
        {
          "output_type": "stream",
          "text": [
            "WARNING:tensorflow:Schedule=continuous_train_and_eval. Assuming that training is running on a single machine.\n"
          ],
          "name": "stderr"
        },
        {
          "output_type": "stream",
          "text": [
            "INFO:tensorflow:datashard_devices: ['gpu:0']\n"
          ],
          "name": "stdout"
        },
        {
          "output_type": "stream",
          "text": [
            "INFO:tensorflow:datashard_devices: ['gpu:0']\n"
          ],
          "name": "stderr"
        },
        {
          "output_type": "stream",
          "text": [
            "INFO:tensorflow:caching_devices: None\n"
          ],
          "name": "stdout"
        },
        {
          "output_type": "stream",
          "text": [
            "INFO:tensorflow:caching_devices: None\n"
          ],
          "name": "stderr"
        },
        {
          "output_type": "stream",
          "text": [
            "INFO:tensorflow:ps_devices: ['gpu:0']\n"
          ],
          "name": "stdout"
        },
        {
          "output_type": "stream",
          "text": [
            "INFO:tensorflow:ps_devices: ['gpu:0']\n"
          ],
          "name": "stderr"
        },
        {
          "output_type": "stream",
          "text": [
            "WARNING:tensorflow:Using temporary folder as model directory: /tmp/tmpmu9qejnh\n"
          ],
          "name": "stdout"
        },
        {
          "output_type": "stream",
          "text": [
            "WARNING:tensorflow:Using temporary folder as model directory: /tmp/tmpmu9qejnh\n"
          ],
          "name": "stderr"
        },
        {
          "output_type": "stream",
          "text": [
            "INFO:tensorflow:Using config: {'_task_type': None, '_task_id': 0, '_cluster_spec': <tensorflow.python.training.server_lib.ClusterSpec object at 0x7f5fd6b845c0>, '_master': '', '_num_ps_replicas': 0, '_num_worker_replicas': 0, '_environment': 'local', '_is_chief': True, '_evaluation_master': '', '_train_distribute': None, '_eval_distribute': None, '_device_fn': None, '_tf_config': gpu_options {\n",
            "  per_process_gpu_memory_fraction: 1.0\n",
            "}\n",
            ", '_tf_random_seed': None, '_save_summary_steps': 100, '_save_checkpoints_secs': None, '_log_step_count_steps': 100, '_protocol': None, '_session_config': gpu_options {\n",
            "  per_process_gpu_memory_fraction: 0.95\n",
            "}\n",
            "allow_soft_placement: true\n",
            "graph_options {\n",
            "  optimizer_options {\n",
            "    global_jit_level: OFF\n",
            "  }\n",
            "}\n",
            ", '_save_checkpoints_steps': 1000, '_keep_checkpoint_max': 20, '_keep_checkpoint_every_n_hours': 10000, '_model_dir': '/tmp/tmpmu9qejnh', 'use_tpu': False, 't2t_device_info': {'num_async_replicas': 1}, 'data_parallelism': <tensor2tensor.utils.expert_utils.Parallelism object at 0x7f5fd6b84588>}\n"
          ],
          "name": "stdout"
        },
        {
          "output_type": "stream",
          "text": [
            "INFO:tensorflow:Using config: {'_task_type': None, '_task_id': 0, '_cluster_spec': <tensorflow.python.training.server_lib.ClusterSpec object at 0x7f5fd6b845c0>, '_master': '', '_num_ps_replicas': 0, '_num_worker_replicas': 0, '_environment': 'local', '_is_chief': True, '_evaluation_master': '', '_train_distribute': None, '_eval_distribute': None, '_device_fn': None, '_tf_config': gpu_options {\n",
            "  per_process_gpu_memory_fraction: 1.0\n",
            "}\n",
            ", '_tf_random_seed': None, '_save_summary_steps': 100, '_save_checkpoints_secs': None, '_log_step_count_steps': 100, '_protocol': None, '_session_config': gpu_options {\n",
            "  per_process_gpu_memory_fraction: 0.95\n",
            "}\n",
            "allow_soft_placement: true\n",
            "graph_options {\n",
            "  optimizer_options {\n",
            "    global_jit_level: OFF\n",
            "  }\n",
            "}\n",
            ", '_save_checkpoints_steps': 1000, '_keep_checkpoint_max': 20, '_keep_checkpoint_every_n_hours': 10000, '_model_dir': '/tmp/tmpmu9qejnh', 'use_tpu': False, 't2t_device_info': {'num_async_replicas': 1}, 'data_parallelism': <tensor2tensor.utils.expert_utils.Parallelism object at 0x7f5fd6b84588>}\n"
          ],
          "name": "stderr"
        },
        {
          "output_type": "stream",
          "text": [
            "WARNING:tensorflow:Estimator's model_fn (<function T2TModel.make_estimator_model_fn.<locals>.wrapping_model_fn at 0x7f5fd6ccab70>) includes params argument, but params are not passed to Estimator.\n"
          ],
          "name": "stdout"
        },
        {
          "output_type": "stream",
          "text": [
            "WARNING:tensorflow:Estimator's model_fn (<function T2TModel.make_estimator_model_fn.<locals>.wrapping_model_fn at 0x7f5fd6ccab70>) includes params argument, but params are not passed to Estimator.\n"
          ],
          "name": "stderr"
        }
      ]
    },
    {
      "cell_type": "markdown",
      "metadata": {
        "id": "kH4H3W83QmmE",
        "colab_type": "text"
      },
      "source": [
        "The following function can be used to generate one random description (from the 120 scenarios as mentioned in the paper) together with its solution in XML format. Other functions exist to generate multiple descriptions or descriptions from a particular scenario, which are not shown here. "
      ]
    },
    {
      "cell_type": "code",
      "metadata": {
        "id": "SC9T0rp0QI-O",
        "colab_type": "code",
        "outputId": "24017e8f-fa5c-4962-bd2a-fb9b261dd50f",
        "colab": {
          "base_uri": "https://localhost:8080/",
          "height": 71
        }
      },
      "source": [
        "description, solution = d2p.data_generation.get_description()\n",
        "print(description)\n",
        "print(solution)"
      ],
      "execution_count": 0,
      "outputs": [
        {
          "output_type": "stream",
          "text": [
            "While the kitchen and the sommelier are doing their tasks, the waiter readies a cart (i.e., puts a tablecloth on the cart and gathers silverware). The waiter is also responsible for non-alcoholic drinks. Once the food, wine, and cart are ready, the waiter delivers it to the guests room. The waiter returns to the room-service station. In the next step, the waiter debits the account of the guest. The waiter may wait to do the billing if he has another order to prepare or deliver.\n",
            "<act> ready cart </act>  <act> deliver to room </act> <act> return to room-service station </act>  <act> debit account </act>\n"
          ],
          "name": "stdout"
        }
      ]
    },
    {
      "cell_type": "markdown",
      "metadata": {
        "id": "lg9xXif845LP",
        "colab_type": "text"
      },
      "source": [
        "## The 8 steps of the pipeline in action"
      ]
    },
    {
      "cell_type": "markdown",
      "metadata": {
        "id": "ljlXqsQzFHWt",
        "colab_type": "text"
      },
      "source": [
        "We define an example description and also save its corresponding reference solution in the variable 'solution'."
      ]
    },
    {
      "cell_type": "code",
      "metadata": {
        "id": "wnP49QbOEjs_",
        "colab_type": "code",
        "colab": {}
      },
      "source": [
        "description = \"First the secretary clarifies the shipment method. Whenever there's a requirement for large amounts, he selects one of three logistic companies. Whenever small amounts are required, a package label is written by the secretary. Subsequently the goods can be packaged by the warehousemen. Next, the packaged goods are prepared for being picked up by the logistic company.\"\n",
        "solution = \"<act> clarify shipment method </act> <path1> <act> select one of three logistic companies </act> </path1> <path2> <act> write package label </act> </path2> <act> package goods </act> <act> prepare packaged goods </act> <act> pick up </act>\""
      ],
      "execution_count": 0,
      "outputs": []
    },
    {
      "cell_type": "markdown",
      "metadata": {
        "id": "UKvnwQlPFVpd",
        "colab_type": "text"
      },
      "source": [
        "###  1. Contraction expansion\n",
        "In case a description contains any English contractions, this step expands them back to their original form. As mentioned in the paper, this step uses a look-up dictionary rather than the more clever Pycontractions model."
      ]
    },
    {
      "cell_type": "code",
      "metadata": {
        "id": "HT9yiDIhFnRo",
        "colab_type": "code",
        "outputId": "a81dd0e1-ac10-47c3-ae64-7bea8732f4a2",
        "colab": {
          "base_uri": "https://localhost:8080/",
          "height": 34
        }
      },
      "source": [
        "description = d2p.contraction_expansion.expand_contractions(description)\n",
        "print(description)"
      ],
      "execution_count": 0,
      "outputs": [
        {
          "output_type": "stream",
          "text": [
            "First Maxime visits the bakery. Then he pays. If the bread is bad, then he throws the bread in the garbage. In the other case, he eats the bread.\n"
          ],
          "name": "stdout"
        }
      ]
    },
    {
      "cell_type": "markdown",
      "metadata": {
        "id": "E23Ea1KkF66a",
        "colab_type": "text"
      },
      "source": [
        "### 2. Coreference resolution\n",
        "In this step, coreferences are resolved. Coreference resolution is limited to the words \"he\", \"she\" and \"it\", as mentioned in the paper. "
      ]
    },
    {
      "cell_type": "code",
      "metadata": {
        "id": "KOJZeRc7FtDu",
        "colab_type": "code",
        "outputId": "4afbc063-4b39-4eec-9a5f-67098fcd349a",
        "colab": {
          "base_uri": "https://localhost:8080/",
          "height": 34
        }
      },
      "source": [
        "description = d2p.coreference_resolution.resolve_coreferences(description)\n",
        "print(description)"
      ],
      "execution_count": 0,
      "outputs": [
        {
          "output_type": "stream",
          "text": [
            "First Maxime visits the bakery. Then First Maxime pays. If the bread is bad, then First Maxime throws the bread. In the other case, First Maxime eats the bread.\n"
          ],
          "name": "stdout"
        }
      ]
    },
    {
      "cell_type": "markdown",
      "metadata": {
        "id": "qMl5HWRvGDp4",
        "colab_type": "text"
      },
      "source": [
        "### 3. Clause extraction\n",
        "Next, the full description is split up into separate clauses. A clause can be a sentence or can be a certain part of a sentence. The function below returns a list containing all the clauses."
      ]
    },
    {
      "cell_type": "code",
      "metadata": {
        "id": "D0IL5ALjFxXX",
        "colab_type": "code",
        "outputId": "e4b83744-209b-474d-f0cd-b63dfe7dea9e",
        "colab": {
          "base_uri": "https://localhost:8080/",
          "height": 34
        }
      },
      "source": [
        "clauses = d2p.clause_extraction.get_clauses(description)\n",
        "print(clauses)"
      ],
      "execution_count": 0,
      "outputs": [
        {
          "output_type": "stream",
          "text": [
            "['First maxime visits the bakery', 'Then he pays', 'If the bread is bad', 'Then he throws the bread in the garbage', 'In the other case he eats the bread']\n"
          ],
          "name": "stdout"
        }
      ]
    },
    {
      "cell_type": "markdown",
      "metadata": {
        "id": "dtk8ChwEGGHU",
        "colab_type": "text"
      },
      "source": [
        "### 4. Activity recognition\n",
        "In this step, a deep learning model labels each clause obtained in the previous step as containing an activity (True) or not containing an activity (False). The function returns a Pandas dataframe with 2 columns. The first column, 'clause', returns the clauses unchanged. The second column 'label' shows the corresponding label. "
      ]
    },
    {
      "cell_type": "code",
      "metadata": {
        "id": "8gfBO4CAFzk0",
        "colab_type": "code",
        "outputId": "f73c525f-5a3a-4b9e-824a-a38963dba903",
        "colab": {
          "base_uri": "https://localhost:8080/",
          "height": 119
        }
      },
      "source": [
        "labeled_clauses_df = d2p.activity_recognition.contains_activity_list(clauses)\n",
        "print(labeled_clauses_df)"
      ],
      "execution_count": 0,
      "outputs": [
        {
          "output_type": "stream",
          "text": [
            "                                    clause  label\n",
            "0           First maxime visits the bakery   True\n",
            "1                             Then he pays   True\n",
            "2                      If the bread is bad  False\n",
            "3  Then he throws the bread in the garbage   True\n",
            "4      In the other case he eats the bread   True\n"
          ],
          "name": "stdout"
        }
      ]
    },
    {
      "cell_type": "markdown",
      "metadata": {
        "id": "TVoSrT39GGlt",
        "colab_type": "text"
      },
      "source": [
        "### 5. Activity extraction\n",
        "Subsequently, the activity is extracted for the clauses labeled as 'True' in the previous step. The extracted activity is added in a third column 'activity'. Clauses labeled as False get 'NaN' in the third column."
      ]
    },
    {
      "cell_type": "code",
      "metadata": {
        "id": "cO4bLGb2Fzbl",
        "colab_type": "code",
        "outputId": "0c397475-6018-475f-89f2-2a88c49c76b3",
        "colab": {
          "base_uri": "https://localhost:8080/",
          "height": 119
        }
      },
      "source": [
        "activities_df = d2p.activity_extraction.get_activity_df(labeled_clauses_df)\n",
        "print(activities_df)"
      ],
      "execution_count": 0,
      "outputs": [
        {
          "output_type": "stream",
          "text": [
            "                                    clause  label      activity\n",
            "0           First maxime visits the bakery   True  visit bakery\n",
            "1                             Then he pays   True          pay \n",
            "2                      If the bread is bad  False           NaN\n",
            "3  Then he throws the bread in the garbage   True   throw bread\n",
            "4      In the other case he eats the bread   True     eat bread\n"
          ],
          "name": "stdout"
        }
      ]
    },
    {
      "cell_type": "markdown",
      "metadata": {
        "id": "EjrhmFBAGHAK",
        "colab_type": "text"
      },
      "source": [
        "### 6. Create semi-structured description\n",
        "In the description, this function looks for the 'activity' clauses (as obtained in the activity recognition step). An activity clause that is found in the description is replaced by the extracted activity (as obtained in the activity extraction step) between XML tags \\<act> and \\</act>. Predefined conjunctions are not replaced in the process. "
      ]
    },
    {
      "cell_type": "code",
      "metadata": {
        "id": "MPCLCaDvFzQQ",
        "colab_type": "code",
        "outputId": "16083274-069a-4dd4-dfc5-50d5dfda085f",
        "colab": {
          "base_uri": "https://localhost:8080/",
          "height": 34
        }
      },
      "source": [
        "str_descr = d2p.structured_description.get_structured_description(description, activities_df)\n",
        "print(str_descr)"
      ],
      "execution_count": 0,
      "outputs": [
        {
          "output_type": "stream",
          "text": [
            "first <act> visit bakery </act>  then <act> pay  </act>  If the bread is bad then <act> throw bread </act>   <act> eat bread </act> \n"
          ],
          "name": "stdout"
        }
      ]
    },
    {
      "cell_type": "markdown",
      "metadata": {
        "id": "FiVfqtpTGcZG",
        "colab_type": "text"
      },
      "source": [
        "### 7. Transform to XML format\n",
        "The Transformer model translates the semi-structured description into a complete process model in XML format. Currently, log information that is part of the Transformer is still shown when calling the 'structured2xml' function, as can be seen below."
      ]
    },
    {
      "cell_type": "code",
      "metadata": {
        "id": "vqIvIL6YG8Ml",
        "colab_type": "code",
        "outputId": "d5528c00-a40f-4147-8415-28275fc82b7c",
        "colab": {
          "base_uri": "https://localhost:8080/",
          "height": 2298
        }
      },
      "source": [
        "xml = d2p.xml_model.structured2xml(str_descr)\n",
        "print(xml)"
      ],
      "execution_count": 0,
      "outputs": [
        {
          "output_type": "stream",
          "text": [
            "WARNING:tensorflow:From /usr/local/lib/python3.6/dist-packages/tensorflow/python/framework/op_def_library.py:263: colocate_with (from tensorflow.python.framework.ops) is deprecated and will be removed in a future version.\n",
            "Instructions for updating:\n",
            "Colocations handled automatically by placer.\n"
          ],
          "name": "stdout"
        },
        {
          "output_type": "stream",
          "text": [
            "WARNING:tensorflow:From /usr/local/lib/python3.6/dist-packages/tensorflow/python/framework/op_def_library.py:263: colocate_with (from tensorflow.python.framework.ops) is deprecated and will be removed in a future version.\n",
            "Instructions for updating:\n",
            "Colocations handled automatically by placer.\n"
          ],
          "name": "stderr"
        },
        {
          "output_type": "stream",
          "text": [
            "INFO:tensorflow:Decoding batch 0\n"
          ],
          "name": "stdout"
        },
        {
          "output_type": "stream",
          "text": [
            "INFO:tensorflow:Decoding batch 0\n"
          ],
          "name": "stderr"
        },
        {
          "output_type": "stream",
          "text": [
            "WARNING:tensorflow:From /usr/local/lib/python3.6/dist-packages/description2process/xml_model.py:296: py_func (from tensorflow.python.ops.script_ops) is deprecated and will be removed in a future version.\n",
            "Instructions for updating:\n",
            "tf.py_func is deprecated in TF V2. Instead, use\n",
            "    tf.py_function, which takes a python function which manipulates tf eager\n",
            "    tensors instead of numpy arrays. It's easy to convert a tf eager tensor to\n",
            "    an ndarray (just call tensor.numpy()) but having access to eager tensors\n",
            "    means `tf.py_function`s can use accelerators such as GPUs as well as\n",
            "    being differentiable using a gradient tape.\n",
            "    \n"
          ],
          "name": "stdout"
        },
        {
          "output_type": "stream",
          "text": [
            "WARNING:tensorflow:From /usr/local/lib/python3.6/dist-packages/description2process/xml_model.py:296: py_func (from tensorflow.python.ops.script_ops) is deprecated and will be removed in a future version.\n",
            "Instructions for updating:\n",
            "tf.py_func is deprecated in TF V2. Instead, use\n",
            "    tf.py_function, which takes a python function which manipulates tf eager\n",
            "    tensors instead of numpy arrays. It's easy to convert a tf eager tensor to\n",
            "    an ndarray (just call tensor.numpy()) but having access to eager tensors\n",
            "    means `tf.py_function`s can use accelerators such as GPUs as well as\n",
            "    being differentiable using a gradient tape.\n",
            "    \n"
          ],
          "name": "stderr"
        },
        {
          "output_type": "stream",
          "text": [
            "WARNING:tensorflow:From /usr/local/lib/python3.6/dist-packages/description2process/xml_model.py:348: to_int32 (from tensorflow.python.ops.math_ops) is deprecated and will be removed in a future version.\n",
            "Instructions for updating:\n",
            "Use tf.cast instead.\n"
          ],
          "name": "stdout"
        },
        {
          "output_type": "stream",
          "text": [
            "WARNING:tensorflow:From /usr/local/lib/python3.6/dist-packages/description2process/xml_model.py:348: to_int32 (from tensorflow.python.ops.math_ops) is deprecated and will be removed in a future version.\n",
            "Instructions for updating:\n",
            "Use tf.cast instead.\n"
          ],
          "name": "stderr"
        },
        {
          "output_type": "stream",
          "text": [
            "WARNING:tensorflow:Input graph does not use tf.data.Dataset or contain a QueueRunner. That means predict yields forever. This is probably a mistake.\n"
          ],
          "name": "stdout"
        },
        {
          "output_type": "stream",
          "text": [
            "WARNING:tensorflow:Input graph does not use tf.data.Dataset or contain a QueueRunner. That means predict yields forever. This is probably a mistake.\n"
          ],
          "name": "stderr"
        },
        {
          "output_type": "stream",
          "text": [
            "INFO:tensorflow:Calling model_fn.\n"
          ],
          "name": "stdout"
        },
        {
          "output_type": "stream",
          "text": [
            "INFO:tensorflow:Calling model_fn.\n"
          ],
          "name": "stderr"
        },
        {
          "output_type": "stream",
          "text": [
            ":::MLPv0.5.0 transformer 1557996019.735620499 (/usr/local/lib/python3.6/dist-packages/tensor2tensor/models/transformer.py:59) model_hp_embedding_shared_weights: {\"vocab_size\": 1414, \"hidden_size\": 256}\n"
          ],
          "name": "stdout"
        },
        {
          "output_type": "stream",
          "text": [
            "DEBUG:mlperf_compliance::::MLPv0.5.0 transformer 1557996019.735620499 (/usr/local/lib/python3.6/dist-packages/tensor2tensor/models/transformer.py:59) model_hp_embedding_shared_weights: {\"vocab_size\": 1414, \"hidden_size\": 256}\n"
          ],
          "name": "stderr"
        },
        {
          "output_type": "stream",
          "text": [
            "INFO:tensorflow:Setting T2TModel mode to 'infer'\n"
          ],
          "name": "stdout"
        },
        {
          "output_type": "stream",
          "text": [
            "INFO:tensorflow:Setting T2TModel mode to 'infer'\n"
          ],
          "name": "stderr"
        },
        {
          "output_type": "stream",
          "text": [
            "INFO:tensorflow:Setting hparams.dropout to 0.0\n"
          ],
          "name": "stdout"
        },
        {
          "output_type": "stream",
          "text": [
            "INFO:tensorflow:Setting hparams.dropout to 0.0\n"
          ],
          "name": "stderr"
        },
        {
          "output_type": "stream",
          "text": [
            "INFO:tensorflow:Setting hparams.label_smoothing to 0.0\n"
          ],
          "name": "stdout"
        },
        {
          "output_type": "stream",
          "text": [
            "INFO:tensorflow:Setting hparams.label_smoothing to 0.0\n"
          ],
          "name": "stderr"
        },
        {
          "output_type": "stream",
          "text": [
            "INFO:tensorflow:Setting hparams.layer_prepostprocess_dropout to 0.0\n"
          ],
          "name": "stdout"
        },
        {
          "output_type": "stream",
          "text": [
            "INFO:tensorflow:Setting hparams.layer_prepostprocess_dropout to 0.0\n"
          ],
          "name": "stderr"
        },
        {
          "output_type": "stream",
          "text": [
            "INFO:tensorflow:Setting hparams.symbol_dropout to 0.0\n"
          ],
          "name": "stdout"
        },
        {
          "output_type": "stream",
          "text": [
            "INFO:tensorflow:Setting hparams.symbol_dropout to 0.0\n"
          ],
          "name": "stderr"
        },
        {
          "output_type": "stream",
          "text": [
            "INFO:tensorflow:Setting hparams.attention_dropout to 0.0\n"
          ],
          "name": "stdout"
        },
        {
          "output_type": "stream",
          "text": [
            "INFO:tensorflow:Setting hparams.attention_dropout to 0.0\n"
          ],
          "name": "stderr"
        },
        {
          "output_type": "stream",
          "text": [
            "INFO:tensorflow:Setting hparams.relu_dropout to 0.0\n"
          ],
          "name": "stdout"
        },
        {
          "output_type": "stream",
          "text": [
            "INFO:tensorflow:Setting hparams.relu_dropout to 0.0\n"
          ],
          "name": "stderr"
        },
        {
          "output_type": "stream",
          "text": [
            "INFO:tensorflow:Beam Decoding with beam size 4\n"
          ],
          "name": "stdout"
        },
        {
          "output_type": "stream",
          "text": [
            "INFO:tensorflow:Beam Decoding with beam size 4\n"
          ],
          "name": "stderr"
        },
        {
          "output_type": "stream",
          "text": [
            "WARNING:tensorflow:From /usr/local/lib/python3.6/dist-packages/tensorflow/python/framework/function.py:1007: calling Graph.create_op (from tensorflow.python.framework.ops) with compute_shapes is deprecated and will be removed in a future version.\n",
            "Instructions for updating:\n",
            "Shapes are always computed; don't use the compute_shapes as it has no effect.\n"
          ],
          "name": "stdout"
        },
        {
          "output_type": "stream",
          "text": [
            "WARNING:tensorflow:From /usr/local/lib/python3.6/dist-packages/tensorflow/python/framework/function.py:1007: calling Graph.create_op (from tensorflow.python.framework.ops) with compute_shapes is deprecated and will be removed in a future version.\n",
            "Instructions for updating:\n",
            "Shapes are always computed; don't use the compute_shapes as it has no effect.\n"
          ],
          "name": "stderr"
        },
        {
          "output_type": "stream",
          "text": [
            "WARNING:tensorflow:From /usr/local/lib/python3.6/dist-packages/tensor2tensor/layers/modalities.py:114: to_float (from tensorflow.python.ops.math_ops) is deprecated and will be removed in a future version.\n",
            "Instructions for updating:\n",
            "Use tf.cast instead.\n"
          ],
          "name": "stdout"
        },
        {
          "output_type": "stream",
          "text": [
            "WARNING:tensorflow:From /usr/local/lib/python3.6/dist-packages/tensor2tensor/layers/modalities.py:114: to_float (from tensorflow.python.ops.math_ops) is deprecated and will be removed in a future version.\n",
            "Instructions for updating:\n",
            "Use tf.cast instead.\n"
          ],
          "name": "stderr"
        },
        {
          "output_type": "stream",
          "text": [
            ":::MLPv0.5.0 transformer 1557996020.150278330 (/usr/local/lib/python3.6/dist-packages/tensor2tensor/utils/expert_utils.py:231) model_hp_layer_postprocess_dropout: 0.0\n"
          ],
          "name": "stdout"
        },
        {
          "output_type": "stream",
          "text": [
            "DEBUG:mlperf_compliance::::MLPv0.5.0 transformer 1557996020.150278330 (/usr/local/lib/python3.6/dist-packages/tensor2tensor/utils/expert_utils.py:231) model_hp_layer_postprocess_dropout: 0.0\n"
          ],
          "name": "stderr"
        },
        {
          "output_type": "stream",
          "text": [
            "WARNING:tensorflow:From /usr/local/lib/python3.6/dist-packages/tensor2tensor/models/transformer.py:92: calling dropout (from tensorflow.python.ops.nn_ops) with keep_prob is deprecated and will be removed in a future version.\n",
            "Instructions for updating:\n",
            "Please use `rate` instead of `keep_prob`. Rate should be set to `rate = 1 - keep_prob`.\n"
          ],
          "name": "stdout"
        },
        {
          "output_type": "stream",
          "text": [
            "WARNING:tensorflow:From /usr/local/lib/python3.6/dist-packages/tensor2tensor/models/transformer.py:92: calling dropout (from tensorflow.python.ops.nn_ops) with keep_prob is deprecated and will be removed in a future version.\n",
            "Instructions for updating:\n",
            "Please use `rate` instead of `keep_prob`. Rate should be set to `rate = 1 - keep_prob`.\n"
          ],
          "name": "stderr"
        },
        {
          "output_type": "stream",
          "text": [
            ":::MLPv0.5.0 transformer 1557996020.180572271 (/usr/local/lib/python3.6/dist-packages/tensor2tensor/models/transformer.py:101) model_hp_hidden_layers: 2\n"
          ],
          "name": "stdout"
        },
        {
          "output_type": "stream",
          "text": [
            "DEBUG:mlperf_compliance::::MLPv0.5.0 transformer 1557996020.180572271 (/usr/local/lib/python3.6/dist-packages/tensor2tensor/models/transformer.py:101) model_hp_hidden_layers: 2\n"
          ],
          "name": "stderr"
        },
        {
          "output_type": "stream",
          "text": [
            ":::MLPv0.5.0 transformer 1557996020.202909946 (/usr/local/lib/python3.6/dist-packages/tensor2tensor/models/transformer.py:101) model_hp_attention_dropout: 0.0\n"
          ],
          "name": "stdout"
        },
        {
          "output_type": "stream",
          "text": [
            "DEBUG:mlperf_compliance::::MLPv0.5.0 transformer 1557996020.202909946 (/usr/local/lib/python3.6/dist-packages/tensor2tensor/models/transformer.py:101) model_hp_attention_dropout: 0.0\n"
          ],
          "name": "stderr"
        },
        {
          "output_type": "stream",
          "text": [
            ":::MLPv0.5.0 transformer 1557996020.226119518 (/usr/local/lib/python3.6/dist-packages/tensor2tensor/models/transformer.py:101) model_hp_attention_dense: {\"use_bias\": \"false\", \"num_heads\": 4, \"hidden_size\": 256}\n"
          ],
          "name": "stdout"
        },
        {
          "output_type": "stream",
          "text": [
            "DEBUG:mlperf_compliance::::MLPv0.5.0 transformer 1557996020.226119518 (/usr/local/lib/python3.6/dist-packages/tensor2tensor/models/transformer.py:101) model_hp_attention_dense: {\"use_bias\": \"false\", \"num_heads\": 4, \"hidden_size\": 256}\n"
          ],
          "name": "stderr"
        },
        {
          "output_type": "stream",
          "text": [
            "WARNING:tensorflow:From /usr/local/lib/python3.6/dist-packages/tensor2tensor/layers/common_layers.py:2926: dense (from tensorflow.python.layers.core) is deprecated and will be removed in a future version.\n",
            "Instructions for updating:\n",
            "Use keras.layers.dense instead.\n"
          ],
          "name": "stdout"
        },
        {
          "output_type": "stream",
          "text": [
            "WARNING:tensorflow:From /usr/local/lib/python3.6/dist-packages/tensor2tensor/layers/common_layers.py:2926: dense (from tensorflow.python.layers.core) is deprecated and will be removed in a future version.\n",
            "Instructions for updating:\n",
            "Use keras.layers.dense instead.\n"
          ],
          "name": "stderr"
        },
        {
          "output_type": "stream",
          "text": [
            ":::MLPv0.5.0 transformer 1557996020.505805731 (/usr/local/lib/python3.6/dist-packages/tensor2tensor/layers/transformer_layers.py:188) model_hp_ffn_filter_dense: {\"filter_size\": 512, \"use_bias\": \"True\", \"activation\": \"relu\"}\n"
          ],
          "name": "stdout"
        },
        {
          "output_type": "stream",
          "text": [
            "DEBUG:mlperf_compliance::::MLPv0.5.0 transformer 1557996020.505805731 (/usr/local/lib/python3.6/dist-packages/tensor2tensor/layers/transformer_layers.py:188) model_hp_ffn_filter_dense: {\"filter_size\": 512, \"use_bias\": \"True\", \"activation\": \"relu\"}\n"
          ],
          "name": "stderr"
        },
        {
          "output_type": "stream",
          "text": [
            ":::MLPv0.5.0 transformer 1557996020.534165859 (/usr/local/lib/python3.6/dist-packages/tensor2tensor/layers/transformer_layers.py:188) model_hp_ffn_output_dense: {\"hidden_size\": 256, \"use_bias\": \"True\"}\n"
          ],
          "name": "stdout"
        },
        {
          "output_type": "stream",
          "text": [
            "DEBUG:mlperf_compliance::::MLPv0.5.0 transformer 1557996020.534165859 (/usr/local/lib/python3.6/dist-packages/tensor2tensor/layers/transformer_layers.py:188) model_hp_ffn_output_dense: {\"hidden_size\": 256, \"use_bias\": \"True\"}\n"
          ],
          "name": "stderr"
        },
        {
          "output_type": "stream",
          "text": [
            ":::MLPv0.5.0 transformer 1557996020.559224844 (/usr/local/lib/python3.6/dist-packages/tensor2tensor/layers/transformer_layers.py:188) model_hp_relu_dropout: 0.0\n"
          ],
          "name": "stdout"
        },
        {
          "output_type": "stream",
          "text": [
            "DEBUG:mlperf_compliance::::MLPv0.5.0 transformer 1557996020.559224844 (/usr/local/lib/python3.6/dist-packages/tensor2tensor/layers/transformer_layers.py:188) model_hp_relu_dropout: 0.0\n"
          ],
          "name": "stderr"
        },
        {
          "output_type": "stream",
          "text": [
            ":::MLPv0.5.0 transformer 1557996021.263417244 (/usr/local/lib/python3.6/dist-packages/tensor2tensor/layers/transformer_layers.py:188) model_hp_ffn_filter_dense: {\"filter_size\": 512, \"use_bias\": \"True\", \"activation\": \"relu\"}\n"
          ],
          "name": "stdout"
        },
        {
          "output_type": "stream",
          "text": [
            "DEBUG:mlperf_compliance::::MLPv0.5.0 transformer 1557996021.263417244 (/usr/local/lib/python3.6/dist-packages/tensor2tensor/layers/transformer_layers.py:188) model_hp_ffn_filter_dense: {\"filter_size\": 512, \"use_bias\": \"True\", \"activation\": \"relu\"}\n"
          ],
          "name": "stderr"
        },
        {
          "output_type": "stream",
          "text": [
            ":::MLPv0.5.0 transformer 1557996021.287066698 (/usr/local/lib/python3.6/dist-packages/tensor2tensor/layers/transformer_layers.py:188) model_hp_ffn_output_dense: {\"hidden_size\": 256, \"use_bias\": \"True\"}\n"
          ],
          "name": "stdout"
        },
        {
          "output_type": "stream",
          "text": [
            "DEBUG:mlperf_compliance::::MLPv0.5.0 transformer 1557996021.287066698 (/usr/local/lib/python3.6/dist-packages/tensor2tensor/layers/transformer_layers.py:188) model_hp_ffn_output_dense: {\"hidden_size\": 256, \"use_bias\": \"True\"}\n"
          ],
          "name": "stderr"
        },
        {
          "output_type": "stream",
          "text": [
            ":::MLPv0.5.0 transformer 1557996021.309863329 (/usr/local/lib/python3.6/dist-packages/tensor2tensor/layers/transformer_layers.py:188) model_hp_relu_dropout: 0.0\n"
          ],
          "name": "stdout"
        },
        {
          "output_type": "stream",
          "text": [
            "DEBUG:mlperf_compliance::::MLPv0.5.0 transformer 1557996021.309863329 (/usr/local/lib/python3.6/dist-packages/tensor2tensor/layers/transformer_layers.py:188) model_hp_relu_dropout: 0.0\n"
          ],
          "name": "stderr"
        },
        {
          "output_type": "stream",
          "text": [
            ":::MLPv0.5.0 transformer 1557996021.417338133 (/usr/local/lib/python3.6/dist-packages/tensor2tensor/models/transformer.py:101) model_hp_norm: {\"hidden_size\": 256}\n"
          ],
          "name": "stdout"
        },
        {
          "output_type": "stream",
          "text": [
            "DEBUG:mlperf_compliance::::MLPv0.5.0 transformer 1557996021.417338133 (/usr/local/lib/python3.6/dist-packages/tensor2tensor/models/transformer.py:101) model_hp_norm: {\"hidden_size\": 256}\n"
          ],
          "name": "stderr"
        },
        {
          "output_type": "stream",
          "text": [
            ":::MLPv0.5.0 transformer 1557996022.108284235 (/usr/local/lib/python3.6/dist-packages/tensor2tensor/utils/expert_utils.py:231) model_hp_layer_postprocess_dropout: 0.0\n"
          ],
          "name": "stdout"
        },
        {
          "output_type": "stream",
          "text": [
            "DEBUG:mlperf_compliance::::MLPv0.5.0 transformer 1557996022.108284235 (/usr/local/lib/python3.6/dist-packages/tensor2tensor/utils/expert_utils.py:231) model_hp_layer_postprocess_dropout: 0.0\n"
          ],
          "name": "stderr"
        },
        {
          "output_type": "stream",
          "text": [
            ":::MLPv0.5.0 transformer 1557996022.133956194 (/usr/local/lib/python3.6/dist-packages/tensor2tensor/models/transformer.py:153) model_hp_hidden_layers: 2\n"
          ],
          "name": "stdout"
        },
        {
          "output_type": "stream",
          "text": [
            "DEBUG:mlperf_compliance::::MLPv0.5.0 transformer 1557996022.133956194 (/usr/local/lib/python3.6/dist-packages/tensor2tensor/models/transformer.py:153) model_hp_hidden_layers: 2\n"
          ],
          "name": "stderr"
        },
        {
          "output_type": "stream",
          "text": [
            ":::MLPv0.5.0 transformer 1557996022.156546116 (/usr/local/lib/python3.6/dist-packages/tensor2tensor/models/transformer.py:153) model_hp_attention_dropout: 0.0\n"
          ],
          "name": "stdout"
        },
        {
          "output_type": "stream",
          "text": [
            "DEBUG:mlperf_compliance::::MLPv0.5.0 transformer 1557996022.156546116 (/usr/local/lib/python3.6/dist-packages/tensor2tensor/models/transformer.py:153) model_hp_attention_dropout: 0.0\n"
          ],
          "name": "stderr"
        },
        {
          "output_type": "stream",
          "text": [
            ":::MLPv0.5.0 transformer 1557996022.178952217 (/usr/local/lib/python3.6/dist-packages/tensor2tensor/models/transformer.py:153) model_hp_attention_dense: {\"use_bias\": \"false\", \"num_heads\": 4, \"hidden_size\": 256}\n"
          ],
          "name": "stdout"
        },
        {
          "output_type": "stream",
          "text": [
            "DEBUG:mlperf_compliance::::MLPv0.5.0 transformer 1557996022.178952217 (/usr/local/lib/python3.6/dist-packages/tensor2tensor/models/transformer.py:153) model_hp_attention_dense: {\"use_bias\": \"false\", \"num_heads\": 4, \"hidden_size\": 256}\n"
          ],
          "name": "stderr"
        },
        {
          "output_type": "stream",
          "text": [
            ":::MLPv0.5.0 transformer 1557996022.529163361 (/usr/local/lib/python3.6/dist-packages/tensor2tensor/models/transformer.py:1295) model_hp_ffn_filter_dense: {\"filter_size\": 512, \"use_bias\": \"True\", \"activation\": \"relu\"}\n"
          ],
          "name": "stdout"
        },
        {
          "output_type": "stream",
          "text": [
            "DEBUG:mlperf_compliance::::MLPv0.5.0 transformer 1557996022.529163361 (/usr/local/lib/python3.6/dist-packages/tensor2tensor/models/transformer.py:1295) model_hp_ffn_filter_dense: {\"filter_size\": 512, \"use_bias\": \"True\", \"activation\": \"relu\"}\n"
          ],
          "name": "stderr"
        },
        {
          "output_type": "stream",
          "text": [
            ":::MLPv0.5.0 transformer 1557996022.552323818 (/usr/local/lib/python3.6/dist-packages/tensor2tensor/models/transformer.py:1295) model_hp_ffn_output_dense: {\"hidden_size\": 256, \"use_bias\": \"True\"}\n"
          ],
          "name": "stdout"
        },
        {
          "output_type": "stream",
          "text": [
            "DEBUG:mlperf_compliance::::MLPv0.5.0 transformer 1557996022.552323818 (/usr/local/lib/python3.6/dist-packages/tensor2tensor/models/transformer.py:1295) model_hp_ffn_output_dense: {\"hidden_size\": 256, \"use_bias\": \"True\"}\n"
          ],
          "name": "stderr"
        },
        {
          "output_type": "stream",
          "text": [
            ":::MLPv0.5.0 transformer 1557996022.575400352 (/usr/local/lib/python3.6/dist-packages/tensor2tensor/models/transformer.py:1295) model_hp_relu_dropout: 0.0\n"
          ],
          "name": "stdout"
        },
        {
          "output_type": "stream",
          "text": [
            "DEBUG:mlperf_compliance::::MLPv0.5.0 transformer 1557996022.575400352 (/usr/local/lib/python3.6/dist-packages/tensor2tensor/models/transformer.py:1295) model_hp_relu_dropout: 0.0\n"
          ],
          "name": "stderr"
        },
        {
          "output_type": "stream",
          "text": [
            ":::MLPv0.5.0 transformer 1557996023.302073002 (/usr/local/lib/python3.6/dist-packages/tensor2tensor/models/transformer.py:1295) model_hp_ffn_filter_dense: {\"filter_size\": 512, \"use_bias\": \"True\", \"activation\": \"relu\"}\n"
          ],
          "name": "stdout"
        },
        {
          "output_type": "stream",
          "text": [
            "DEBUG:mlperf_compliance::::MLPv0.5.0 transformer 1557996023.302073002 (/usr/local/lib/python3.6/dist-packages/tensor2tensor/models/transformer.py:1295) model_hp_ffn_filter_dense: {\"filter_size\": 512, \"use_bias\": \"True\", \"activation\": \"relu\"}\n"
          ],
          "name": "stderr"
        },
        {
          "output_type": "stream",
          "text": [
            ":::MLPv0.5.0 transformer 1557996023.327229738 (/usr/local/lib/python3.6/dist-packages/tensor2tensor/models/transformer.py:1295) model_hp_ffn_output_dense: {\"hidden_size\": 256, \"use_bias\": \"True\"}\n"
          ],
          "name": "stdout"
        },
        {
          "output_type": "stream",
          "text": [
            "DEBUG:mlperf_compliance::::MLPv0.5.0 transformer 1557996023.327229738 (/usr/local/lib/python3.6/dist-packages/tensor2tensor/models/transformer.py:1295) model_hp_ffn_output_dense: {\"hidden_size\": 256, \"use_bias\": \"True\"}\n"
          ],
          "name": "stderr"
        },
        {
          "output_type": "stream",
          "text": [
            ":::MLPv0.5.0 transformer 1557996023.349174976 (/usr/local/lib/python3.6/dist-packages/tensor2tensor/models/transformer.py:1295) model_hp_relu_dropout: 0.0\n"
          ],
          "name": "stdout"
        },
        {
          "output_type": "stream",
          "text": [
            "DEBUG:mlperf_compliance::::MLPv0.5.0 transformer 1557996023.349174976 (/usr/local/lib/python3.6/dist-packages/tensor2tensor/models/transformer.py:1295) model_hp_relu_dropout: 0.0\n"
          ],
          "name": "stderr"
        },
        {
          "output_type": "stream",
          "text": [
            ":::MLPv0.5.0 transformer 1557996023.443914890 (/usr/local/lib/python3.6/dist-packages/tensor2tensor/models/transformer.py:153) model_hp_norm: {\"hidden_size\": 256}\n"
          ],
          "name": "stdout"
        },
        {
          "output_type": "stream",
          "text": [
            "DEBUG:mlperf_compliance::::MLPv0.5.0 transformer 1557996023.443914890 (/usr/local/lib/python3.6/dist-packages/tensor2tensor/models/transformer.py:153) model_hp_norm: {\"hidden_size\": 256}\n"
          ],
          "name": "stderr"
        },
        {
          "output_type": "stream",
          "text": [
            "INFO:tensorflow:Done calling model_fn.\n"
          ],
          "name": "stdout"
        },
        {
          "output_type": "stream",
          "text": [
            "INFO:tensorflow:Done calling model_fn.\n"
          ],
          "name": "stderr"
        },
        {
          "output_type": "stream",
          "text": [
            "INFO:tensorflow:Graph was finalized.\n"
          ],
          "name": "stdout"
        },
        {
          "output_type": "stream",
          "text": [
            "INFO:tensorflow:Graph was finalized.\n"
          ],
          "name": "stderr"
        },
        {
          "output_type": "stream",
          "text": [
            "INFO:tensorflow:Restoring parameters from ./description2process/model/model.ckpt-40000\n"
          ],
          "name": "stdout"
        },
        {
          "output_type": "stream",
          "text": [
            "INFO:tensorflow:Restoring parameters from ./description2process/model/model.ckpt-40000\n"
          ],
          "name": "stderr"
        },
        {
          "output_type": "stream",
          "text": [
            "INFO:tensorflow:Running local_init_op.\n"
          ],
          "name": "stdout"
        },
        {
          "output_type": "stream",
          "text": [
            "INFO:tensorflow:Running local_init_op.\n"
          ],
          "name": "stderr"
        },
        {
          "output_type": "stream",
          "text": [
            "INFO:tensorflow:Done running local_init_op.\n"
          ],
          "name": "stdout"
        },
        {
          "output_type": "stream",
          "text": [
            "INFO:tensorflow:Done running local_init_op.\n"
          ],
          "name": "stderr"
        },
        {
          "output_type": "stream",
          "text": [
            "<act> visit bakery </act> <act> pay </act> <path1> <act> throw bread </act> </path1>\n"
          ],
          "name": "stdout"
        }
      ]
    },
    {
      "cell_type": "markdown",
      "metadata": {
        "id": "1qeFmTVHG8rU",
        "colab_type": "text"
      },
      "source": [
        "### 8. Visualization\n",
        "This is the visualization module that can graphically show the process model from the xml format. "
      ]
    },
    {
      "cell_type": "code",
      "metadata": {
        "id": "tH4OgqvHG9B3",
        "colab_type": "code",
        "outputId": "63c878d0-43e4-451e-dbdd-1ab7c5118396",
        "colab": {
          "base_uri": "https://localhost:8080/",
          "height": 146
        }
      },
      "source": [
        "model = d2p.visualization.xml2model(xml, png=True)\n",
        "model"
      ],
      "execution_count": 0,
      "outputs": [
        {
          "output_type": "stream",
          "text": [
            "[' pay ', ' throw bread ']\n"
          ],
          "name": "stdout"
        },
        {
          "output_type": "execute_result",
          "data": {
            "text/plain": [
              "<graphviz.dot.Digraph at 0x7fa68f5c5e10>"
            ],
            "image/svg+xml": "<?xml version=\"1.0\" encoding=\"UTF-8\" standalone=\"no\"?>\n<!DOCTYPE svg PUBLIC \"-//W3C//DTD SVG 1.1//EN\"\n \"http://www.w3.org/Graphics/SVG/1.1/DTD/svg11.dtd\">\n<!-- Generated by graphviz version 2.40.1 (20161225.0304)\n -->\n<!-- Title: %3 Pages: 1 -->\n<svg width=\"503pt\" height=\"81pt\"\n viewBox=\"0.00 0.00 503.09 80.85\" xmlns=\"http://www.w3.org/2000/svg\" xmlns:xlink=\"http://www.w3.org/1999/xlink\">\n<g id=\"graph0\" class=\"graph\" transform=\"scale(1 1) rotate(0) translate(4 76.8472)\">\n<title>%3</title>\n<polygon fill=\"#ffffff\" stroke=\"transparent\" points=\"-4,4 -4,-76.8472 499.09,-76.8472 499.09,4 -4,4\"/>\n<!-- begin -->\n<g id=\"node1\" class=\"node\">\n<title>begin</title>\n<ellipse fill=\"none\" stroke=\"#000000\" cx=\"31.8472\" cy=\"-31.8472\" rx=\"31.6951\" ry=\"31.6951\"/>\n<text text-anchor=\"middle\" x=\"31.8472\" y=\"-28.1472\" font-family=\"Times,serif\" font-size=\"14.00\" fill=\"#000000\">begin</text>\n</g>\n<!--  visit bakery  -->\n<g id=\"node2\" class=\"node\">\n<title> visit bakery </title>\n<polygon fill=\"none\" stroke=\"#000000\" points=\"190.6943,-49.8472 99.6943,-49.8472 99.6943,-13.8472 190.6943,-13.8472 190.6943,-49.8472\"/>\n<text text-anchor=\"middle\" x=\"145.1943\" y=\"-28.1472\" font-family=\"Times,serif\" font-size=\"14.00\" fill=\"#000000\"> visit bakery </text>\n</g>\n<!-- begin&#45;&gt; visit bakery  -->\n<g id=\"edge1\" class=\"edge\">\n<title>begin&#45;&gt; visit bakery </title>\n<path fill=\"none\" stroke=\"#000000\" d=\"M63.7223,-31.8472C71.723,-31.8472 80.5451,-31.8472 89.3408,-31.8472\"/>\n<polygon fill=\"#000000\" stroke=\"#000000\" points=\"89.6034,-35.3473 99.6033,-31.8472 89.6033,-28.3473 89.6034,-35.3473\"/>\n</g>\n<!--  pay  -->\n<g id=\"node3\" class=\"node\">\n<title> pay </title>\n<polygon fill=\"none\" stroke=\"#000000\" points=\"280.6943,-49.8472 226.6943,-49.8472 226.6943,-13.8472 280.6943,-13.8472 280.6943,-49.8472\"/>\n<text text-anchor=\"middle\" x=\"253.6943\" y=\"-28.1472\" font-family=\"Times,serif\" font-size=\"14.00\" fill=\"#000000\"> pay </text>\n</g>\n<!--  visit bakery &#45;&gt; pay  -->\n<g id=\"edge2\" class=\"edge\">\n<title> visit bakery &#45;&gt; pay </title>\n<path fill=\"none\" stroke=\"#000000\" d=\"M190.8937,-31.8472C199.4451,-31.8472 208.2873,-31.8472 216.5414,-31.8472\"/>\n<polygon fill=\"#000000\" stroke=\"#000000\" points=\"216.6159,-35.3473 226.6158,-31.8472 216.6158,-28.3473 216.6159,-35.3473\"/>\n</g>\n<!--  throw bread  -->\n<g id=\"node4\" class=\"node\">\n<title> throw bread </title>\n<polygon fill=\"none\" stroke=\"#000000\" points=\"409.6943,-72.8472 316.6943,-72.8472 316.6943,-36.8472 409.6943,-36.8472 409.6943,-72.8472\"/>\n<text text-anchor=\"middle\" x=\"363.1943\" y=\"-51.1472\" font-family=\"Times,serif\" font-size=\"14.00\" fill=\"#000000\"> throw bread </text>\n</g>\n<!--  pay &#45;&gt; throw bread  -->\n<g id=\"edge3\" class=\"edge\">\n<title> pay &#45;&gt; throw bread </title>\n<path fill=\"none\" stroke=\"#000000\" d=\"M280.7618,-37.5326C288.5843,-39.1757 297.4299,-41.0336 306.3498,-42.9072\"/>\n<polygon fill=\"#000000\" stroke=\"#000000\" points=\"305.8957,-46.3881 316.4016,-45.0186 307.3347,-39.5376 305.8957,-46.3881\"/>\n</g>\n<!-- end -->\n<g id=\"node5\" class=\"node\">\n<title>end</title>\n<ellipse fill=\"none\" stroke=\"#000000\" cx=\"470.3922\" cy=\"-31.8472\" rx=\"24.8972\" ry=\"24.8972\"/>\n<text text-anchor=\"middle\" x=\"470.3922\" y=\"-28.1472\" font-family=\"Times,serif\" font-size=\"14.00\" fill=\"#000000\">end</text>\n</g>\n<!--  pay &#45;&gt;end -->\n<g id=\"edge5\" class=\"edge\">\n<title> pay &#45;&gt;end</title>\n<path fill=\"none\" stroke=\"#000000\" d=\"M280.9651,-29.7372C292.0446,-28.9787 304.9736,-28.2189 316.6943,-27.8472 358.0069,-26.537 368.3834,-26.4874 409.6943,-27.8472 418.0987,-28.1238 427.1471,-28.6153 435.6257,-29.1613\"/>\n<polygon fill=\"#000000\" stroke=\"#000000\" points=\"435.3882,-32.6531 445.6037,-29.8435 435.8658,-25.6694 435.3882,-32.6531\"/>\n</g>\n<!--  throw bread &#45;&gt;end -->\n<g id=\"edge4\" class=\"edge\">\n<title> throw bread &#45;&gt;end</title>\n<path fill=\"none\" stroke=\"#000000\" d=\"M409.901,-44.8259C418.8059,-42.9154 427.9688,-40.9494 436.3845,-39.1437\"/>\n<polygon fill=\"#000000\" stroke=\"#000000\" points=\"437.1684,-42.5553 446.2117,-37.0353 435.6999,-35.711 437.1684,-42.5553\"/>\n</g>\n</g>\n</svg>\n"
          },
          "metadata": {
            "tags": []
          },
          "execution_count": 11
        }
      ]
    },
    {
      "cell_type": "markdown",
      "metadata": {
        "id": "KCo0TCQgGgyo",
        "colab_type": "text"
      },
      "source": [
        "We can also visualize the reference solution:"
      ]
    },
    {
      "cell_type": "code",
      "metadata": {
        "id": "2tGlILp8vgcU",
        "colab_type": "code",
        "outputId": "5658b951-2c0d-45e6-98af-786b202d04dd",
        "colab": {
          "base_uri": "https://localhost:8080/",
          "height": 169
        }
      },
      "source": [
        "model = d2p.visualization.xml2model(solution)\n",
        "model"
      ],
      "execution_count": 0,
      "outputs": [
        {
          "output_type": "stream",
          "text": [
            "[' throw bread in garbage ', ' eat bread ']\n"
          ],
          "name": "stdout"
        },
        {
          "output_type": "execute_result",
          "data": {
            "text/plain": [
              "<graphviz.dot.Digraph at 0x7fa68f416eb8>"
            ],
            "image/svg+xml": "<?xml version=\"1.0\" encoding=\"UTF-8\" standalone=\"no\"?>\n<!DOCTYPE svg PUBLIC \"-//W3C//DTD SVG 1.1//EN\"\n \"http://www.w3.org/Graphics/SVG/1.1/DTD/svg11.dtd\">\n<!-- Generated by graphviz version 2.40.1 (20161225.0304)\n -->\n<!-- Title: %3 Pages: 1 -->\n<svg width=\"567pt\" height=\"98pt\"\n viewBox=\"0.00 0.00 567.09 98.00\" xmlns=\"http://www.w3.org/2000/svg\" xmlns:xlink=\"http://www.w3.org/1999/xlink\">\n<g id=\"graph0\" class=\"graph\" transform=\"scale(1 1) rotate(0) translate(4 94)\">\n<title>%3</title>\n<polygon fill=\"#ffffff\" stroke=\"transparent\" points=\"-4,4 -4,-94 563.09,-94 563.09,4 -4,4\"/>\n<!-- begin -->\n<g id=\"node1\" class=\"node\">\n<title>begin</title>\n<ellipse fill=\"none\" stroke=\"#000000\" cx=\"31.8472\" cy=\"-45\" rx=\"31.6951\" ry=\"31.6951\"/>\n<text text-anchor=\"middle\" x=\"31.8472\" y=\"-41.3\" font-family=\"Times,serif\" font-size=\"14.00\" fill=\"#000000\">begin</text>\n</g>\n<!--  visit bakery  -->\n<g id=\"node2\" class=\"node\">\n<title> visit bakery </title>\n<polygon fill=\"none\" stroke=\"#000000\" points=\"190.6943,-63 99.6943,-63 99.6943,-27 190.6943,-27 190.6943,-63\"/>\n<text text-anchor=\"middle\" x=\"145.1943\" y=\"-41.3\" font-family=\"Times,serif\" font-size=\"14.00\" fill=\"#000000\"> visit bakery </text>\n</g>\n<!-- begin&#45;&gt; visit bakery  -->\n<g id=\"edge1\" class=\"edge\">\n<title>begin&#45;&gt; visit bakery </title>\n<path fill=\"none\" stroke=\"#000000\" d=\"M63.7223,-45C71.723,-45 80.5451,-45 89.3408,-45\"/>\n<polygon fill=\"#000000\" stroke=\"#000000\" points=\"89.6034,-48.5001 99.6033,-45 89.6033,-41.5001 89.6034,-48.5001\"/>\n</g>\n<!--  pay  -->\n<g id=\"node3\" class=\"node\">\n<title> pay </title>\n<polygon fill=\"none\" stroke=\"#000000\" points=\"280.6943,-63 226.6943,-63 226.6943,-27 280.6943,-27 280.6943,-63\"/>\n<text text-anchor=\"middle\" x=\"253.6943\" y=\"-41.3\" font-family=\"Times,serif\" font-size=\"14.00\" fill=\"#000000\"> pay </text>\n</g>\n<!--  visit bakery &#45;&gt; pay  -->\n<g id=\"edge2\" class=\"edge\">\n<title> visit bakery &#45;&gt; pay </title>\n<path fill=\"none\" stroke=\"#000000\" d=\"M190.8937,-45C199.4451,-45 208.2873,-45 216.5414,-45\"/>\n<polygon fill=\"#000000\" stroke=\"#000000\" points=\"216.6159,-48.5001 226.6158,-45 216.6158,-41.5001 216.6159,-48.5001\"/>\n</g>\n<!--  throw bread in garbage  -->\n<g id=\"node4\" class=\"node\">\n<title> throw bread in garbage </title>\n<polygon fill=\"none\" stroke=\"#000000\" points=\"473.6943,-90 316.6943,-90 316.6943,-54 473.6943,-54 473.6943,-90\"/>\n<text text-anchor=\"middle\" x=\"395.1943\" y=\"-68.3\" font-family=\"Times,serif\" font-size=\"14.00\" fill=\"#000000\"> throw bread in garbage </text>\n</g>\n<!--  pay &#45;&gt; throw bread in garbage  -->\n<g id=\"edge3\" class=\"edge\">\n<title> pay &#45;&gt; throw bread in garbage </title>\n<path fill=\"none\" stroke=\"#000000\" d=\"M280.977,-50.2059C288.585,-51.6576 297.2879,-53.3182 306.4201,-55.0607\"/>\n<polygon fill=\"#000000\" stroke=\"#000000\" points=\"305.9876,-58.5413 316.4664,-56.9777 307.2997,-51.6653 305.9876,-58.5413\"/>\n</g>\n<!--  eat bread  -->\n<g id=\"node5\" class=\"node\">\n<title> eat bread </title>\n<polygon fill=\"none\" stroke=\"#000000\" points=\"432.6943,-36 357.6943,-36 357.6943,0 432.6943,0 432.6943,-36\"/>\n<text text-anchor=\"middle\" x=\"395.1943\" y=\"-14.3\" font-family=\"Times,serif\" font-size=\"14.00\" fill=\"#000000\"> eat bread </text>\n</g>\n<!--  pay &#45;&gt; eat bread  -->\n<g id=\"edge4\" class=\"edge\">\n<title> pay &#45;&gt; eat bread </title>\n<path fill=\"none\" stroke=\"#000000\" d=\"M280.977,-39.7941C299.8502,-36.1929 325.4613,-31.306 347.6485,-27.0723\"/>\n<polygon fill=\"#000000\" stroke=\"#000000\" points=\"348.3985,-30.4925 357.5653,-25.1801 347.0865,-23.6165 348.3985,-30.4925\"/>\n</g>\n<!-- end -->\n<g id=\"node6\" class=\"node\">\n<title>end</title>\n<ellipse fill=\"none\" stroke=\"#000000\" cx=\"534.3922\" cy=\"-45\" rx=\"24.8972\" ry=\"24.8972\"/>\n<text text-anchor=\"middle\" x=\"534.3922\" y=\"-41.3\" font-family=\"Times,serif\" font-size=\"14.00\" fill=\"#000000\">end</text>\n</g>\n<!--  throw bread in garbage &#45;&gt;end -->\n<g id=\"edge6\" class=\"edge\">\n<title> throw bread in garbage &#45;&gt;end</title>\n<path fill=\"none\" stroke=\"#000000\" d=\"M473.7429,-56.764C483.022,-54.9642 492.0853,-53.2062 500.2582,-51.6209\"/>\n<polygon fill=\"#000000\" stroke=\"#000000\" points=\"500.933,-55.0553 510.0836,-49.7151 499.6,-48.1834 500.933,-55.0553\"/>\n</g>\n<!--  eat bread &#45;&gt;end -->\n<g id=\"edge5\" class=\"edge\">\n<title> eat bread &#45;&gt;end</title>\n<path fill=\"none\" stroke=\"#000000\" d=\"M432.8633,-25.3066C453.7068,-29.3496 479.4282,-34.3387 499.7663,-38.2837\"/>\n<polygon fill=\"#000000\" stroke=\"#000000\" points=\"499.3732,-41.7726 509.8568,-40.2409 500.7062,-34.9007 499.3732,-41.7726\"/>\n</g>\n</g>\n</svg>\n"
          },
          "metadata": {
            "tags": []
          },
          "execution_count": 12
        }
      ]
    },
    {
      "cell_type": "markdown",
      "metadata": {
        "id": "Mc_XSJoSNxa6",
        "colab_type": "text"
      },
      "source": [
        "## Evaluation of the model"
      ]
    },
    {
      "cell_type": "markdown",
      "metadata": {
        "id": "sDIIcRa5Gkbu",
        "colab_type": "text"
      },
      "source": [
        "To compare the generated XML format to the reference solution, one can compute 4 performance metrics (as mentioned in the paper) as follows:"
      ]
    },
    {
      "cell_type": "code",
      "metadata": {
        "id": "Z2uK5J_NN1Hs",
        "colab_type": "code",
        "outputId": "36809d0e-5639-43e0-fc65-b018a8176aef",
        "colab": {
          "base_uri": "https://localhost:8080/",
          "height": 85
        }
      },
      "source": [
        "score_activities, score_branches, score_bleu_tags, score_bleu_act = d2p.evaluation.get_evaluation(xml, solution)\n",
        "\n",
        "print(\"Score number of activities: {0:.0%}\".format( round( score_activities, 4) ) ) \n",
        "print(\"Score number of branches: {0:.0%}\".format( round( score_branches, 4 ) ) ) \n",
        "print(\"BLEU score on tags: {0:.0%}\".format(round( score_bleu_tags), 4 ) ) \n",
        "print(\"BLEU score on activities: {0:.0%}\".format(round( score_bleu_act), 4 ) )  "
      ],
      "execution_count": 0,
      "outputs": [
        {
          "output_type": "stream",
          "text": [
            "Score number of activities: 89%\n",
            "Score number of branches: 100%\n",
            "BLEU score on tags: 100%\n",
            "BLEU score on activities: 100%\n"
          ],
          "name": "stdout"
        }
      ]
    }
  ]
}